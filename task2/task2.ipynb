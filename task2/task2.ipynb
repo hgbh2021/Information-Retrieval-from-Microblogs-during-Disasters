{
 "cells": [
  {
   "cell_type": "markdown",
   "metadata": {
    "id": "NpnXFnMkfld3"
   },
   "source": [
    "# Installing Transformer and imports"
   ]
  },
  {
   "cell_type": "code",
   "execution_count": 101,
   "metadata": {
    "id": "NA2pnsCE84fC"
   },
   "outputs": [],
   "source": [
    "# from google.colab import drive\n",
    "\n",
    "# drive.mount('/content/gdrive/')"
   ]
  },
  {
   "cell_type": "markdown",
   "metadata": {
    "id": "30oqYwwq0UYg"
   },
   "source": [
    "Importing useful libraries"
   ]
  },
  {
   "cell_type": "code",
   "execution_count": 71,
   "metadata": {
    "id": "h78UkLjkaBbM"
   },
   "outputs": [],
   "source": [
    "import os\n",
    "import random\n",
    "import numpy as np\n",
    "import pandas as pd\n",
    "import matplotlib.pyplot as plt\n",
    "import cv2\n",
    "import os\n",
    "import math\n",
    "import tensorflow as tf\n",
    "import seaborn as sns\n",
    "# import tensorflow_datasets as tfds\n",
    "from bs4 import BeautifulSoup\n",
    "from sklearn import metrics as sk_metrics\n",
    "import nltk\n",
    "import re\n",
    "from sklearn.utils import shuffle\n",
    "import tqdm as notebook_tqdm"
   ]
  },
  {
   "cell_type": "markdown",
   "metadata": {
    "id": "4gQPIXoSfsSU"
   },
   "source": [
    "# Data read and split...for some accuracy numbers"
   ]
  },
  {
   "cell_type": "code",
   "execution_count": 72,
   "metadata": {
    "id": "yYQB6za1Wup4"
   },
   "outputs": [],
   "source": [
    "col_list = [\"id\", \"tweet\", \"labels\"]\n",
    "our_data = pd.read_csv(\"/content/symptoms_train.csv\",usecols=col_list)\n",
    "df_test = pd.read_csv(\"/content/symp_test.csv\")\n",
    "y_map = {\n",
    "    'non-reporting': 0, \n",
    "    'third-party': 1, \n",
    "    'primary': 2,\n",
    "    'secondary':3\n",
    "}\n",
    "\n",
    "our_data['Sentiment_Cat'] = our_data['labels'].map(y_map)"
   ]
  },
  {
   "cell_type": "markdown",
   "metadata": {
    "id": "YZjku-rZ0boA"
   },
   "source": [
    "## showing train data"
   ]
  },
  {
   "cell_type": "code",
   "execution_count": 73,
   "metadata": {
    "colab": {
     "base_uri": "https://localhost:8080/",
     "height": 641
    },
    "id": "WDZCx7D5i7b1",
    "outputId": "073b25fe-e287-42a1-bfaf-4bc7bfc9cf49"
   },
   "outputs": [
    {
     "data": {
      "text/html": [
       "\n",
       "  <div id=\"df-cdac9555-f5b9-4889-81f7-42f4578d5470\">\n",
       "    <div class=\"colab-df-container\">\n",
       "      <div>\n",
       "<style scoped>\n",
       "    .dataframe tbody tr th:only-of-type {\n",
       "        vertical-align: middle;\n",
       "    }\n",
       "\n",
       "    .dataframe tbody tr th {\n",
       "        vertical-align: top;\n",
       "    }\n",
       "\n",
       "    .dataframe thead th {\n",
       "        text-align: right;\n",
       "    }\n",
       "</style>\n",
       "<table border=\"1\" class=\"dataframe\">\n",
       "  <thead>\n",
       "    <tr style=\"text-align: right;\">\n",
       "      <th></th>\n",
       "      <th>id</th>\n",
       "      <th>tweet</th>\n",
       "      <th>labels</th>\n",
       "      <th>Sentiment_Cat</th>\n",
       "    </tr>\n",
       "  </thead>\n",
       "  <tbody>\n",
       "    <tr>\n",
       "      <th>0</th>\n",
       "      <td>1322367936405921794</td>\n",
       "      <td>uh oh the coughs have started covid is taking ...</td>\n",
       "      <td>non-reporting</td>\n",
       "      <td>0</td>\n",
       "    </tr>\n",
       "    <tr>\n",
       "      <th>1</th>\n",
       "      <td>1262153405553946624</td>\n",
       "      <td>Loss of smell, confusion, strokes: Does Covid-...</td>\n",
       "      <td>non-reporting</td>\n",
       "      <td>0</td>\n",
       "    </tr>\n",
       "    <tr>\n",
       "      <th>2</th>\n",
       "      <td>1324014644931878912</td>\n",
       "      <td>\"AI is being used to distinguish between asymp...</td>\n",
       "      <td>non-reporting</td>\n",
       "      <td>0</td>\n",
       "    </tr>\n",
       "    <tr>\n",
       "      <th>3</th>\n",
       "      <td>1313660639097823232</td>\n",
       "      <td>i was v ill for the last couple of days (high ...</td>\n",
       "      <td>non-reporting</td>\n",
       "      <td>0</td>\n",
       "    </tr>\n",
       "    <tr>\n",
       "      <th>4</th>\n",
       "      <td>1239223445306695680</td>\n",
       "      <td>Played warzone yesterday with a dude who caugh...</td>\n",
       "      <td>third-party</td>\n",
       "      <td>1</td>\n",
       "    </tr>\n",
       "    <tr>\n",
       "      <th>...</th>\n",
       "      <td>...</td>\n",
       "      <td>...</td>\n",
       "      <td>...</td>\n",
       "      <td>...</td>\n",
       "    </tr>\n",
       "    <tr>\n",
       "      <th>1569</th>\n",
       "      <td>1247792485239156738</td>\n",
       "      <td>@CCriadoPerez Totally. Murphy’s nose was runni...</td>\n",
       "      <td>third-party</td>\n",
       "      <td>1</td>\n",
       "    </tr>\n",
       "    <tr>\n",
       "      <th>1570</th>\n",
       "      <td>1295395700650528775</td>\n",
       "      <td>@kamera26 @Nicholaspkirby I just tested negati...</td>\n",
       "      <td>primary</td>\n",
       "      <td>2</td>\n",
       "    </tr>\n",
       "    <tr>\n",
       "      <th>1571</th>\n",
       "      <td>1241381235382984707</td>\n",
       "      <td>Lmao I have a cold or smth  And every time I c...</td>\n",
       "      <td>primary</td>\n",
       "      <td>2</td>\n",
       "    </tr>\n",
       "    <tr>\n",
       "      <th>1572</th>\n",
       "      <td>1236525788360474629</td>\n",
       "      <td>fuck the corona virus, all my homies got biebe...</td>\n",
       "      <td>secondary</td>\n",
       "      <td>3</td>\n",
       "    </tr>\n",
       "    <tr>\n",
       "      <th>1573</th>\n",
       "      <td>1286704486027792384</td>\n",
       "      <td>@115tpryan @daffyb63 @LaraCrabb My 67 year old...</td>\n",
       "      <td>secondary</td>\n",
       "      <td>3</td>\n",
       "    </tr>\n",
       "  </tbody>\n",
       "</table>\n",
       "<p>1574 rows × 4 columns</p>\n",
       "</div>\n",
       "      <button class=\"colab-df-convert\" onclick=\"convertToInteractive('df-cdac9555-f5b9-4889-81f7-42f4578d5470')\"\n",
       "              title=\"Convert this dataframe to an interactive table.\"\n",
       "              style=\"display:none;\">\n",
       "        \n",
       "  <svg xmlns=\"http://www.w3.org/2000/svg\" height=\"24px\"viewBox=\"0 0 24 24\"\n",
       "       width=\"24px\">\n",
       "    <path d=\"M0 0h24v24H0V0z\" fill=\"none\"/>\n",
       "    <path d=\"M18.56 5.44l.94 2.06.94-2.06 2.06-.94-2.06-.94-.94-2.06-.94 2.06-2.06.94zm-11 1L8.5 8.5l.94-2.06 2.06-.94-2.06-.94L8.5 2.5l-.94 2.06-2.06.94zm10 10l.94 2.06.94-2.06 2.06-.94-2.06-.94-.94-2.06-.94 2.06-2.06.94z\"/><path d=\"M17.41 7.96l-1.37-1.37c-.4-.4-.92-.59-1.43-.59-.52 0-1.04.2-1.43.59L10.3 9.45l-7.72 7.72c-.78.78-.78 2.05 0 2.83L4 21.41c.39.39.9.59 1.41.59.51 0 1.02-.2 1.41-.59l7.78-7.78 2.81-2.81c.8-.78.8-2.07 0-2.86zM5.41 20L4 18.59l7.72-7.72 1.47 1.35L5.41 20z\"/>\n",
       "  </svg>\n",
       "      </button>\n",
       "      \n",
       "  <style>\n",
       "    .colab-df-container {\n",
       "      display:flex;\n",
       "      flex-wrap:wrap;\n",
       "      gap: 12px;\n",
       "    }\n",
       "\n",
       "    .colab-df-convert {\n",
       "      background-color: #E8F0FE;\n",
       "      border: none;\n",
       "      border-radius: 50%;\n",
       "      cursor: pointer;\n",
       "      display: none;\n",
       "      fill: #1967D2;\n",
       "      height: 32px;\n",
       "      padding: 0 0 0 0;\n",
       "      width: 32px;\n",
       "    }\n",
       "\n",
       "    .colab-df-convert:hover {\n",
       "      background-color: #E2EBFA;\n",
       "      box-shadow: 0px 1px 2px rgba(60, 64, 67, 0.3), 0px 1px 3px 1px rgba(60, 64, 67, 0.15);\n",
       "      fill: #174EA6;\n",
       "    }\n",
       "\n",
       "    [theme=dark] .colab-df-convert {\n",
       "      background-color: #3B4455;\n",
       "      fill: #D2E3FC;\n",
       "    }\n",
       "\n",
       "    [theme=dark] .colab-df-convert:hover {\n",
       "      background-color: #434B5C;\n",
       "      box-shadow: 0px 1px 3px 1px rgba(0, 0, 0, 0.15);\n",
       "      filter: drop-shadow(0px 1px 2px rgba(0, 0, 0, 0.3));\n",
       "      fill: #FFFFFF;\n",
       "    }\n",
       "  </style>\n",
       "\n",
       "      <script>\n",
       "        const buttonEl =\n",
       "          document.querySelector('#df-cdac9555-f5b9-4889-81f7-42f4578d5470 button.colab-df-convert');\n",
       "        buttonEl.style.display =\n",
       "          google.colab.kernel.accessAllowed ? 'block' : 'none';\n",
       "\n",
       "        async function convertToInteractive(key) {\n",
       "          const element = document.querySelector('#df-cdac9555-f5b9-4889-81f7-42f4578d5470');\n",
       "          const dataTable =\n",
       "            await google.colab.kernel.invokeFunction('convertToInteractive',\n",
       "                                                     [key], {});\n",
       "          if (!dataTable) return;\n",
       "\n",
       "          const docLinkHtml = 'Like what you see? Visit the ' +\n",
       "            '<a target=\"_blank\" href=https://colab.research.google.com/notebooks/data_table.ipynb>data table notebook</a>'\n",
       "            + ' to learn more about interactive tables.';\n",
       "          element.innerHTML = '';\n",
       "          dataTable['output_type'] = 'display_data';\n",
       "          await google.colab.output.renderOutput(dataTable, element);\n",
       "          const docLink = document.createElement('div');\n",
       "          docLink.innerHTML = docLinkHtml;\n",
       "          element.appendChild(docLink);\n",
       "        }\n",
       "      </script>\n",
       "    </div>\n",
       "  </div>\n",
       "  "
      ],
      "text/plain": [
       "                       id                                              tweet  \\\n",
       "0     1322367936405921794  uh oh the coughs have started covid is taking ...   \n",
       "1     1262153405553946624  Loss of smell, confusion, strokes: Does Covid-...   \n",
       "2     1324014644931878912  \"AI is being used to distinguish between asymp...   \n",
       "3     1313660639097823232  i was v ill for the last couple of days (high ...   \n",
       "4     1239223445306695680  Played warzone yesterday with a dude who caugh...   \n",
       "...                   ...                                                ...   \n",
       "1569  1247792485239156738  @CCriadoPerez Totally. Murphy’s nose was runni...   \n",
       "1570  1295395700650528775  @kamera26 @Nicholaspkirby I just tested negati...   \n",
       "1571  1241381235382984707  Lmao I have a cold or smth  And every time I c...   \n",
       "1572  1236525788360474629  fuck the corona virus, all my homies got biebe...   \n",
       "1573  1286704486027792384  @115tpryan @daffyb63 @LaraCrabb My 67 year old...   \n",
       "\n",
       "             labels  Sentiment_Cat  \n",
       "0     non-reporting              0  \n",
       "1     non-reporting              0  \n",
       "2     non-reporting              0  \n",
       "3     non-reporting              0  \n",
       "4       third-party              1  \n",
       "...             ...            ...  \n",
       "1569    third-party              1  \n",
       "1570        primary              2  \n",
       "1571        primary              2  \n",
       "1572      secondary              3  \n",
       "1573      secondary              3  \n",
       "\n",
       "[1574 rows x 4 columns]"
      ]
     },
     "execution_count": 73,
     "metadata": {},
     "output_type": "execute_result"
    }
   ],
   "source": [
    "our_data"
   ]
  },
  {
   "cell_type": "markdown",
   "metadata": {
    "id": "OtgjCEVW0fDo"
   },
   "source": [
    "## showing train data"
   ]
  },
  {
   "cell_type": "code",
   "execution_count": 74,
   "metadata": {
    "colab": {
     "base_uri": "https://localhost:8080/",
     "height": 424
    },
    "id": "2XQVp8-Z-3Bn",
    "outputId": "d52920ab-3f8e-41fb-d4f0-b4567463c4ea"
   },
   "outputs": [
    {
     "data": {
      "text/html": [
       "\n",
       "  <div id=\"df-e2a2da93-8b57-4765-85ad-50f219da38a5\">\n",
       "    <div class=\"colab-df-container\">\n",
       "      <div>\n",
       "<style scoped>\n",
       "    .dataframe tbody tr th:only-of-type {\n",
       "        vertical-align: middle;\n",
       "    }\n",
       "\n",
       "    .dataframe tbody tr th {\n",
       "        vertical-align: top;\n",
       "    }\n",
       "\n",
       "    .dataframe thead th {\n",
       "        text-align: right;\n",
       "    }\n",
       "</style>\n",
       "<table border=\"1\" class=\"dataframe\">\n",
       "  <thead>\n",
       "    <tr style=\"text-align: right;\">\n",
       "      <th></th>\n",
       "      <th>id</th>\n",
       "      <th>tweet</th>\n",
       "    </tr>\n",
       "  </thead>\n",
       "  <tbody>\n",
       "    <tr>\n",
       "      <th>0</th>\n",
       "      <td>1242353332817137664t</td>\n",
       "      <td>If you think you have been exposed to COVID-19...</td>\n",
       "    </tr>\n",
       "    <tr>\n",
       "      <th>1</th>\n",
       "      <td>1244712715827982339t</td>\n",
       "      <td>@timbovisser @BBCJohnBeattie Yes, myself, wife...</td>\n",
       "    </tr>\n",
       "    <tr>\n",
       "      <th>2</th>\n",
       "      <td>1314693013810089984t</td>\n",
       "      <td>Lots of people I know having positive covid te...</td>\n",
       "    </tr>\n",
       "    <tr>\n",
       "      <th>3</th>\n",
       "      <td>1307860995692527616t</td>\n",
       "      <td>@lizzyp144 @TomAThakkar Okay but doesn’t COVID...</td>\n",
       "    </tr>\n",
       "    <tr>\n",
       "      <th>4</th>\n",
       "      <td>1277375421164613632t</td>\n",
       "      <td>We should have people w covid cough on white b...</td>\n",
       "    </tr>\n",
       "    <tr>\n",
       "      <th>...</th>\n",
       "      <td>...</td>\n",
       "      <td>...</td>\n",
       "    </tr>\n",
       "    <tr>\n",
       "      <th>395</th>\n",
       "      <td>1255420681581404163t</td>\n",
       "      <td>#bbcgms People who don't have COVID-19 cough s...</td>\n",
       "    </tr>\n",
       "    <tr>\n",
       "      <th>396</th>\n",
       "      <td>1331420575265394688t</td>\n",
       "      <td>Fatigue, shortness of breath, muscle aches, he...</td>\n",
       "    </tr>\n",
       "    <tr>\n",
       "      <th>397</th>\n",
       "      <td>1272691373645467653t</td>\n",
       "      <td>I woke up today from my nap and my throat was ...</td>\n",
       "    </tr>\n",
       "    <tr>\n",
       "      <th>398</th>\n",
       "      <td>1242065925337018369t</td>\n",
       "      <td>#coronavirusindia It's just beginning, isolati...</td>\n",
       "    </tr>\n",
       "    <tr>\n",
       "      <th>399</th>\n",
       "      <td>1314084455741632512t</td>\n",
       "      <td>@WWomenL @TheyWereStolen You beat me to it, co...</td>\n",
       "    </tr>\n",
       "  </tbody>\n",
       "</table>\n",
       "<p>400 rows × 2 columns</p>\n",
       "</div>\n",
       "      <button class=\"colab-df-convert\" onclick=\"convertToInteractive('df-e2a2da93-8b57-4765-85ad-50f219da38a5')\"\n",
       "              title=\"Convert this dataframe to an interactive table.\"\n",
       "              style=\"display:none;\">\n",
       "        \n",
       "  <svg xmlns=\"http://www.w3.org/2000/svg\" height=\"24px\"viewBox=\"0 0 24 24\"\n",
       "       width=\"24px\">\n",
       "    <path d=\"M0 0h24v24H0V0z\" fill=\"none\"/>\n",
       "    <path d=\"M18.56 5.44l.94 2.06.94-2.06 2.06-.94-2.06-.94-.94-2.06-.94 2.06-2.06.94zm-11 1L8.5 8.5l.94-2.06 2.06-.94-2.06-.94L8.5 2.5l-.94 2.06-2.06.94zm10 10l.94 2.06.94-2.06 2.06-.94-2.06-.94-.94-2.06-.94 2.06-2.06.94z\"/><path d=\"M17.41 7.96l-1.37-1.37c-.4-.4-.92-.59-1.43-.59-.52 0-1.04.2-1.43.59L10.3 9.45l-7.72 7.72c-.78.78-.78 2.05 0 2.83L4 21.41c.39.39.9.59 1.41.59.51 0 1.02-.2 1.41-.59l7.78-7.78 2.81-2.81c.8-.78.8-2.07 0-2.86zM5.41 20L4 18.59l7.72-7.72 1.47 1.35L5.41 20z\"/>\n",
       "  </svg>\n",
       "      </button>\n",
       "      \n",
       "  <style>\n",
       "    .colab-df-container {\n",
       "      display:flex;\n",
       "      flex-wrap:wrap;\n",
       "      gap: 12px;\n",
       "    }\n",
       "\n",
       "    .colab-df-convert {\n",
       "      background-color: #E8F0FE;\n",
       "      border: none;\n",
       "      border-radius: 50%;\n",
       "      cursor: pointer;\n",
       "      display: none;\n",
       "      fill: #1967D2;\n",
       "      height: 32px;\n",
       "      padding: 0 0 0 0;\n",
       "      width: 32px;\n",
       "    }\n",
       "\n",
       "    .colab-df-convert:hover {\n",
       "      background-color: #E2EBFA;\n",
       "      box-shadow: 0px 1px 2px rgba(60, 64, 67, 0.3), 0px 1px 3px 1px rgba(60, 64, 67, 0.15);\n",
       "      fill: #174EA6;\n",
       "    }\n",
       "\n",
       "    [theme=dark] .colab-df-convert {\n",
       "      background-color: #3B4455;\n",
       "      fill: #D2E3FC;\n",
       "    }\n",
       "\n",
       "    [theme=dark] .colab-df-convert:hover {\n",
       "      background-color: #434B5C;\n",
       "      box-shadow: 0px 1px 3px 1px rgba(0, 0, 0, 0.15);\n",
       "      filter: drop-shadow(0px 1px 2px rgba(0, 0, 0, 0.3));\n",
       "      fill: #FFFFFF;\n",
       "    }\n",
       "  </style>\n",
       "\n",
       "      <script>\n",
       "        const buttonEl =\n",
       "          document.querySelector('#df-e2a2da93-8b57-4765-85ad-50f219da38a5 button.colab-df-convert');\n",
       "        buttonEl.style.display =\n",
       "          google.colab.kernel.accessAllowed ? 'block' : 'none';\n",
       "\n",
       "        async function convertToInteractive(key) {\n",
       "          const element = document.querySelector('#df-e2a2da93-8b57-4765-85ad-50f219da38a5');\n",
       "          const dataTable =\n",
       "            await google.colab.kernel.invokeFunction('convertToInteractive',\n",
       "                                                     [key], {});\n",
       "          if (!dataTable) return;\n",
       "\n",
       "          const docLinkHtml = 'Like what you see? Visit the ' +\n",
       "            '<a target=\"_blank\" href=https://colab.research.google.com/notebooks/data_table.ipynb>data table notebook</a>'\n",
       "            + ' to learn more about interactive tables.';\n",
       "          element.innerHTML = '';\n",
       "          dataTable['output_type'] = 'display_data';\n",
       "          await google.colab.output.renderOutput(dataTable, element);\n",
       "          const docLink = document.createElement('div');\n",
       "          docLink.innerHTML = docLinkHtml;\n",
       "          element.appendChild(docLink);\n",
       "        }\n",
       "      </script>\n",
       "    </div>\n",
       "  </div>\n",
       "  "
      ],
      "text/plain": [
       "                       id                                              tweet\n",
       "0    1242353332817137664t  If you think you have been exposed to COVID-19...\n",
       "1    1244712715827982339t  @timbovisser @BBCJohnBeattie Yes, myself, wife...\n",
       "2    1314693013810089984t  Lots of people I know having positive covid te...\n",
       "3    1307860995692527616t  @lizzyp144 @TomAThakkar Okay but doesn’t COVID...\n",
       "4    1277375421164613632t  We should have people w covid cough on white b...\n",
       "..                    ...                                                ...\n",
       "395  1255420681581404163t  #bbcgms People who don't have COVID-19 cough s...\n",
       "396  1331420575265394688t  Fatigue, shortness of breath, muscle aches, he...\n",
       "397  1272691373645467653t  I woke up today from my nap and my throat was ...\n",
       "398  1242065925337018369t  #coronavirusindia It's just beginning, isolati...\n",
       "399  1314084455741632512t  @WWomenL @TheyWereStolen You beat me to it, co...\n",
       "\n",
       "[400 rows x 2 columns]"
      ]
     },
     "execution_count": 74,
     "metadata": {},
     "output_type": "execute_result"
    }
   ],
   "source": [
    "df_test"
   ]
  },
  {
   "cell_type": "markdown",
   "metadata": {
    "id": "q4oExSPG-alJ"
   },
   "source": [
    "## Splitting the training dataset into training and validation sets with the help of StratifiedShuffleSplit"
   ]
  },
  {
   "cell_type": "code",
   "execution_count": 75,
   "metadata": {
    "colab": {
     "base_uri": "https://localhost:8080/"
    },
    "id": "xcT7GhhQkAib",
    "outputId": "a5d89a4d-d4b7-4ddb-b36a-2574e8970e63"
   },
   "outputs": [
    {
     "name": "stdout",
     "output_type": "stream",
     "text": [
      "(1416, 4)\n",
      "(158, 4)\n",
      "(79, 4)\n",
      "(79, 4)\n"
     ]
    }
   ],
   "source": [
    "from sklearn.model_selection import StratifiedShuffleSplit\n",
    "df = our_data\n",
    "split = StratifiedShuffleSplit(n_splits=1, test_size=0.1, random_state=42)\n",
    "for train_index, test_valid_index in split.split(df, df.Sentiment_Cat):\n",
    "    train_set = df.iloc[train_index]\n",
    "    test_valid_set = df.iloc[test_valid_index]\n",
    "\n",
    "split2 = StratifiedShuffleSplit(n_splits=1, test_size=0.5, random_state=42)\n",
    "for test_index, valid_index in split2.split(test_valid_set, test_valid_set.Sentiment_Cat):\n",
    "    test_set = test_valid_set.iloc[test_index]\n",
    "    valid_set = test_valid_set.iloc[valid_index]\n",
    "\n",
    "print(train_set.shape)\n",
    "print(test_valid_set.shape)\n",
    "print(test_set.shape)\n",
    "print(valid_set.shape)\n",
    "\n",
    "df_train = train_set\n",
    "df_valid = test_valid_set\n",
    "# df_test = test_set\n",
    "# df_valid = valid_set"
   ]
  },
  {
   "cell_type": "code",
   "execution_count": 76,
   "metadata": {
    "colab": {
     "base_uri": "https://localhost:8080/"
    },
    "id": "pklk6KusbGf9",
    "outputId": "693fd4f3-86f6-491f-8d76-63d8aa73123f"
   },
   "outputs": [
    {
     "name": "stdout",
     "output_type": "stream",
     "text": [
      "<class 'pandas.core.frame.DataFrame'>\n",
      "Int64Index: 1416 entries, 853 to 1310\n",
      "Data columns (total 4 columns):\n",
      " #   Column         Non-Null Count  Dtype \n",
      "---  ------         --------------  ----- \n",
      " 0   id             1416 non-null   int64 \n",
      " 1   tweet          1416 non-null   object\n",
      " 2   labels         1416 non-null   object\n",
      " 3   Sentiment_Cat  1416 non-null   int64 \n",
      "dtypes: int64(2), object(2)\n",
      "memory usage: 55.3+ KB\n"
     ]
    }
   ],
   "source": [
    "df_train.info()"
   ]
  },
  {
   "cell_type": "code",
   "execution_count": 77,
   "metadata": {
    "colab": {
     "base_uri": "https://localhost:8080/"
    },
    "id": "BI96posMLkQ7",
    "outputId": "b902fed0-ee67-43e8-81a7-a01ffc7a679c"
   },
   "outputs": [
    {
     "data": {
      "text/plain": [
       "0    732\n",
       "2    393\n",
       "1    177\n",
       "3    114\n",
       "Name: Sentiment_Cat, dtype: int64"
      ]
     },
     "execution_count": 77,
     "metadata": {},
     "output_type": "execute_result"
    }
   ],
   "source": [
    "df_train.Sentiment_Cat.value_counts()"
   ]
  },
  {
   "cell_type": "code",
   "execution_count": 106,
   "metadata": {
    "colab": {
     "base_uri": "https://localhost:8080/"
    },
    "id": "hxH0PYoLL0rF",
    "outputId": "0cbec96a-fd32-4234-ee38-99a304e29638"
   },
   "outputs": [
    {
     "data": {
      "text/plain": [
       "0    82\n",
       "2    44\n",
       "1    19\n",
       "3    13\n",
       "Name: Sentiment_Cat, dtype: int64"
      ]
     },
     "execution_count": 106,
     "metadata": {},
     "output_type": "execute_result"
    }
   ],
   "source": [
    "df_valid.Sentiment_Cat.value_counts()"
   ]
  },
  {
   "cell_type": "code",
   "execution_count": 79,
   "metadata": {
    "colab": {
     "base_uri": "https://localhost:8080/",
     "height": 337
    },
    "id": "xhF9mMVKbnBN",
    "outputId": "6fb8874a-0cd3-4b68-fbe3-da6da72211bf"
   },
   "outputs": [
    {
     "data": {
      "text/html": [
       "\n",
       "  <div id=\"df-a72f0113-6b60-4734-859d-7ad75a8597d3\">\n",
       "    <div class=\"colab-df-container\">\n",
       "      <div>\n",
       "<style scoped>\n",
       "    .dataframe tbody tr th:only-of-type {\n",
       "        vertical-align: middle;\n",
       "    }\n",
       "\n",
       "    .dataframe tbody tr th {\n",
       "        vertical-align: top;\n",
       "    }\n",
       "\n",
       "    .dataframe thead th {\n",
       "        text-align: right;\n",
       "    }\n",
       "</style>\n",
       "<table border=\"1\" class=\"dataframe\">\n",
       "  <thead>\n",
       "    <tr style=\"text-align: right;\">\n",
       "      <th></th>\n",
       "      <th>id</th>\n",
       "      <th>tweet</th>\n",
       "      <th>labels</th>\n",
       "      <th>Sentiment_Cat</th>\n",
       "    </tr>\n",
       "  </thead>\n",
       "  <tbody>\n",
       "    <tr>\n",
       "      <th>853</th>\n",
       "      <td>1297524815125819392</td>\n",
       "      <td>my grandpa had a couple seizures yesterday and...</td>\n",
       "      <td>secondary</td>\n",
       "      <td>3</td>\n",
       "    </tr>\n",
       "    <tr>\n",
       "      <th>1290</th>\n",
       "      <td>1257891188637663232</td>\n",
       "      <td>@MumbaiPolice My family is in Chembur Camp Nea...</td>\n",
       "      <td>secondary</td>\n",
       "      <td>3</td>\n",
       "    </tr>\n",
       "    <tr>\n",
       "      <th>40</th>\n",
       "      <td>1249770473447206915</td>\n",
       "      <td>passed jeremy corbyn in the street today. i as...</td>\n",
       "      <td>third-party</td>\n",
       "      <td>1</td>\n",
       "    </tr>\n",
       "    <tr>\n",
       "      <th>877</th>\n",
       "      <td>1332394461150765065</td>\n",
       "      <td>@Mythsas I deal with social anxiety amongst ot...</td>\n",
       "      <td>primary</td>\n",
       "      <td>2</td>\n",
       "    </tr>\n",
       "    <tr>\n",
       "      <th>1475</th>\n",
       "      <td>1246793961366315009</td>\n",
       "      <td>The W.H.O is advising people to follow five si...</td>\n",
       "      <td>non-reporting</td>\n",
       "      <td>0</td>\n",
       "    </tr>\n",
       "  </tbody>\n",
       "</table>\n",
       "</div>\n",
       "      <button class=\"colab-df-convert\" onclick=\"convertToInteractive('df-a72f0113-6b60-4734-859d-7ad75a8597d3')\"\n",
       "              title=\"Convert this dataframe to an interactive table.\"\n",
       "              style=\"display:none;\">\n",
       "        \n",
       "  <svg xmlns=\"http://www.w3.org/2000/svg\" height=\"24px\"viewBox=\"0 0 24 24\"\n",
       "       width=\"24px\">\n",
       "    <path d=\"M0 0h24v24H0V0z\" fill=\"none\"/>\n",
       "    <path d=\"M18.56 5.44l.94 2.06.94-2.06 2.06-.94-2.06-.94-.94-2.06-.94 2.06-2.06.94zm-11 1L8.5 8.5l.94-2.06 2.06-.94-2.06-.94L8.5 2.5l-.94 2.06-2.06.94zm10 10l.94 2.06.94-2.06 2.06-.94-2.06-.94-.94-2.06-.94 2.06-2.06.94z\"/><path d=\"M17.41 7.96l-1.37-1.37c-.4-.4-.92-.59-1.43-.59-.52 0-1.04.2-1.43.59L10.3 9.45l-7.72 7.72c-.78.78-.78 2.05 0 2.83L4 21.41c.39.39.9.59 1.41.59.51 0 1.02-.2 1.41-.59l7.78-7.78 2.81-2.81c.8-.78.8-2.07 0-2.86zM5.41 20L4 18.59l7.72-7.72 1.47 1.35L5.41 20z\"/>\n",
       "  </svg>\n",
       "      </button>\n",
       "      \n",
       "  <style>\n",
       "    .colab-df-container {\n",
       "      display:flex;\n",
       "      flex-wrap:wrap;\n",
       "      gap: 12px;\n",
       "    }\n",
       "\n",
       "    .colab-df-convert {\n",
       "      background-color: #E8F0FE;\n",
       "      border: none;\n",
       "      border-radius: 50%;\n",
       "      cursor: pointer;\n",
       "      display: none;\n",
       "      fill: #1967D2;\n",
       "      height: 32px;\n",
       "      padding: 0 0 0 0;\n",
       "      width: 32px;\n",
       "    }\n",
       "\n",
       "    .colab-df-convert:hover {\n",
       "      background-color: #E2EBFA;\n",
       "      box-shadow: 0px 1px 2px rgba(60, 64, 67, 0.3), 0px 1px 3px 1px rgba(60, 64, 67, 0.15);\n",
       "      fill: #174EA6;\n",
       "    }\n",
       "\n",
       "    [theme=dark] .colab-df-convert {\n",
       "      background-color: #3B4455;\n",
       "      fill: #D2E3FC;\n",
       "    }\n",
       "\n",
       "    [theme=dark] .colab-df-convert:hover {\n",
       "      background-color: #434B5C;\n",
       "      box-shadow: 0px 1px 3px 1px rgba(0, 0, 0, 0.15);\n",
       "      filter: drop-shadow(0px 1px 2px rgba(0, 0, 0, 0.3));\n",
       "      fill: #FFFFFF;\n",
       "    }\n",
       "  </style>\n",
       "\n",
       "      <script>\n",
       "        const buttonEl =\n",
       "          document.querySelector('#df-a72f0113-6b60-4734-859d-7ad75a8597d3 button.colab-df-convert');\n",
       "        buttonEl.style.display =\n",
       "          google.colab.kernel.accessAllowed ? 'block' : 'none';\n",
       "\n",
       "        async function convertToInteractive(key) {\n",
       "          const element = document.querySelector('#df-a72f0113-6b60-4734-859d-7ad75a8597d3');\n",
       "          const dataTable =\n",
       "            await google.colab.kernel.invokeFunction('convertToInteractive',\n",
       "                                                     [key], {});\n",
       "          if (!dataTable) return;\n",
       "\n",
       "          const docLinkHtml = 'Like what you see? Visit the ' +\n",
       "            '<a target=\"_blank\" href=https://colab.research.google.com/notebooks/data_table.ipynb>data table notebook</a>'\n",
       "            + ' to learn more about interactive tables.';\n",
       "          element.innerHTML = '';\n",
       "          dataTable['output_type'] = 'display_data';\n",
       "          await google.colab.output.renderOutput(dataTable, element);\n",
       "          const docLink = document.createElement('div');\n",
       "          docLink.innerHTML = docLinkHtml;\n",
       "          element.appendChild(docLink);\n",
       "        }\n",
       "      </script>\n",
       "    </div>\n",
       "  </div>\n",
       "  "
      ],
      "text/plain": [
       "                       id                                              tweet  \\\n",
       "853   1297524815125819392  my grandpa had a couple seizures yesterday and...   \n",
       "1290  1257891188637663232  @MumbaiPolice My family is in Chembur Camp Nea...   \n",
       "40    1249770473447206915  passed jeremy corbyn in the street today. i as...   \n",
       "877   1332394461150765065  @Mythsas I deal with social anxiety amongst ot...   \n",
       "1475  1246793961366315009  The W.H.O is advising people to follow five si...   \n",
       "\n",
       "             labels  Sentiment_Cat  \n",
       "853       secondary              3  \n",
       "1290      secondary              3  \n",
       "40      third-party              1  \n",
       "877         primary              2  \n",
       "1475  non-reporting              0  "
      ]
     },
     "execution_count": 79,
     "metadata": {},
     "output_type": "execute_result"
    }
   ],
   "source": [
    "df_train.head()"
   ]
  },
  {
   "cell_type": "markdown",
   "metadata": {
    "id": "rGJa-lZ70q9_"
   },
   "source": [
    "## Just showing first tweet in our training set."
   ]
  },
  {
   "cell_type": "code",
   "execution_count": 80,
   "metadata": {
    "colab": {
     "base_uri": "https://localhost:8080/",
     "height": 87
    },
    "id": "1UXvi9kQve9y",
    "outputId": "234602a4-36c6-4096-aaa3-dcace1da434a"
   },
   "outputs": [
    {
     "data": {
      "application/vnd.google.colaboratory.intrinsic+json": {
       "type": "string"
      },
      "text/plain": [
       "'my grandpa had a couple seizures yesterday and ended up in the hospital. but due to covid, no one could visit. he thankfully got to come home, but knowing that he woke up confused and not knowing what was going on with no one there for him breaks my heart.'"
      ]
     },
     "execution_count": 80,
     "metadata": {},
     "output_type": "execute_result"
    }
   ],
   "source": [
    "df_train['tweet'].iloc[0]"
   ]
  },
  {
   "cell_type": "code",
   "execution_count": 81,
   "metadata": {
    "colab": {
     "base_uri": "https://localhost:8080/",
     "height": 206
    },
    "id": "r9_p4b_570Uj",
    "outputId": "ab662d61-7656-42d4-f11e-ea734d9eea9f"
   },
   "outputs": [
    {
     "data": {
      "text/html": [
       "\n",
       "  <div id=\"df-40d3c41f-79a0-45b3-969e-d399a84053ec\">\n",
       "    <div class=\"colab-df-container\">\n",
       "      <div>\n",
       "<style scoped>\n",
       "    .dataframe tbody tr th:only-of-type {\n",
       "        vertical-align: middle;\n",
       "    }\n",
       "\n",
       "    .dataframe tbody tr th {\n",
       "        vertical-align: top;\n",
       "    }\n",
       "\n",
       "    .dataframe thead th {\n",
       "        text-align: right;\n",
       "    }\n",
       "</style>\n",
       "<table border=\"1\" class=\"dataframe\">\n",
       "  <thead>\n",
       "    <tr style=\"text-align: right;\">\n",
       "      <th></th>\n",
       "      <th>id</th>\n",
       "      <th>tweet</th>\n",
       "    </tr>\n",
       "  </thead>\n",
       "  <tbody>\n",
       "    <tr>\n",
       "      <th>0</th>\n",
       "      <td>1242353332817137664t</td>\n",
       "      <td>If you think you have been exposed to COVID-19...</td>\n",
       "    </tr>\n",
       "    <tr>\n",
       "      <th>1</th>\n",
       "      <td>1244712715827982339t</td>\n",
       "      <td>@timbovisser @BBCJohnBeattie Yes, myself, wife...</td>\n",
       "    </tr>\n",
       "    <tr>\n",
       "      <th>2</th>\n",
       "      <td>1314693013810089984t</td>\n",
       "      <td>Lots of people I know having positive covid te...</td>\n",
       "    </tr>\n",
       "    <tr>\n",
       "      <th>3</th>\n",
       "      <td>1307860995692527616t</td>\n",
       "      <td>@lizzyp144 @TomAThakkar Okay but doesn’t COVID...</td>\n",
       "    </tr>\n",
       "    <tr>\n",
       "      <th>4</th>\n",
       "      <td>1277375421164613632t</td>\n",
       "      <td>We should have people w covid cough on white b...</td>\n",
       "    </tr>\n",
       "  </tbody>\n",
       "</table>\n",
       "</div>\n",
       "      <button class=\"colab-df-convert\" onclick=\"convertToInteractive('df-40d3c41f-79a0-45b3-969e-d399a84053ec')\"\n",
       "              title=\"Convert this dataframe to an interactive table.\"\n",
       "              style=\"display:none;\">\n",
       "        \n",
       "  <svg xmlns=\"http://www.w3.org/2000/svg\" height=\"24px\"viewBox=\"0 0 24 24\"\n",
       "       width=\"24px\">\n",
       "    <path d=\"M0 0h24v24H0V0z\" fill=\"none\"/>\n",
       "    <path d=\"M18.56 5.44l.94 2.06.94-2.06 2.06-.94-2.06-.94-.94-2.06-.94 2.06-2.06.94zm-11 1L8.5 8.5l.94-2.06 2.06-.94-2.06-.94L8.5 2.5l-.94 2.06-2.06.94zm10 10l.94 2.06.94-2.06 2.06-.94-2.06-.94-.94-2.06-.94 2.06-2.06.94z\"/><path d=\"M17.41 7.96l-1.37-1.37c-.4-.4-.92-.59-1.43-.59-.52 0-1.04.2-1.43.59L10.3 9.45l-7.72 7.72c-.78.78-.78 2.05 0 2.83L4 21.41c.39.39.9.59 1.41.59.51 0 1.02-.2 1.41-.59l7.78-7.78 2.81-2.81c.8-.78.8-2.07 0-2.86zM5.41 20L4 18.59l7.72-7.72 1.47 1.35L5.41 20z\"/>\n",
       "  </svg>\n",
       "      </button>\n",
       "      \n",
       "  <style>\n",
       "    .colab-df-container {\n",
       "      display:flex;\n",
       "      flex-wrap:wrap;\n",
       "      gap: 12px;\n",
       "    }\n",
       "\n",
       "    .colab-df-convert {\n",
       "      background-color: #E8F0FE;\n",
       "      border: none;\n",
       "      border-radius: 50%;\n",
       "      cursor: pointer;\n",
       "      display: none;\n",
       "      fill: #1967D2;\n",
       "      height: 32px;\n",
       "      padding: 0 0 0 0;\n",
       "      width: 32px;\n",
       "    }\n",
       "\n",
       "    .colab-df-convert:hover {\n",
       "      background-color: #E2EBFA;\n",
       "      box-shadow: 0px 1px 2px rgba(60, 64, 67, 0.3), 0px 1px 3px 1px rgba(60, 64, 67, 0.15);\n",
       "      fill: #174EA6;\n",
       "    }\n",
       "\n",
       "    [theme=dark] .colab-df-convert {\n",
       "      background-color: #3B4455;\n",
       "      fill: #D2E3FC;\n",
       "    }\n",
       "\n",
       "    [theme=dark] .colab-df-convert:hover {\n",
       "      background-color: #434B5C;\n",
       "      box-shadow: 0px 1px 3px 1px rgba(0, 0, 0, 0.15);\n",
       "      filter: drop-shadow(0px 1px 2px rgba(0, 0, 0, 0.3));\n",
       "      fill: #FFFFFF;\n",
       "    }\n",
       "  </style>\n",
       "\n",
       "      <script>\n",
       "        const buttonEl =\n",
       "          document.querySelector('#df-40d3c41f-79a0-45b3-969e-d399a84053ec button.colab-df-convert');\n",
       "        buttonEl.style.display =\n",
       "          google.colab.kernel.accessAllowed ? 'block' : 'none';\n",
       "\n",
       "        async function convertToInteractive(key) {\n",
       "          const element = document.querySelector('#df-40d3c41f-79a0-45b3-969e-d399a84053ec');\n",
       "          const dataTable =\n",
       "            await google.colab.kernel.invokeFunction('convertToInteractive',\n",
       "                                                     [key], {});\n",
       "          if (!dataTable) return;\n",
       "\n",
       "          const docLinkHtml = 'Like what you see? Visit the ' +\n",
       "            '<a target=\"_blank\" href=https://colab.research.google.com/notebooks/data_table.ipynb>data table notebook</a>'\n",
       "            + ' to learn more about interactive tables.';\n",
       "          element.innerHTML = '';\n",
       "          dataTable['output_type'] = 'display_data';\n",
       "          await google.colab.output.renderOutput(dataTable, element);\n",
       "          const docLink = document.createElement('div');\n",
       "          docLink.innerHTML = docLinkHtml;\n",
       "          element.appendChild(docLink);\n",
       "        }\n",
       "      </script>\n",
       "    </div>\n",
       "  </div>\n",
       "  "
      ],
      "text/plain": [
       "                     id                                              tweet\n",
       "0  1242353332817137664t  If you think you have been exposed to COVID-19...\n",
       "1  1244712715827982339t  @timbovisser @BBCJohnBeattie Yes, myself, wife...\n",
       "2  1314693013810089984t  Lots of people I know having positive covid te...\n",
       "3  1307860995692527616t  @lizzyp144 @TomAThakkar Okay but doesn’t COVID...\n",
       "4  1277375421164613632t  We should have people w covid cough on white b..."
      ]
     },
     "execution_count": 81,
     "metadata": {},
     "output_type": "execute_result"
    }
   ],
   "source": [
    "df_test.head()"
   ]
  },
  {
   "cell_type": "markdown",
   "metadata": {
    "id": "xf90-HVg0wah"
   },
   "source": [
    "## Converting \"sentiment_cat\" column into integer for training purpose."
   ]
  },
  {
   "cell_type": "code",
   "execution_count": 109,
   "metadata": {
    "colab": {
     "base_uri": "https://localhost:8080/"
    },
    "id": "LbVsoiYsbuYF",
    "outputId": "5ccb3097-6ca8-466e-9880-ec6a27bb4bce"
   },
   "outputs": [
    {
     "name": "stderr",
     "output_type": "stream",
     "text": [
      "<ipython-input-109-4494ca8a64af>:9: SettingWithCopyWarning: \n",
      "A value is trying to be set on a copy of a slice from a DataFrame.\n",
      "Try using .loc[row_indexer,col_indexer] = value instead\n",
      "\n",
      "See the caveats in the documentation: https://pandas.pydata.org/pandas-docs/stable/user_guide/indexing.html#returning-a-view-versus-a-copy\n",
      "  df_train['Sentiment_Cat'] = df_train['labels'].map(y_map)\n",
      "<ipython-input-109-4494ca8a64af>:10: SettingWithCopyWarning: \n",
      "A value is trying to be set on a copy of a slice from a DataFrame.\n",
      "Try using .loc[row_indexer,col_indexer] = value instead\n",
      "\n",
      "See the caveats in the documentation: https://pandas.pydata.org/pandas-docs/stable/user_guide/indexing.html#returning-a-view-versus-a-copy\n",
      "  df_valid['Sentiment_Cat'] = df_valid['labels'].map(y_map)\n"
     ]
    }
   ],
   "source": [
    "y_map = {\n",
    "    'ProVax': 0, \n",
    "    'AntiVax': 1, \n",
    "    'Neutral': 2\n",
    "}\n",
    "\n",
    "\n",
    "\n",
    "df_train['Sentiment_Cat'] = df_train['labels'].map(y_map)\n",
    "df_valid['Sentiment_Cat'] = df_valid['labels'].map(y_map)  \n"
   ]
  },
  {
   "cell_type": "markdown",
   "metadata": {
    "id": "2DzTRCQFf21N"
   },
   "source": [
    "# Pre-processing"
   ]
  },
  {
   "cell_type": "code",
   "execution_count": 83,
   "metadata": {
    "colab": {
     "base_uri": "https://localhost:8080/"
    },
    "id": "Vwhr9am41KrZ",
    "outputId": "5f0f2a64-9b68-42dd-9960-7b5729ae99e2"
   },
   "outputs": [
    {
     "name": "stderr",
     "output_type": "stream",
     "text": [
      "[nltk_data] Downloading package stopwords to /root/nltk_data...\n",
      "[nltk_data]   Package stopwords is already up-to-date!\n"
     ]
    }
   ],
   "source": [
    "import sys\n",
    "import re\n",
    "!pip install emoji --quiet\n",
    "import emoji\n",
    "!pip install contractions --quiet\n",
    "import contractions\n",
    "import nltk\n",
    "from nltk.corpus import stopwords\n",
    "nltk.download('stopwords')\n",
    "import unicodedata"
   ]
  },
  {
   "cell_type": "markdown",
   "metadata": {
    "id": "oXBfHahW06wY"
   },
   "source": [
    "## Given below is the function for Stemmizing and cleaning the tweets from training Dataset."
   ]
  },
  {
   "cell_type": "code",
   "execution_count": 110,
   "metadata": {
    "colab": {
     "base_uri": "https://localhost:8080/",
     "height": 316
    },
    "id": "n9qKs19_0pZ9",
    "outputId": "c2a3e73f-dd0c-4674-f666-9857263a2ab6"
   },
   "outputs": [
    {
     "name": "stderr",
     "output_type": "stream",
     "text": [
      "<ipython-input-110-91db9100634e>:14: SettingWithCopyWarning: \n",
      "A value is trying to be set on a copy of a slice from a DataFrame.\n",
      "Try using .loc[row_indexer,col_indexer] = value instead\n",
      "\n",
      "See the caveats in the documentation: https://pandas.pydata.org/pandas-docs/stable/user_guide/indexing.html#returning-a-view-versus-a-copy\n",
      "  df_train['tweet_cleaned'] = df_train['tweet'].apply(cleaning)\n",
      "<ipython-input-110-91db9100634e>:16: SettingWithCopyWarning: \n",
      "A value is trying to be set on a copy of a slice from a DataFrame.\n",
      "Try using .loc[row_indexer,col_indexer] = value instead\n",
      "\n",
      "See the caveats in the documentation: https://pandas.pydata.org/pandas-docs/stable/user_guide/indexing.html#returning-a-view-versus-a-copy\n",
      "  df_valid['tweet_cleaned'] = df_valid['tweet'].apply(cleaning)\n"
     ]
    },
    {
     "data": {
      "application/vnd.google.colaboratory.intrinsic+json": {
       "type": "string"
      },
      "text/plain": [
       "'my grandpa had a couple seizures yesterday and ended up in the hospital  but due to covid  no one could visit  he thankfully got to come home  but knowing that he woke up confused and not knowing what was going on with no one there for him breaks my heart '"
      ]
     },
     "execution_count": 110,
     "metadata": {},
     "output_type": "execute_result"
    }
   ],
   "source": [
    "def cleaning(text):\n",
    "  text= text.lower()\n",
    "  text= emoji.demojize(text)\n",
    "  text=contractions.fix(text)\n",
    "  text=text.strip()\n",
    "  text=text.replace('[^\\w\\s]','')\n",
    "  text=re.sub(r'http\\S+', '', text)\n",
    "  REPLACE_BY_SPACE_RE = re.compile('[/(){}\\[\\]\\|@,;]')\n",
    "  BAD_SYMBOLS_RE = re.compile('[^0-9a-z +]')\n",
    "  text = REPLACE_BY_SPACE_RE.sub(' ' , text)\n",
    "  text = BAD_SYMBOLS_RE.sub(' ',text)\n",
    "  \n",
    "  return text\n",
    "\n",
    "\n"
   ]
  },
  {
   "cell_type": "markdown",
   "metadata": {
    "id": "KA-zBjAF1DOX"
   },
   "source": [
    "## Cleaning the tweets of Training Data and Cleaning the tweets of Validation Data"
   ]
  },
  {
   "cell_type": "code",
   "execution_count": null,
   "metadata": {
    "id": "lppcQAZL1CM3"
   },
   "outputs": [],
   "source": [
    "df_train['tweet_cleaned'] = df_train['tweet'].apply(cleaning)\n",
    "df_test['tweet_cleaned'] = df_test['tweet'].apply(cleaning)\n",
    "df_valid['tweet_cleaned'] = df_valid['tweet'].apply(cleaning)\n",
    "df_train['tweet_cleaned'].iloc[0]"
   ]
  },
  {
   "cell_type": "markdown",
   "metadata": {
    "id": "ggPDHcrS1UsI"
   },
   "source": [
    "## Model Training Starts"
   ]
  },
  {
   "cell_type": "code",
   "execution_count": 111,
   "metadata": {
    "id": "UzhyEzc2dIsv"
   },
   "outputs": [],
   "source": [
    "x_train, y_train = df_train['tweet_cleaned'].values, np.array(df_train['Sentiment_Cat'], dtype=np.int64)\n",
    "# x_test, y_test = df_test['tweet_cleaned'].values, np.array(df_test['Sentiment_Cat'], dtype=np.int64)\n",
    "x_valid, y_valid = df_valid['tweet_cleaned'].values, np.array(df_valid['Sentiment_Cat'], dtype=np.int64)\n",
    "\n",
    "\n",
    "x_test = df_test['tweet_cleaned'].values"
   ]
  },
  {
   "cell_type": "markdown",
   "metadata": {
    "id": "PT_1dcod_bHJ"
   },
   "source": [
    "# Data Exploration"
   ]
  },
  {
   "cell_type": "code",
   "execution_count": 86,
   "metadata": {
    "id": "BtfsgOX5YoAg"
   },
   "outputs": [],
   "source": [
    "data = df_train\n",
    "non_reporting_data = data[data['Sentiment_Cat'] == 0]\n",
    "third_party_data = data[data['Sentiment_Cat'] == 1]\n",
    "primary_data = data[data['Sentiment_Cat'] == 2]\n",
    "secondary_data = data[data['Sentiment_Cat'] == 3]\n",
    "\n",
    "#     'non-reporting': 0, \n",
    "#     'third-party': 1, \n",
    "#     'primary': 2,\n",
    "#     'secondary':3"
   ]
  },
  {
   "cell_type": "markdown",
   "metadata": {
    "id": "rKUjvAWA1a8I"
   },
   "source": [
    "## How much Antivax_data ?"
   ]
  },
  {
   "cell_type": "code",
   "execution_count": 87,
   "metadata": {
    "colab": {
     "base_uri": "https://localhost:8080/"
    },
    "id": "auW5p-QfYaQc",
    "outputId": "fec5009f-6952-4f21-9f86-197bfd4fac28"
   },
   "outputs": [
    {
     "name": "stdout",
     "output_type": "stream",
     "text": [
      "95\n",
      "61\n",
      "69\n",
      "76\n",
      "732 177 393 114\n"
     ]
    }
   ],
   "source": [
    "# df = Antivax_data\n",
    "a=[]\n",
    "for i in range(len(non_reporting_data)):\n",
    "  a.append(len(non_reporting_data['tweet_cleaned'].iloc[i].split()))\n",
    "print(max(a))\n",
    "# df = Provax_data\n",
    "b=[]\n",
    "for i in range(len(third_party_data)):\n",
    "  b.append(len(third_party_data['tweet_cleaned'].iloc[i].split()))\n",
    "print(max(b))\n",
    "# df = Neutral_data\n",
    "\n"
   ]
  },
  {
   "cell_type": "markdown",
   "metadata": {
    "id": "eZ-O-7Ic1zGV"
   },
   "source": [
    "## How much Provax data ?"
   ]
  },
  {
   "cell_type": "code",
   "execution_count": null,
   "metadata": {
    "id": "qg_MG1wL1kAX"
   },
   "outputs": [],
   "source": [
    "c=[]\n",
    "for i in range(len(primary_data)):\n",
    "  c.append(len(primary_data['tweet_cleaned'].iloc[i].split()))\n",
    "print(max(c))"
   ]
  },
  {
   "cell_type": "markdown",
   "metadata": {
    "id": "hT8eaIgA11xK"
   },
   "source": [
    "##How much Neutral data ?**"
   ]
  },
  {
   "cell_type": "code",
   "execution_count": null,
   "metadata": {
    "id": "yntJo23o1rpb"
   },
   "outputs": [],
   "source": [
    "d=[]\n",
    "for i in range(len(secondary_data)):\n",
    "  d.append(len(secondary_data['tweet_cleaned'].iloc[i].split()))\n",
    "print(max(d))\n",
    "print(len(non_reporting_data), len(third_party_data), len(primary_data), len(secondary_data))"
   ]
  },
  {
   "cell_type": "markdown",
   "metadata": {
    "id": "bVT6-1Ui18zT"
   },
   "source": [
    "## Representing Frequency of words in each tweet corresponding to Antivax, Provax and neutral Data"
   ]
  },
  {
   "cell_type": "code",
   "execution_count": 88,
   "metadata": {
    "colab": {
     "base_uri": "https://localhost:8080/",
     "height": 1000
    },
    "id": "EjmubgzJYTWN",
    "outputId": "14e9a57d-754c-45e5-fa76-09da6f5f2a11"
   },
   "outputs": [
    {
     "data": {
      "image/png": "[encoded data removed]",
      "text/plain": [
       "<Figure size 640x480 with 1 Axes>"
      ]
     },
     "metadata": {},
     "output_type": "display_data"
    },
    {
     "data": {
      "image/png": "[encoded data removed]",
      "text/plain": [
       "<Figure size 640x480 with 1 Axes>"
      ]
     },
     "metadata": {},
     "output_type": "display_data"
    },
    {
     "data": {
      "image/png": "[encoded data removed]",
      "text/plain": [
       "<Figure size 640x480 with 1 Axes>"
      ]
     },
     "metadata": {},
     "output_type": "display_data"
    },
    {
     "data": {
      "image/png": "[encoded data removed]",
      "text/plain": [
       "<Figure size 640x480 with 1 Axes>"
      ]
     },
     "metadata": {},
     "output_type": "display_data"
    }
   ],
   "source": [
    "import numpy as np\n",
    "import matplotlib.pyplot as plt\n",
    "from numpy import *\n",
    "plt.hist(a,bins= 80, label = \"non-reporting\")\n",
    "plt.legend()\n",
    "plt.xlabel('Length')\n",
    "plt.ylabel('Frequecy')\n",
    "plt.title('Length Histogram')\n",
    "plt.show()\n",
    "plt.hist(b,bins= 60, label = \"third-party\")\n",
    "plt.legend()\n",
    "plt.xlabel('Length')\n",
    "plt.ylabel('Frequecy')\n",
    "plt.title('Length Histogram')\n",
    "plt.show()\n",
    "plt.hist(c, bins= 60, label = \"primary\")\n",
    "plt.legend()\n",
    "plt.xlabel('Length')\n",
    "plt.ylabel('Frequecy')\n",
    "plt.title('Length Histogram')\n",
    "plt.show()\n",
    "plt.hist(d, bins= 60, label = \"secondary\")\n",
    "plt.legend()\n",
    "plt.xlabel('Length')\n",
    "plt.ylabel('Frequecy')\n",
    "plt.title('Length Histogram')\n",
    "plt.show()"
   ]
  },
  {
   "cell_type": "markdown",
   "metadata": {
    "id": "WBm7fSLdjNsK"
   },
   "source": [
    "# BERT"
   ]
  },
  {
   "cell_type": "code",
   "execution_count": 89,
   "metadata": {
    "colab": {
     "base_uri": "https://localhost:8080/"
    },
    "id": "UfVEmb5Idiv5",
    "outputId": "12ca09a6-81fa-4d8d-f1a8-2d4caa8a525d"
   },
   "outputs": [
    {
     "name": "stdout",
     "output_type": "stream",
     "text": [
      "Looking in indexes: https://pypi.org/simple, https://us-python.pkg.dev/colab-wheels/public/simple/\n",
      "Requirement already satisfied: transformers in /usr/local/lib/python3.9/dist-packages (4.28.1)\n",
      "Requirement already satisfied: huggingface-hub<1.0,>=0.11.0 in /usr/local/lib/python3.9/dist-packages (from transformers) (0.14.0)\n",
      "Requirement already satisfied: tokenizers!=0.11.3,<0.14,>=0.11.1 in /usr/local/lib/python3.9/dist-packages (from transformers) (0.13.3)\n",
      "Requirement already satisfied: packaging>=20.0 in /usr/local/lib/python3.9/dist-packages (from transformers) (23.1)\n",
      "Requirement already satisfied: numpy>=1.17 in /usr/local/lib/python3.9/dist-packages (from transformers) (1.22.4)\n",
      "Requirement already satisfied: pyyaml>=5.1 in /usr/local/lib/python3.9/dist-packages (from transformers) (6.0)\n",
      "Requirement already satisfied: requests in /usr/local/lib/python3.9/dist-packages (from transformers) (2.27.1)\n",
      "Requirement already satisfied: regex!=2019.12.17 in /usr/local/lib/python3.9/dist-packages (from transformers) (2022.10.31)\n",
      "Requirement already satisfied: tqdm>=4.27 in /usr/local/lib/python3.9/dist-packages (from transformers) (4.65.0)\n",
      "Requirement already satisfied: filelock in /usr/local/lib/python3.9/dist-packages (from transformers) (3.11.0)\n",
      "Requirement already satisfied: typing-extensions>=3.7.4.3 in /usr/local/lib/python3.9/dist-packages (from huggingface-hub<1.0,>=0.11.0->transformers) (4.5.0)\n",
      "Requirement already satisfied: fsspec in /usr/local/lib/python3.9/dist-packages (from huggingface-hub<1.0,>=0.11.0->transformers) (2023.4.0)\n",
      "Requirement already satisfied: idna<4,>=2.5 in /usr/local/lib/python3.9/dist-packages (from requests->transformers) (3.4)\n",
      "Requirement already satisfied: charset-normalizer~=2.0.0 in /usr/local/lib/python3.9/dist-packages (from requests->transformers) (2.0.12)\n",
      "Requirement already satisfied: certifi>=2017.4.17 in /usr/local/lib/python3.9/dist-packages (from requests->transformers) (2022.12.7)\n",
      "Requirement already satisfied: urllib3<1.27,>=1.21.1 in /usr/local/lib/python3.9/dist-packages (from requests->transformers) (1.26.15)\n"
     ]
    }
   ],
   "source": [
    "!pip install transformers\n",
    "from tokenizers import BertWordPieceTokenizer\n",
    "import transformers\n",
    "from transformers import RobertaTokenizer, TFRobertaModel\n"
   ]
  },
  {
   "cell_type": "markdown",
   "metadata": {
    "id": "ojVIGnC32CaJ"
   },
   "source": [
    "### Tokenization is cutting input data into parts (symbols) that can be mapped (embedded) into a vector space. "
   ]
  },
  {
   "cell_type": "code",
   "execution_count": 90,
   "metadata": {
    "colab": {
     "base_uri": "https://localhost:8080/"
    },
    "id": "8o7uh0Gbdlmf",
    "outputId": "ecd30e23-2b99-408e-9573-98ddc8055b24"
   },
   "outputs": [
    {
     "data": {
      "text/plain": [
       "Tokenizer(vocabulary_size=30522, model=BertWordPiece, unk_token=[UNK], sep_token=[SEP], cls_token=[CLS], pad_token=[PAD], mask_token=[MASK], clean_text=True, handle_chinese_chars=True, strip_accents=None, lowercase=True, wordpieces_prefix=##)"
      ]
     },
     "execution_count": 90,
     "metadata": {},
     "output_type": "execute_result"
    }
   ],
   "source": [
    "# First load the real tokenizer\n",
    "tokenizer = transformers.BertTokenizerFast.from_pretrained('bert-base-uncased', lower=True)\n",
    "\n",
    "# Save the loaded tokenizer locally\n",
    "# tokenizer.save_pretrained('.')\n",
    "\n",
    "# tokenizer = transformers.BertTokenizerFast.from_pretrained('.')\n",
    "# tokenizer = RobertaTokenizer.from_pretrained('roberta-base')\n",
    "# Reload it with the huggingface tokenizers library\n",
    "fast_tokenizer = BertWordPieceTokenizer(os.path.join(\"/content/\", \"vocab.txt\"), lowercase=True)\n",
    "fast_tokenizer"
   ]
  },
  {
   "cell_type": "markdown",
   "metadata": {
    "id": "oQHDcKW22HjG"
   },
   "source": [
    "## function for transforming and encoding into vector space"
   ]
  },
  {
   "cell_type": "code",
   "execution_count": 91,
   "metadata": {
    "id": "Vvy3OyJddodD"
   },
   "outputs": [],
   "source": [
    "def fast_encode(texts, tokenizer, chunk_size=256, maxlen=200):\n",
    "    tokenizer.enable_truncation(max_length=maxlen)\n",
    "    tokenizer.enable_padding(length=maxlen)\n",
    "    all_ids = []\n",
    "    \n",
    "    for i in range(0, len(texts), chunk_size):\n",
    "        text_chunk = texts[i:i+chunk_size].tolist()\n",
    "        encs = tokenizer.encode_batch(text_chunk)\n",
    "        all_ids.extend([enc.ids for enc in encs])\n",
    "    \n",
    "    return np.array(all_ids)"
   ]
  },
  {
   "cell_type": "markdown",
   "metadata": {
    "id": "NItD7Jce2NxJ"
   },
   "source": [
    "## Converting train, validation and test data into vector spaces"
   ]
  },
  {
   "cell_type": "code",
   "execution_count": 92,
   "metadata": {
    "id": "Q9LJvgi0d5i-"
   },
   "outputs": [],
   "source": [
    "max_len=60\n",
    "x_train_enc = fast_encode(x_train, fast_tokenizer, maxlen=max_len)\n",
    "x_valid_enc = fast_encode(x_valid, fast_tokenizer, maxlen=max_len)\n",
    "x_test_enc = fast_encode(x_test, fast_tokenizer, maxlen=max_len)"
   ]
  },
  {
   "cell_type": "markdown",
   "metadata": {
    "id": "bSkcKe292VUD"
   },
   "source": [
    "## Compiling the bert *model*"
   ]
  },
  {
   "cell_type": "code",
   "execution_count": 93,
   "metadata": {
    "colab": {
     "base_uri": "https://localhost:8080/"
    },
    "id": "pcBnfPChd9PO",
    "outputId": "14aec80e-e039-4f1c-85b3-11bd2564a4c6"
   },
   "outputs": [
    {
     "name": "stdout",
     "output_type": "stream",
     "text": [
      "4\n"
     ]
    },
    {
     "name": "stderr",
     "output_type": "stream",
     "text": [
      "All model checkpoint layers were used when initializing TFBertForSequenceClassification.\n",
      "\n",
      "Some layers of TFBertForSequenceClassification were not initialized from the model checkpoint at digitalepidemiologylab/covid-twitter-bert-v2 and are newly initialized: ['classifier']\n",
      "You should probably TRAIN this model on a down-stream task to be able to use it for predictions and inference.\n"
     ]
    }
   ],
   "source": [
    "NUM_CLASSES = df_train['Sentiment_Cat'].nunique()\n",
    "print(NUM_CLASSES)\n",
    "# bert_transformer = transformers.TFDistilBertModel.from_pretrained('distilbert-base-uncased')\n",
    "# bert_transformer = transformers.TFBertForSequenceClassification.from_pretrained('bert-base-uncased', num_labels=NUM_CLASSES)\n",
    "bert_transformer = transformers.TFBertForSequenceClassification.from_pretrained('digitalepidemiologylab/covid-twitter-bert-v2', num_labels=NUM_CLASSES)\n",
    "\n",
    "# bert_transformer = transformers.TFRobertaForSequenceClassification.from_pretrained('vinai/bertweet-covid19-base-uncased', num_labels=NUM_CLASSES)\n",
    "\n",
    "input = tf.keras.layers.Input(shape=(max_len,), dtype=tf.int32)\n",
    "sequence_output = bert_transformer(input)[0]\n",
    "# cls_token = sequence_output[:, 0, :]\n",
    "# output = tf.keras.layers.Dense(NUM_CLASSES, activation='softmax')(cls_token)\n",
    "\n",
    "model = tf.keras.Model(inputs=input, outputs=sequence_output)\n",
    "model.compile(optimizer=tf.keras.optimizers.Adam(1e-5), loss=tf.keras.losses.SparseCategoricalCrossentropy(from_logits=True), metrics=['accuracy'])"
   ]
  },
  {
   "cell_type": "markdown",
   "metadata": {
    "id": "LyJRz83x2ZVk"
   },
   "source": [
    "### summary of the model"
   ]
  },
  {
   "cell_type": "code",
   "execution_count": 94,
   "metadata": {
    "colab": {
     "base_uri": "https://localhost:8080/"
    },
    "id": "0bliWbCjeRLV",
    "outputId": "21e73fd3-ae00-4ad1-e23f-ade31aee830f"
   },
   "outputs": [
    {
     "name": "stdout",
     "output_type": "stream",
     "text": [
      "Model: \"model_1\"\n",
      "_________________________________________________________________\n",
      " Layer (type)                Output Shape              Param #   \n",
      "=================================================================\n",
      " input_2 (InputLayer)        [(None, 60)]              0         \n",
      "                                                                 \n",
      " tf_bert_for_sequence_classi  TFSequenceClassifierOutp  335145988\n",
      " fication_1 (TFBertForSequen  ut(loss=None, logits=(No           \n",
      " ceClassification)           ne, 4),                             \n",
      "                              hidden_states=None, att            \n",
      "                             entions=None)                       \n",
      "                                                                 \n",
      "=================================================================\n",
      "Total params: 335,145,988\n",
      "Trainable params: 335,145,988\n",
      "Non-trainable params: 0\n",
      "_________________________________________________________________\n"
     ]
    }
   ],
   "source": [
    "model.summary()"
   ]
  },
  {
   "cell_type": "markdown",
   "metadata": {
    "id": "kbcm-Yk12ez_"
   },
   "source": [
    "## Fitting the model"
   ]
  },
  {
   "cell_type": "code",
   "execution_count": 105,
   "metadata": {
    "colab": {
     "base_uri": "https://localhost:8080/"
    },
    "id": "WRLoFJv0lTip",
    "outputId": "759922a7-30d0-4e0c-e4fd-13dd6e38cd1a"
   },
   "outputs": [
    {
     "name": "stdout",
     "output_type": "stream",
     "text": [
      "Epoch 1/50\n",
      "89/89 [==============================] - 64s 722ms/step - loss: 0.2546 - accuracy: 0.9209 - val_loss: 0.4339 - val_accuracy: 0.8481\n",
      "Epoch 2/50\n",
      "89/89 [==============================] - 63s 711ms/step - loss: 0.1876 - accuracy: 0.9449 - val_loss: 0.5496 - val_accuracy: 0.8038\n",
      "Epoch 3/50\n",
      "89/89 [==============================] - 62s 698ms/step - loss: 0.1178 - accuracy: 0.9725 - val_loss: 0.5724 - val_accuracy: 0.8165\n",
      "Epoch 4/50\n",
      "89/89 [==============================] - 62s 701ms/step - loss: 0.1107 - accuracy: 0.9703 - val_loss: 0.5851 - val_accuracy: 0.8418\n",
      "Epoch 5/50\n",
      "89/89 [==============================] - 62s 694ms/step - loss: 0.0599 - accuracy: 0.9873 - val_loss: 0.5666 - val_accuracy: 0.8608\n",
      "Epoch 6/50\n",
      "89/89 [==============================] - 62s 697ms/step - loss: 0.0420 - accuracy: 0.9915 - val_loss: 0.6541 - val_accuracy: 0.8418\n",
      "Epoch 7/50\n",
      "89/89 [==============================] - 62s 696ms/step - loss: 0.0366 - accuracy: 0.9915 - val_loss: 0.7046 - val_accuracy: 0.8418\n",
      "Epoch 8/50\n",
      "89/89 [==============================] - 62s 697ms/step - loss: 0.0258 - accuracy: 0.9951 - val_loss: 0.7443 - val_accuracy: 0.8418\n",
      "Epoch 9/50\n",
      "89/89 [==============================] - 62s 702ms/step - loss: 0.0354 - accuracy: 0.9908 - val_loss: 0.6644 - val_accuracy: 0.8481\n",
      "Epoch 10/50\n",
      "89/89 [==============================] - 62s 695ms/step - loss: 0.0340 - accuracy: 0.9922 - val_loss: 0.7693 - val_accuracy: 0.8354\n",
      "Epoch 11/50\n",
      "89/89 [==============================] - 62s 691ms/step - loss: 0.0860 - accuracy: 0.9753 - val_loss: 0.6617 - val_accuracy: 0.8354\n",
      "Epoch 12/50\n",
      "89/89 [==============================] - 62s 702ms/step - loss: 0.0230 - accuracy: 0.9936 - val_loss: 0.7736 - val_accuracy: 0.8354\n",
      "Epoch 13/50\n",
      "89/89 [==============================] - 62s 701ms/step - loss: 0.0216 - accuracy: 0.9965 - val_loss: 0.7756 - val_accuracy: 0.8165\n",
      "Epoch 14/50\n",
      "89/89 [==============================] - 61s 691ms/step - loss: 0.0123 - accuracy: 0.9993 - val_loss: 0.8466 - val_accuracy: 0.8228\n",
      "Epoch 15/50\n",
      "89/89 [==============================] - 62s 698ms/step - loss: 0.0085 - accuracy: 0.9993 - val_loss: 0.8748 - val_accuracy: 0.8291\n",
      "Epoch 16/50\n",
      "89/89 [==============================] - 62s 697ms/step - loss: 0.0065 - accuracy: 0.9993 - val_loss: 0.8957 - val_accuracy: 0.8291\n",
      "Epoch 17/50\n",
      "89/89 [==============================] - 61s 690ms/step - loss: 0.0052 - accuracy: 1.0000 - val_loss: 0.9179 - val_accuracy: 0.8291\n",
      "Epoch 18/50\n",
      "89/89 [==============================] - 62s 693ms/step - loss: 0.0046 - accuracy: 1.0000 - val_loss: 0.9231 - val_accuracy: 0.8354\n",
      "Epoch 19/50\n",
      "89/89 [==============================] - 62s 699ms/step - loss: 0.0059 - accuracy: 0.9993 - val_loss: 0.9475 - val_accuracy: 0.8228\n",
      "Epoch 20/50\n",
      "89/89 [==============================] - 62s 698ms/step - loss: 0.0098 - accuracy: 0.9979 - val_loss: 0.8818 - val_accuracy: 0.8354\n",
      "Epoch 21/50\n",
      "89/89 [==============================] - 62s 692ms/step - loss: 0.0046 - accuracy: 0.9993 - val_loss: 1.0133 - val_accuracy: 0.8101\n",
      "Epoch 22/50\n",
      "89/89 [==============================] - 62s 696ms/step - loss: 0.0043 - accuracy: 0.9993 - val_loss: 0.9341 - val_accuracy: 0.8291\n",
      "Epoch 23/50\n",
      "89/89 [==============================] - 62s 693ms/step - loss: 0.0027 - accuracy: 1.0000 - val_loss: 0.9534 - val_accuracy: 0.8291\n",
      "Epoch 24/50\n",
      "89/89 [==============================] - 62s 694ms/step - loss: 0.0026 - accuracy: 1.0000 - val_loss: 0.9776 - val_accuracy: 0.8354\n",
      "Epoch 25/50\n",
      "89/89 [==============================] - 62s 695ms/step - loss: 0.0022 - accuracy: 1.0000 - val_loss: 0.9966 - val_accuracy: 0.8291\n",
      "Epoch 26/50\n",
      "89/89 [==============================] - 62s 693ms/step - loss: 0.0022 - accuracy: 1.0000 - val_loss: 0.9853 - val_accuracy: 0.8354\n",
      "Epoch 27/50\n",
      "89/89 [==============================] - 62s 697ms/step - loss: 0.0017 - accuracy: 1.0000 - val_loss: 0.9949 - val_accuracy: 0.8418\n",
      "Epoch 28/50\n",
      "89/89 [==============================] - 62s 698ms/step - loss: 0.0018 - accuracy: 1.0000 - val_loss: 0.9956 - val_accuracy: 0.8418\n",
      "Epoch 29/50\n",
      "89/89 [==============================] - 62s 695ms/step - loss: 0.0018 - accuracy: 1.0000 - val_loss: 1.0097 - val_accuracy: 0.8418\n",
      "Epoch 30/50\n",
      "89/89 [==============================] - 62s 698ms/step - loss: 0.0015 - accuracy: 1.0000 - val_loss: 1.0345 - val_accuracy: 0.8418\n",
      "Epoch 31/50\n",
      "89/89 [==============================] - 62s 694ms/step - loss: 0.0015 - accuracy: 1.0000 - val_loss: 1.0257 - val_accuracy: 0.8418\n",
      "Epoch 32/50\n",
      "89/89 [==============================] - 62s 693ms/step - loss: 0.0012 - accuracy: 1.0000 - val_loss: 1.0160 - val_accuracy: 0.8354\n",
      "Epoch 33/50\n",
      "89/89 [==============================] - 62s 692ms/step - loss: 0.0011 - accuracy: 1.0000 - val_loss: 1.0311 - val_accuracy: 0.8418\n",
      "Epoch 34/50\n",
      "89/89 [==============================] - 62s 694ms/step - loss: 0.0011 - accuracy: 1.0000 - val_loss: 1.0526 - val_accuracy: 0.8418\n",
      "Epoch 35/50\n",
      "89/89 [==============================] - 62s 701ms/step - loss: 0.0013 - accuracy: 1.0000 - val_loss: 1.0920 - val_accuracy: 0.8228\n",
      "Epoch 36/50\n",
      "89/89 [==============================] - 62s 692ms/step - loss: 0.0011 - accuracy: 1.0000 - val_loss: 1.0783 - val_accuracy: 0.8418\n",
      "Epoch 37/50\n",
      "89/89 [==============================] - 62s 691ms/step - loss: 0.0010 - accuracy: 1.0000 - val_loss: 1.0997 - val_accuracy: 0.8418\n",
      "Epoch 38/50\n",
      "89/89 [==============================] - 62s 693ms/step - loss: 9.5797e-04 - accuracy: 1.0000 - val_loss: 1.1118 - val_accuracy: 0.8418\n",
      "Epoch 39/50\n",
      "89/89 [==============================] - 61s 691ms/step - loss: 8.7717e-04 - accuracy: 1.0000 - val_loss: 1.1167 - val_accuracy: 0.8418\n",
      "Epoch 40/50\n",
      "89/89 [==============================] - 62s 692ms/step - loss: 8.3600e-04 - accuracy: 1.0000 - val_loss: 1.1189 - val_accuracy: 0.8418\n",
      "Epoch 41/50\n",
      "89/89 [==============================] - 62s 699ms/step - loss: 8.5248e-04 - accuracy: 1.0000 - val_loss: 1.1393 - val_accuracy: 0.8418\n",
      "Epoch 42/50\n",
      "89/89 [==============================] - 62s 694ms/step - loss: 8.5457e-04 - accuracy: 1.0000 - val_loss: 1.1530 - val_accuracy: 0.8418\n",
      "Epoch 43/50\n",
      "89/89 [==============================] - 62s 696ms/step - loss: 7.6326e-04 - accuracy: 1.0000 - val_loss: 1.1388 - val_accuracy: 0.8418\n",
      "Epoch 44/50\n",
      "89/89 [==============================] - 62s 698ms/step - loss: 7.6078e-04 - accuracy: 1.0000 - val_loss: 1.1654 - val_accuracy: 0.8418\n",
      "Epoch 45/50\n",
      "89/89 [==============================] - 62s 696ms/step - loss: 5.5641e-04 - accuracy: 1.0000 - val_loss: 1.1876 - val_accuracy: 0.8418\n",
      "Epoch 46/50\n",
      "89/89 [==============================] - 61s 692ms/step - loss: 5.5841e-04 - accuracy: 1.0000 - val_loss: 1.2017 - val_accuracy: 0.8418\n",
      "Epoch 47/50\n",
      "89/89 [==============================] - 62s 694ms/step - loss: 5.4041e-04 - accuracy: 1.0000 - val_loss: 1.2086 - val_accuracy: 0.8418\n",
      "Epoch 48/50\n",
      "89/89 [==============================] - 62s 693ms/step - loss: 5.4526e-04 - accuracy: 1.0000 - val_loss: 1.2210 - val_accuracy: 0.8418\n",
      "Epoch 49/50\n",
      "89/89 [==============================] - 62s 696ms/step - loss: 4.6281e-04 - accuracy: 1.0000 - val_loss: 1.2424 - val_accuracy: 0.8418\n",
      "Epoch 50/50\n",
      "89/89 [==============================] - 62s 696ms/step - loss: 4.5236e-04 - accuracy: 1.0000 - val_loss: 1.2172 - val_accuracy: 0.8418\n"
     ]
    }
   ],
   "source": [
    "# call backs\n",
    "early_stop_callback = tf.keras.callbacks.EarlyStopping(\n",
    "    monitor='val_loss', \n",
    "    patience=3, \n",
    "    restore_best_weights=True\n",
    ")\n",
    "\n",
    "history = model.fit(\n",
    "    x_train_enc,\n",
    "    y_train,\n",
    "    batch_size=16,\n",
    "    validation_data=(x_valid_enc, y_valid),\n",
    "    epochs=50,\n",
    "    # callbacks=[early_stop_callback]\n",
    "    )"
   ]
  },
  {
   "cell_type": "markdown",
   "metadata": {
    "id": "sPB9-wqXjSRo"
   },
   "source": [
    "# USing the model for making prediction on Test Data"
   ]
  },
  {
   "cell_type": "code",
   "execution_count": 96,
   "metadata": {
    "colab": {
     "base_uri": "https://localhost:8080/",
     "height": 850
    },
    "id": "zY9uNgVAe0MP",
    "outputId": "baa953f4-c124-4a02-9754-779d1ffbcb2a"
   },
   "outputs": [
    {
     "name": "stdout",
     "output_type": "stream",
     "text": [
      "13/13 [==============================] - 12s 386ms/step\n"
     ]
    },
    {
     "data": {
      "text/html": [
       "\n",
       "  <div id=\"df-7416e821-8335-4a8b-aa0e-e57bd60a65f8\">\n",
       "    <div class=\"colab-df-container\">\n",
       "      <div>\n",
       "<style scoped>\n",
       "    .dataframe tbody tr th:only-of-type {\n",
       "        vertical-align: middle;\n",
       "    }\n",
       "\n",
       "    .dataframe tbody tr th {\n",
       "        vertical-align: top;\n",
       "    }\n",
       "\n",
       "    .dataframe thead th {\n",
       "        text-align: right;\n",
       "    }\n",
       "</style>\n",
       "<table border=\"1\" class=\"dataframe\">\n",
       "  <thead>\n",
       "    <tr style=\"text-align: right;\">\n",
       "      <th></th>\n",
       "      <th>id</th>\n",
       "      <th>tweet</th>\n",
       "      <th>tweet_cleaned</th>\n",
       "      <th>ypred</th>\n",
       "      <th>ypred_cat</th>\n",
       "    </tr>\n",
       "  </thead>\n",
       "  <tbody>\n",
       "    <tr>\n",
       "      <th>0</th>\n",
       "      <td>1242353332817137664t</td>\n",
       "      <td>If you think you have been exposed to COVID-19...</td>\n",
       "      <td>if you think you have been exposed to covid 19...</td>\n",
       "      <td>0</td>\n",
       "      <td>0</td>\n",
       "    </tr>\n",
       "    <tr>\n",
       "      <th>1</th>\n",
       "      <td>1244712715827982339t</td>\n",
       "      <td>@timbovisser @BBCJohnBeattie Yes, myself, wife...</td>\n",
       "      <td>timbovisser  bbcjohnbeattie yes  myself  wife...</td>\n",
       "      <td>3</td>\n",
       "      <td>3</td>\n",
       "    </tr>\n",
       "    <tr>\n",
       "      <th>2</th>\n",
       "      <td>1314693013810089984t</td>\n",
       "      <td>Lots of people I know having positive covid te...</td>\n",
       "      <td>lots of people i know having positive covid te...</td>\n",
       "      <td>3</td>\n",
       "      <td>3</td>\n",
       "    </tr>\n",
       "    <tr>\n",
       "      <th>3</th>\n",
       "      <td>1307860995692527616t</td>\n",
       "      <td>@lizzyp144 @TomAThakkar Okay but doesn’t COVID...</td>\n",
       "      <td>lizzyp144  tomathakkar okay but does not covi...</td>\n",
       "      <td>0</td>\n",
       "      <td>0</td>\n",
       "    </tr>\n",
       "    <tr>\n",
       "      <th>4</th>\n",
       "      <td>1277375421164613632t</td>\n",
       "      <td>We should have people w covid cough on white b...</td>\n",
       "      <td>we should have people w covid cough on white b...</td>\n",
       "      <td>0</td>\n",
       "      <td>0</td>\n",
       "    </tr>\n",
       "    <tr>\n",
       "      <th>...</th>\n",
       "      <td>...</td>\n",
       "      <td>...</td>\n",
       "      <td>...</td>\n",
       "      <td>...</td>\n",
       "      <td>...</td>\n",
       "    </tr>\n",
       "    <tr>\n",
       "      <th>395</th>\n",
       "      <td>1255420681581404163t</td>\n",
       "      <td>#bbcgms People who don't have COVID-19 cough s...</td>\n",
       "      <td>bbcgms people who do not have covid 19 cough ...</td>\n",
       "      <td>0</td>\n",
       "      <td>0</td>\n",
       "    </tr>\n",
       "    <tr>\n",
       "      <th>396</th>\n",
       "      <td>1331420575265394688t</td>\n",
       "      <td>Fatigue, shortness of breath, muscle aches, he...</td>\n",
       "      <td>fatigue  shortness of breath  muscle aches  he...</td>\n",
       "      <td>2</td>\n",
       "      <td>2</td>\n",
       "    </tr>\n",
       "    <tr>\n",
       "      <th>397</th>\n",
       "      <td>1272691373645467653t</td>\n",
       "      <td>I woke up today from my nap and my throat was ...</td>\n",
       "      <td>i woke up today from my nap and my throat was ...</td>\n",
       "      <td>2</td>\n",
       "      <td>2</td>\n",
       "    </tr>\n",
       "    <tr>\n",
       "      <th>398</th>\n",
       "      <td>1242065925337018369t</td>\n",
       "      <td>#coronavirusindia It's just beginning, isolati...</td>\n",
       "      <td>coronavirusindia it is just beginning  isolat...</td>\n",
       "      <td>0</td>\n",
       "      <td>0</td>\n",
       "    </tr>\n",
       "    <tr>\n",
       "      <th>399</th>\n",
       "      <td>1314084455741632512t</td>\n",
       "      <td>@WWomenL @TheyWereStolen You beat me to it, co...</td>\n",
       "      <td>wwomenl  theywerestolen you beat me to it  co...</td>\n",
       "      <td>0</td>\n",
       "      <td>0</td>\n",
       "    </tr>\n",
       "  </tbody>\n",
       "</table>\n",
       "<p>400 rows × 5 columns</p>\n",
       "</div>\n",
       "      <button class=\"colab-df-convert\" onclick=\"convertToInteractive('df-7416e821-8335-4a8b-aa0e-e57bd60a65f8')\"\n",
       "              title=\"Convert this dataframe to an interactive table.\"\n",
       "              style=\"display:none;\">\n",
       "        \n",
       "  <svg xmlns=\"http://www.w3.org/2000/svg\" height=\"24px\"viewBox=\"0 0 24 24\"\n",
       "       width=\"24px\">\n",
       "    <path d=\"M0 0h24v24H0V0z\" fill=\"none\"/>\n",
       "    <path d=\"M18.56 5.44l.94 2.06.94-2.06 2.06-.94-2.06-.94-.94-2.06-.94 2.06-2.06.94zm-11 1L8.5 8.5l.94-2.06 2.06-.94-2.06-.94L8.5 2.5l-.94 2.06-2.06.94zm10 10l.94 2.06.94-2.06 2.06-.94-2.06-.94-.94-2.06-.94 2.06-2.06.94z\"/><path d=\"M17.41 7.96l-1.37-1.37c-.4-.4-.92-.59-1.43-.59-.52 0-1.04.2-1.43.59L10.3 9.45l-7.72 7.72c-.78.78-.78 2.05 0 2.83L4 21.41c.39.39.9.59 1.41.59.51 0 1.02-.2 1.41-.59l7.78-7.78 2.81-2.81c.8-.78.8-2.07 0-2.86zM5.41 20L4 18.59l7.72-7.72 1.47 1.35L5.41 20z\"/>\n",
       "  </svg>\n",
       "      </button>\n",
       "      \n",
       "  <style>\n",
       "    .colab-df-container {\n",
       "      display:flex;\n",
       "      flex-wrap:wrap;\n",
       "      gap: 12px;\n",
       "    }\n",
       "\n",
       "    .colab-df-convert {\n",
       "      background-color: #E8F0FE;\n",
       "      border: none;\n",
       "      border-radius: 50%;\n",
       "      cursor: pointer;\n",
       "      display: none;\n",
       "      fill: #1967D2;\n",
       "      height: 32px;\n",
       "      padding: 0 0 0 0;\n",
       "      width: 32px;\n",
       "    }\n",
       "\n",
       "    .colab-df-convert:hover {\n",
       "      background-color: #E2EBFA;\n",
       "      box-shadow: 0px 1px 2px rgba(60, 64, 67, 0.3), 0px 1px 3px 1px rgba(60, 64, 67, 0.15);\n",
       "      fill: #174EA6;\n",
       "    }\n",
       "\n",
       "    [theme=dark] .colab-df-convert {\n",
       "      background-color: #3B4455;\n",
       "      fill: #D2E3FC;\n",
       "    }\n",
       "\n",
       "    [theme=dark] .colab-df-convert:hover {\n",
       "      background-color: #434B5C;\n",
       "      box-shadow: 0px 1px 3px 1px rgba(0, 0, 0, 0.15);\n",
       "      filter: drop-shadow(0px 1px 2px rgba(0, 0, 0, 0.3));\n",
       "      fill: #FFFFFF;\n",
       "    }\n",
       "  </style>\n",
       "\n",
       "      <script>\n",
       "        const buttonEl =\n",
       "          document.querySelector('#df-7416e821-8335-4a8b-aa0e-e57bd60a65f8 button.colab-df-convert');\n",
       "        buttonEl.style.display =\n",
       "          google.colab.kernel.accessAllowed ? 'block' : 'none';\n",
       "\n",
       "        async function convertToInteractive(key) {\n",
       "          const element = document.querySelector('#df-7416e821-8335-4a8b-aa0e-e57bd60a65f8');\n",
       "          const dataTable =\n",
       "            await google.colab.kernel.invokeFunction('convertToInteractive',\n",
       "                                                     [key], {});\n",
       "          if (!dataTable) return;\n",
       "\n",
       "          const docLinkHtml = 'Like what you see? Visit the ' +\n",
       "            '<a target=\"_blank\" href=https://colab.research.google.com/notebooks/data_table.ipynb>data table notebook</a>'\n",
       "            + ' to learn more about interactive tables.';\n",
       "          element.innerHTML = '';\n",
       "          dataTable['output_type'] = 'display_data';\n",
       "          await google.colab.output.renderOutput(dataTable, element);\n",
       "          const docLink = document.createElement('div');\n",
       "          docLink.innerHTML = docLinkHtml;\n",
       "          element.appendChild(docLink);\n",
       "        }\n",
       "      </script>\n",
       "    </div>\n",
       "  </div>\n",
       "  "
      ],
      "text/plain": [
       "                       id                                              tweet  \\\n",
       "0    1242353332817137664t  If you think you have been exposed to COVID-19...   \n",
       "1    1244712715827982339t  @timbovisser @BBCJohnBeattie Yes, myself, wife...   \n",
       "2    1314693013810089984t  Lots of people I know having positive covid te...   \n",
       "3    1307860995692527616t  @lizzyp144 @TomAThakkar Okay but doesn’t COVID...   \n",
       "4    1277375421164613632t  We should have people w covid cough on white b...   \n",
       "..                    ...                                                ...   \n",
       "395  1255420681581404163t  #bbcgms People who don't have COVID-19 cough s...   \n",
       "396  1331420575265394688t  Fatigue, shortness of breath, muscle aches, he...   \n",
       "397  1272691373645467653t  I woke up today from my nap and my throat was ...   \n",
       "398  1242065925337018369t  #coronavirusindia It's just beginning, isolati...   \n",
       "399  1314084455741632512t  @WWomenL @TheyWereStolen You beat me to it, co...   \n",
       "\n",
       "                                         tweet_cleaned  ypred  ypred_cat  \n",
       "0    if you think you have been exposed to covid 19...      0          0  \n",
       "1     timbovisser  bbcjohnbeattie yes  myself  wife...      3          3  \n",
       "2    lots of people i know having positive covid te...      3          3  \n",
       "3     lizzyp144  tomathakkar okay but does not covi...      0          0  \n",
       "4    we should have people w covid cough on white b...      0          0  \n",
       "..                                                 ...    ...        ...  \n",
       "395   bbcgms people who do not have covid 19 cough ...      0          0  \n",
       "396  fatigue  shortness of breath  muscle aches  he...      2          2  \n",
       "397  i woke up today from my nap and my throat was ...      2          2  \n",
       "398   coronavirusindia it is just beginning  isolat...      0          0  \n",
       "399   wwomenl  theywerestolen you beat me to it  co...      0          0  \n",
       "\n",
       "[400 rows x 5 columns]"
      ]
     },
     "execution_count": 96,
     "metadata": {},
     "output_type": "execute_result"
    }
   ],
   "source": [
    "ypred = model.predict(x_test_enc)\n",
    "ypred\n",
    "df_test['ypred'] = np.argmax(ypred, axis=1)\n",
    "df_test['ypred_cat'] = np.where(df_test['ypred']>=0.5, 1, 0)\n",
    "df_test['ypred_cat'] = np.argmax(ypred, axis=1)\n",
    "df_test"
   ]
  },
  {
   "cell_type": "code",
   "execution_count": 97,
   "metadata": {
    "colab": {
     "base_uri": "https://localhost:8080/"
    },
    "id": "5ZxKEI6KIt19",
    "outputId": "f1561317-ca2c-45a7-97bb-d442be3905fd"
   },
   "outputs": [
    {
     "name": "stdout",
     "output_type": "stream",
     "text": [
      "[0 3 3 0 0 2 0 1 0 2 0 1 0 0 0 2 0 0 3 3 0 0 0 2 2 0 0 3 0 0 1 0 3 0 0 2 1\n",
      " 0 0 1 3 1 0 0 0 0 0 0 2 0 2 3 2 0 2 0 0 0 0 0 0 2 0 0 0 1 0 0 3 0 2 3 0 0\n",
      " 0 0 0 3 2 1 2 2 0 0 0 0 2 2 0 0 0 2 0 1 0 0 0 2 0 1 1 1 2 3 1 2 0 3 1 0 0\n",
      " 0 2 0 2 2 0 0 0 1 3 3 2 0 3 2 2 0 0 2 3 1 0 2 2 3 3 0 0 2 0 0 0 2 0 0 1 3\n",
      " 1 0 1 2 2 1 2 3 0 2 2 0 1 2 3 2 0 1 0 3 2 2 0 0 2 0 0 0 0 2 0 0 1 1 2 3 0\n",
      " 0 0 1 2 0 0 0 0 1 0 0 0 2 2 3 2 0 2 1 3 0 0 2 0 3 2 0 0 2 3 2 0 2 2 1 0 0\n",
      " 3 2 0 0 0 0 3 0 2 0 0 0 2 0 2 1 0 2 0 0 0 0 1 2 2 2 2 0 0 2 0 0 2 0 0 2 2\n",
      " 0 0 2 2 2 2 1 2 0 0 0 2 0 2 2 0 0 2 0 0 0 2 1 3 0 0 2 2 0 0 3 0 2 3 0 1 2\n",
      " 0 0 0 2 2 1 0 2 0 0 1 0 3 0 2 1 0 0 2 0 0 2 3 0 0 1 2 0 0 2 1 0 2 0 1 0 3\n",
      " 0 3 0 3 2 3 0 2 0 1 2 2 2 2 0 0 0 0 0 0 0 0 0 1 0 0 2 1 0 0 0 1 1 3 0 2 3\n",
      " 1 0 0 2 0 0 0 0 1 0 0 0 0 2 0 2 3 2 2 0 0 2 2 0 2 0 2 2 0 0]\n"
     ]
    }
   ],
   "source": [
    "print(np.argmax(ypred, axis=1))"
   ]
  },
  {
   "cell_type": "markdown",
   "metadata": {
    "id": "JuTamRRA2qLs"
   },
   "source": [
    "## converting real number into numbers 0,1 and 2 reprsenting three classes"
   ]
  },
  {
   "cell_type": "code",
   "execution_count": 98,
   "metadata": {
    "colab": {
     "base_uri": "https://localhost:8080/",
     "height": 1000
    },
    "id": "nXW9PMzVGmSF",
    "outputId": "86c1ddc7-de6f-496a-e032-70a32f4ac78c"
   },
   "outputs": [
    {
     "data": {
      "text/html": [
       "\n",
       "  <div id=\"df-ec475394-b507-4aee-a9ae-5e20da688566\">\n",
       "    <div class=\"colab-df-container\">\n",
       "      <div>\n",
       "<style scoped>\n",
       "    .dataframe tbody tr th:only-of-type {\n",
       "        vertical-align: middle;\n",
       "    }\n",
       "\n",
       "    .dataframe tbody tr th {\n",
       "        vertical-align: top;\n",
       "    }\n",
       "\n",
       "    .dataframe thead th {\n",
       "        text-align: right;\n",
       "    }\n",
       "</style>\n",
       "<table border=\"1\" class=\"dataframe\">\n",
       "  <thead>\n",
       "    <tr style=\"text-align: right;\">\n",
       "      <th></th>\n",
       "      <th>id</th>\n",
       "      <th>tweet</th>\n",
       "      <th>tweet_cleaned</th>\n",
       "      <th>ypred</th>\n",
       "      <th>ypred_cat</th>\n",
       "      <th>pred</th>\n",
       "    </tr>\n",
       "  </thead>\n",
       "  <tbody>\n",
       "    <tr>\n",
       "      <th>0</th>\n",
       "      <td>1242353332817137664t</td>\n",
       "      <td>If you think you have been exposed to COVID-19...</td>\n",
       "      <td>if you think you have been exposed to covid 19...</td>\n",
       "      <td>0</td>\n",
       "      <td>0</td>\n",
       "      <td>0</td>\n",
       "    </tr>\n",
       "    <tr>\n",
       "      <th>1</th>\n",
       "      <td>1244712715827982339t</td>\n",
       "      <td>@timbovisser @BBCJohnBeattie Yes, myself, wife...</td>\n",
       "      <td>timbovisser  bbcjohnbeattie yes  myself  wife...</td>\n",
       "      <td>3</td>\n",
       "      <td>3</td>\n",
       "      <td>3</td>\n",
       "    </tr>\n",
       "    <tr>\n",
       "      <th>2</th>\n",
       "      <td>1314693013810089984t</td>\n",
       "      <td>Lots of people I know having positive covid te...</td>\n",
       "      <td>lots of people i know having positive covid te...</td>\n",
       "      <td>3</td>\n",
       "      <td>3</td>\n",
       "      <td>3</td>\n",
       "    </tr>\n",
       "    <tr>\n",
       "      <th>3</th>\n",
       "      <td>1307860995692527616t</td>\n",
       "      <td>@lizzyp144 @TomAThakkar Okay but doesn’t COVID...</td>\n",
       "      <td>lizzyp144  tomathakkar okay but does not covi...</td>\n",
       "      <td>0</td>\n",
       "      <td>0</td>\n",
       "      <td>0</td>\n",
       "    </tr>\n",
       "    <tr>\n",
       "      <th>4</th>\n",
       "      <td>1277375421164613632t</td>\n",
       "      <td>We should have people w covid cough on white b...</td>\n",
       "      <td>we should have people w covid cough on white b...</td>\n",
       "      <td>0</td>\n",
       "      <td>0</td>\n",
       "      <td>0</td>\n",
       "    </tr>\n",
       "    <tr>\n",
       "      <th>...</th>\n",
       "      <td>...</td>\n",
       "      <td>...</td>\n",
       "      <td>...</td>\n",
       "      <td>...</td>\n",
       "      <td>...</td>\n",
       "      <td>...</td>\n",
       "    </tr>\n",
       "    <tr>\n",
       "      <th>395</th>\n",
       "      <td>1255420681581404163t</td>\n",
       "      <td>#bbcgms People who don't have COVID-19 cough s...</td>\n",
       "      <td>bbcgms people who do not have covid 19 cough ...</td>\n",
       "      <td>0</td>\n",
       "      <td>0</td>\n",
       "      <td>0</td>\n",
       "    </tr>\n",
       "    <tr>\n",
       "      <th>396</th>\n",
       "      <td>1331420575265394688t</td>\n",
       "      <td>Fatigue, shortness of breath, muscle aches, he...</td>\n",
       "      <td>fatigue  shortness of breath  muscle aches  he...</td>\n",
       "      <td>2</td>\n",
       "      <td>2</td>\n",
       "      <td>2</td>\n",
       "    </tr>\n",
       "    <tr>\n",
       "      <th>397</th>\n",
       "      <td>1272691373645467653t</td>\n",
       "      <td>I woke up today from my nap and my throat was ...</td>\n",
       "      <td>i woke up today from my nap and my throat was ...</td>\n",
       "      <td>2</td>\n",
       "      <td>2</td>\n",
       "      <td>2</td>\n",
       "    </tr>\n",
       "    <tr>\n",
       "      <th>398</th>\n",
       "      <td>1242065925337018369t</td>\n",
       "      <td>#coronavirusindia It's just beginning, isolati...</td>\n",
       "      <td>coronavirusindia it is just beginning  isolat...</td>\n",
       "      <td>0</td>\n",
       "      <td>0</td>\n",
       "      <td>0</td>\n",
       "    </tr>\n",
       "    <tr>\n",
       "      <th>399</th>\n",
       "      <td>1314084455741632512t</td>\n",
       "      <td>@WWomenL @TheyWereStolen You beat me to it, co...</td>\n",
       "      <td>wwomenl  theywerestolen you beat me to it  co...</td>\n",
       "      <td>0</td>\n",
       "      <td>0</td>\n",
       "      <td>0</td>\n",
       "    </tr>\n",
       "  </tbody>\n",
       "</table>\n",
       "<p>400 rows × 6 columns</p>\n",
       "</div>\n",
       "      <button class=\"colab-df-convert\" onclick=\"convertToInteractive('df-ec475394-b507-4aee-a9ae-5e20da688566')\"\n",
       "              title=\"Convert this dataframe to an interactive table.\"\n",
       "              style=\"display:none;\">\n",
       "        \n",
       "  <svg xmlns=\"http://www.w3.org/2000/svg\" height=\"24px\"viewBox=\"0 0 24 24\"\n",
       "       width=\"24px\">\n",
       "    <path d=\"M0 0h24v24H0V0z\" fill=\"none\"/>\n",
       "    <path d=\"M18.56 5.44l.94 2.06.94-2.06 2.06-.94-2.06-.94-.94-2.06-.94 2.06-2.06.94zm-11 1L8.5 8.5l.94-2.06 2.06-.94-2.06-.94L8.5 2.5l-.94 2.06-2.06.94zm10 10l.94 2.06.94-2.06 2.06-.94-2.06-.94-.94-2.06-.94 2.06-2.06.94z\"/><path d=\"M17.41 7.96l-1.37-1.37c-.4-.4-.92-.59-1.43-.59-.52 0-1.04.2-1.43.59L10.3 9.45l-7.72 7.72c-.78.78-.78 2.05 0 2.83L4 21.41c.39.39.9.59 1.41.59.51 0 1.02-.2 1.41-.59l7.78-7.78 2.81-2.81c.8-.78.8-2.07 0-2.86zM5.41 20L4 18.59l7.72-7.72 1.47 1.35L5.41 20z\"/>\n",
       "  </svg>\n",
       "      </button>\n",
       "      \n",
       "  <style>\n",
       "    .colab-df-container {\n",
       "      display:flex;\n",
       "      flex-wrap:wrap;\n",
       "      gap: 12px;\n",
       "    }\n",
       "\n",
       "    .colab-df-convert {\n",
       "      background-color: #E8F0FE;\n",
       "      border: none;\n",
       "      border-radius: 50%;\n",
       "      cursor: pointer;\n",
       "      display: none;\n",
       "      fill: #1967D2;\n",
       "      height: 32px;\n",
       "      padding: 0 0 0 0;\n",
       "      width: 32px;\n",
       "    }\n",
       "\n",
       "    .colab-df-convert:hover {\n",
       "      background-color: #E2EBFA;\n",
       "      box-shadow: 0px 1px 2px rgba(60, 64, 67, 0.3), 0px 1px 3px 1px rgba(60, 64, 67, 0.15);\n",
       "      fill: #174EA6;\n",
       "    }\n",
       "\n",
       "    [theme=dark] .colab-df-convert {\n",
       "      background-color: #3B4455;\n",
       "      fill: #D2E3FC;\n",
       "    }\n",
       "\n",
       "    [theme=dark] .colab-df-convert:hover {\n",
       "      background-color: #434B5C;\n",
       "      box-shadow: 0px 1px 3px 1px rgba(0, 0, 0, 0.15);\n",
       "      filter: drop-shadow(0px 1px 2px rgba(0, 0, 0, 0.3));\n",
       "      fill: #FFFFFF;\n",
       "    }\n",
       "  </style>\n",
       "\n",
       "      <script>\n",
       "        const buttonEl =\n",
       "          document.querySelector('#df-ec475394-b507-4aee-a9ae-5e20da688566 button.colab-df-convert');\n",
       "        buttonEl.style.display =\n",
       "          google.colab.kernel.accessAllowed ? 'block' : 'none';\n",
       "\n",
       "        async function convertToInteractive(key) {\n",
       "          const element = document.querySelector('#df-ec475394-b507-4aee-a9ae-5e20da688566');\n",
       "          const dataTable =\n",
       "            await google.colab.kernel.invokeFunction('convertToInteractive',\n",
       "                                                     [key], {});\n",
       "          if (!dataTable) return;\n",
       "\n",
       "          const docLinkHtml = 'Like what you see? Visit the ' +\n",
       "            '<a target=\"_blank\" href=https://colab.research.google.com/notebooks/data_table.ipynb>data table notebook</a>'\n",
       "            + ' to learn more about interactive tables.';\n",
       "          element.innerHTML = '';\n",
       "          dataTable['output_type'] = 'display_data';\n",
       "          await google.colab.output.renderOutput(dataTable, element);\n",
       "          const docLink = document.createElement('div');\n",
       "          docLink.innerHTML = docLinkHtml;\n",
       "          element.appendChild(docLink);\n",
       "        }\n",
       "      </script>\n",
       "    </div>\n",
       "  </div>\n",
       "  "
      ],
      "text/plain": [
       "                       id                                              tweet  \\\n",
       "0    1242353332817137664t  If you think you have been exposed to COVID-19...   \n",
       "1    1244712715827982339t  @timbovisser @BBCJohnBeattie Yes, myself, wife...   \n",
       "2    1314693013810089984t  Lots of people I know having positive covid te...   \n",
       "3    1307860995692527616t  @lizzyp144 @TomAThakkar Okay but doesn’t COVID...   \n",
       "4    1277375421164613632t  We should have people w covid cough on white b...   \n",
       "..                    ...                                                ...   \n",
       "395  1255420681581404163t  #bbcgms People who don't have COVID-19 cough s...   \n",
       "396  1331420575265394688t  Fatigue, shortness of breath, muscle aches, he...   \n",
       "397  1272691373645467653t  I woke up today from my nap and my throat was ...   \n",
       "398  1242065925337018369t  #coronavirusindia It's just beginning, isolati...   \n",
       "399  1314084455741632512t  @WWomenL @TheyWereStolen You beat me to it, co...   \n",
       "\n",
       "                                         tweet_cleaned  ypred  ypred_cat  pred  \n",
       "0    if you think you have been exposed to covid 19...      0          0     0  \n",
       "1     timbovisser  bbcjohnbeattie yes  myself  wife...      3          3     3  \n",
       "2    lots of people i know having positive covid te...      3          3     3  \n",
       "3     lizzyp144  tomathakkar okay but does not covi...      0          0     0  \n",
       "4    we should have people w covid cough on white b...      0          0     0  \n",
       "..                                                 ...    ...        ...   ...  \n",
       "395   bbcgms people who do not have covid 19 cough ...      0          0     0  \n",
       "396  fatigue  shortness of breath  muscle aches  he...      2          2     2  \n",
       "397  i woke up today from my nap and my throat was ...      2          2     2  \n",
       "398   coronavirusindia it is just beginning  isolat...      0          0     0  \n",
       "399   wwomenl  theywerestolen you beat me to it  co...      0          0     0  \n",
       "\n",
       "[400 rows x 6 columns]"
      ]
     },
     "execution_count": 98,
     "metadata": {},
     "output_type": "execute_result"
    }
   ],
   "source": [
    "df_test['pred'] = np.argmax(ypred, axis=1)\n",
    "df_test"
   ]
  },
  {
   "cell_type": "code",
   "execution_count": 134,
   "metadata": {
    "id": "xvS0mZEO4ydY"
   },
   "outputs": [],
   "source": [
    "df_test.to_csv(\"task2_answer.csv\")"
   ]
  },
  {
   "cell_type": "markdown",
   "metadata": {
    "id": "DMOXjIzM0I9X"
   },
   "source": [
    "## Validation set Accuracy, Precision and Recall"
   ]
  },
  {
   "cell_type": "code",
   "execution_count": 127,
   "metadata": {
    "id": "mlLViAVwzna8"
   },
   "outputs": [],
   "source": [
    "x_val_enc = fast_encode(x_valid, fast_tokenizer, maxlen=max_len)"
   ]
  },
  {
   "cell_type": "code",
   "execution_count": 128,
   "metadata": {
    "colab": {
     "base_uri": "https://localhost:8080/",
     "height": 1000
    },
    "id": "Y8Txmu_1zcze",
    "outputId": "69582d04-2398-465e-b71d-46fe5208d634"
   },
   "outputs": [
    {
     "name": "stdout",
     "output_type": "stream",
     "text": [
      "5/5 [==============================] - 2s 387ms/step\n"
     ]
    },
    {
     "name": "stderr",
     "output_type": "stream",
     "text": [
      "<ipython-input-128-e17c08647e3b>:3: SettingWithCopyWarning: \n",
      "A value is trying to be set on a copy of a slice from a DataFrame.\n",
      "Try using .loc[row_indexer,col_indexer] = value instead\n",
      "\n",
      "See the caveats in the documentation: https://pandas.pydata.org/pandas-docs/stable/user_guide/indexing.html#returning-a-view-versus-a-copy\n",
      "  df_valid['ypred'] = np.argmax(ypred_val, axis=1)\n",
      "<ipython-input-128-e17c08647e3b>:4: SettingWithCopyWarning: \n",
      "A value is trying to be set on a copy of a slice from a DataFrame.\n",
      "Try using .loc[row_indexer,col_indexer] = value instead\n",
      "\n",
      "See the caveats in the documentation: https://pandas.pydata.org/pandas-docs/stable/user_guide/indexing.html#returning-a-view-versus-a-copy\n",
      "  df_valid['ypred_cat'] = np.where(df_valid['ypred']>=0.5, 1, 0)\n",
      "<ipython-input-128-e17c08647e3b>:5: SettingWithCopyWarning: \n",
      "A value is trying to be set on a copy of a slice from a DataFrame.\n",
      "Try using .loc[row_indexer,col_indexer] = value instead\n",
      "\n",
      "See the caveats in the documentation: https://pandas.pydata.org/pandas-docs/stable/user_guide/indexing.html#returning-a-view-versus-a-copy\n",
      "  df_valid['ypred_cat'] = np.argmax(ypred_val, axis=1)\n"
     ]
    },
    {
     "data": {
      "text/html": [
       "\n",
       "  <div id=\"df-05e465db-7624-414d-8b66-a451f66d9f5d\">\n",
       "    <div class=\"colab-df-container\">\n",
       "      <div>\n",
       "<style scoped>\n",
       "    .dataframe tbody tr th:only-of-type {\n",
       "        vertical-align: middle;\n",
       "    }\n",
       "\n",
       "    .dataframe tbody tr th {\n",
       "        vertical-align: top;\n",
       "    }\n",
       "\n",
       "    .dataframe thead th {\n",
       "        text-align: right;\n",
       "    }\n",
       "</style>\n",
       "<table border=\"1\" class=\"dataframe\">\n",
       "  <thead>\n",
       "    <tr style=\"text-align: right;\">\n",
       "      <th></th>\n",
       "      <th>id</th>\n",
       "      <th>tweet</th>\n",
       "      <th>labels</th>\n",
       "      <th>Sentiment_Cat</th>\n",
       "      <th>tweet_cleaned</th>\n",
       "      <th>ypred</th>\n",
       "      <th>ypred_cat</th>\n",
       "      <th>pred</th>\n",
       "    </tr>\n",
       "  </thead>\n",
       "  <tbody>\n",
       "    <tr>\n",
       "      <th>492</th>\n",
       "      <td>1305487773168615425</td>\n",
       "      <td>Just came back from my first rapid test for co...</td>\n",
       "      <td>primary</td>\n",
       "      <td>NaN</td>\n",
       "      <td>just came back from my first rapid test for co...</td>\n",
       "      <td>2</td>\n",
       "      <td>2</td>\n",
       "      <td>primary</td>\n",
       "    </tr>\n",
       "    <tr>\n",
       "      <th>1165</th>\n",
       "      <td>1241524267839340545</td>\n",
       "      <td>@carolecadwalla Also key is the advice of feve...</td>\n",
       "      <td>secondary</td>\n",
       "      <td>NaN</td>\n",
       "      <td>carolecadwalla also key is the advice of feve...</td>\n",
       "      <td>3</td>\n",
       "      <td>3</td>\n",
       "      <td>secondary</td>\n",
       "    </tr>\n",
       "    <tr>\n",
       "      <th>1372</th>\n",
       "      <td>1241840199614648320</td>\n",
       "      <td>So...is a sore throat a symptom of COVID-19?</td>\n",
       "      <td>non-reporting</td>\n",
       "      <td>NaN</td>\n",
       "      <td>so   is a sore throat a symptom of covid 19</td>\n",
       "      <td>0</td>\n",
       "      <td>0</td>\n",
       "      <td>non-reporting</td>\n",
       "    </tr>\n",
       "    <tr>\n",
       "      <th>779</th>\n",
       "      <td>1319817912945958912</td>\n",
       "      <td>Oh don’t worry about this cough. It’s not covi...</td>\n",
       "      <td>primary</td>\n",
       "      <td>NaN</td>\n",
       "      <td>oh do not worry about this cough  it is not co...</td>\n",
       "      <td>2</td>\n",
       "      <td>2</td>\n",
       "      <td>primary</td>\n",
       "    </tr>\n",
       "    <tr>\n",
       "      <th>887</th>\n",
       "      <td>1235747235712741379</td>\n",
       "      <td>Meanwhile Google nowadays *Symptoms - Cough - ...</td>\n",
       "      <td>non-reporting</td>\n",
       "      <td>NaN</td>\n",
       "      <td>meanwhile google nowadays  symptoms   cough   ...</td>\n",
       "      <td>0</td>\n",
       "      <td>0</td>\n",
       "      <td>non-reporting</td>\n",
       "    </tr>\n",
       "    <tr>\n",
       "      <th>...</th>\n",
       "      <td>...</td>\n",
       "      <td>...</td>\n",
       "      <td>...</td>\n",
       "      <td>...</td>\n",
       "      <td>...</td>\n",
       "      <td>...</td>\n",
       "      <td>...</td>\n",
       "      <td>...</td>\n",
       "    </tr>\n",
       "    <tr>\n",
       "      <th>469</th>\n",
       "      <td>1241278962216689666</td>\n",
       "      <td>Sis your really going out to a house party wit...</td>\n",
       "      <td>non-reporting</td>\n",
       "      <td>NaN</td>\n",
       "      <td>sis your really going out to a house party wit...</td>\n",
       "      <td>0</td>\n",
       "      <td>0</td>\n",
       "      <td>non-reporting</td>\n",
       "    </tr>\n",
       "    <tr>\n",
       "      <th>1335</th>\n",
       "      <td>1240019922404720645</td>\n",
       "      <td>dkdjjd someone said before covid you had to co...</td>\n",
       "      <td>non-reporting</td>\n",
       "      <td>NaN</td>\n",
       "      <td>dkdjjd someone said before covid you had to co...</td>\n",
       "      <td>0</td>\n",
       "      <td>0</td>\n",
       "      <td>non-reporting</td>\n",
       "    </tr>\n",
       "    <tr>\n",
       "      <th>1256</th>\n",
       "      <td>1271446598531366918</td>\n",
       "      <td>I know one more story of a friend telling me h...</td>\n",
       "      <td>non-reporting</td>\n",
       "      <td>NaN</td>\n",
       "      <td>i know one more story of a friend telling me h...</td>\n",
       "      <td>0</td>\n",
       "      <td>0</td>\n",
       "      <td>non-reporting</td>\n",
       "    </tr>\n",
       "    <tr>\n",
       "      <th>732</th>\n",
       "      <td>1247009410401984513</td>\n",
       "      <td>Welp, the wife's got a horrible cough and cold...</td>\n",
       "      <td>secondary</td>\n",
       "      <td>NaN</td>\n",
       "      <td>welp  the wife s got a horrible cough and cold...</td>\n",
       "      <td>3</td>\n",
       "      <td>3</td>\n",
       "      <td>secondary</td>\n",
       "    </tr>\n",
       "    <tr>\n",
       "      <th>704</th>\n",
       "      <td>1258166685112111104</td>\n",
       "      <td>Spooks on the lawn? So spooky! Is this my own ...</td>\n",
       "      <td>non-reporting</td>\n",
       "      <td>NaN</td>\n",
       "      <td>spooks on the lawn  so spooky  is this my own ...</td>\n",
       "      <td>0</td>\n",
       "      <td>0</td>\n",
       "      <td>non-reporting</td>\n",
       "    </tr>\n",
       "  </tbody>\n",
       "</table>\n",
       "<p>158 rows × 8 columns</p>\n",
       "</div>\n",
       "      <button class=\"colab-df-convert\" onclick=\"convertToInteractive('df-05e465db-7624-414d-8b66-a451f66d9f5d')\"\n",
       "              title=\"Convert this dataframe to an interactive table.\"\n",
       "              style=\"display:none;\">\n",
       "        \n",
       "  <svg xmlns=\"http://www.w3.org/2000/svg\" height=\"24px\"viewBox=\"0 0 24 24\"\n",
       "       width=\"24px\">\n",
       "    <path d=\"M0 0h24v24H0V0z\" fill=\"none\"/>\n",
       "    <path d=\"M18.56 5.44l.94 2.06.94-2.06 2.06-.94-2.06-.94-.94-2.06-.94 2.06-2.06.94zm-11 1L8.5 8.5l.94-2.06 2.06-.94-2.06-.94L8.5 2.5l-.94 2.06-2.06.94zm10 10l.94 2.06.94-2.06 2.06-.94-2.06-.94-.94-2.06-.94 2.06-2.06.94z\"/><path d=\"M17.41 7.96l-1.37-1.37c-.4-.4-.92-.59-1.43-.59-.52 0-1.04.2-1.43.59L10.3 9.45l-7.72 7.72c-.78.78-.78 2.05 0 2.83L4 21.41c.39.39.9.59 1.41.59.51 0 1.02-.2 1.41-.59l7.78-7.78 2.81-2.81c.8-.78.8-2.07 0-2.86zM5.41 20L4 18.59l7.72-7.72 1.47 1.35L5.41 20z\"/>\n",
       "  </svg>\n",
       "      </button>\n",
       "      \n",
       "  <style>\n",
       "    .colab-df-container {\n",
       "      display:flex;\n",
       "      flex-wrap:wrap;\n",
       "      gap: 12px;\n",
       "    }\n",
       "\n",
       "    .colab-df-convert {\n",
       "      background-color: #E8F0FE;\n",
       "      border: none;\n",
       "      border-radius: 50%;\n",
       "      cursor: pointer;\n",
       "      display: none;\n",
       "      fill: #1967D2;\n",
       "      height: 32px;\n",
       "      padding: 0 0 0 0;\n",
       "      width: 32px;\n",
       "    }\n",
       "\n",
       "    .colab-df-convert:hover {\n",
       "      background-color: #E2EBFA;\n",
       "      box-shadow: 0px 1px 2px rgba(60, 64, 67, 0.3), 0px 1px 3px 1px rgba(60, 64, 67, 0.15);\n",
       "      fill: #174EA6;\n",
       "    }\n",
       "\n",
       "    [theme=dark] .colab-df-convert {\n",
       "      background-color: #3B4455;\n",
       "      fill: #D2E3FC;\n",
       "    }\n",
       "\n",
       "    [theme=dark] .colab-df-convert:hover {\n",
       "      background-color: #434B5C;\n",
       "      box-shadow: 0px 1px 3px 1px rgba(0, 0, 0, 0.15);\n",
       "      filter: drop-shadow(0px 1px 2px rgba(0, 0, 0, 0.3));\n",
       "      fill: #FFFFFF;\n",
       "    }\n",
       "  </style>\n",
       "\n",
       "      <script>\n",
       "        const buttonEl =\n",
       "          document.querySelector('#df-05e465db-7624-414d-8b66-a451f66d9f5d button.colab-df-convert');\n",
       "        buttonEl.style.display =\n",
       "          google.colab.kernel.accessAllowed ? 'block' : 'none';\n",
       "\n",
       "        async function convertToInteractive(key) {\n",
       "          const element = document.querySelector('#df-05e465db-7624-414d-8b66-a451f66d9f5d');\n",
       "          const dataTable =\n",
       "            await google.colab.kernel.invokeFunction('convertToInteractive',\n",
       "                                                     [key], {});\n",
       "          if (!dataTable) return;\n",
       "\n",
       "          const docLinkHtml = 'Like what you see? Visit the ' +\n",
       "            '<a target=\"_blank\" href=https://colab.research.google.com/notebooks/data_table.ipynb>data table notebook</a>'\n",
       "            + ' to learn more about interactive tables.';\n",
       "          element.innerHTML = '';\n",
       "          dataTable['output_type'] = 'display_data';\n",
       "          await google.colab.output.renderOutput(dataTable, element);\n",
       "          const docLink = document.createElement('div');\n",
       "          docLink.innerHTML = docLinkHtml;\n",
       "          element.appendChild(docLink);\n",
       "        }\n",
       "      </script>\n",
       "    </div>\n",
       "  </div>\n",
       "  "
      ],
      "text/plain": [
       "                       id                                              tweet  \\\n",
       "492   1305487773168615425  Just came back from my first rapid test for co...   \n",
       "1165  1241524267839340545  @carolecadwalla Also key is the advice of feve...   \n",
       "1372  1241840199614648320       So...is a sore throat a symptom of COVID-19?   \n",
       "779   1319817912945958912  Oh don’t worry about this cough. It’s not covi...   \n",
       "887   1235747235712741379  Meanwhile Google nowadays *Symptoms - Cough - ...   \n",
       "...                   ...                                                ...   \n",
       "469   1241278962216689666  Sis your really going out to a house party wit...   \n",
       "1335  1240019922404720645  dkdjjd someone said before covid you had to co...   \n",
       "1256  1271446598531366918  I know one more story of a friend telling me h...   \n",
       "732   1247009410401984513  Welp, the wife's got a horrible cough and cold...   \n",
       "704   1258166685112111104  Spooks on the lawn? So spooky! Is this my own ...   \n",
       "\n",
       "             labels  Sentiment_Cat  \\\n",
       "492         primary            NaN   \n",
       "1165      secondary            NaN   \n",
       "1372  non-reporting            NaN   \n",
       "779         primary            NaN   \n",
       "887   non-reporting            NaN   \n",
       "...             ...            ...   \n",
       "469   non-reporting            NaN   \n",
       "1335  non-reporting            NaN   \n",
       "1256  non-reporting            NaN   \n",
       "732       secondary            NaN   \n",
       "704   non-reporting            NaN   \n",
       "\n",
       "                                          tweet_cleaned  ypred  ypred_cat  \\\n",
       "492   just came back from my first rapid test for co...      2          2   \n",
       "1165   carolecadwalla also key is the advice of feve...      3          3   \n",
       "1372       so   is a sore throat a symptom of covid 19       0          0   \n",
       "779   oh do not worry about this cough  it is not co...      2          2   \n",
       "887   meanwhile google nowadays  symptoms   cough   ...      0          0   \n",
       "...                                                 ...    ...        ...   \n",
       "469   sis your really going out to a house party wit...      0          0   \n",
       "1335  dkdjjd someone said before covid you had to co...      0          0   \n",
       "1256  i know one more story of a friend telling me h...      0          0   \n",
       "732   welp  the wife s got a horrible cough and cold...      3          3   \n",
       "704   spooks on the lawn  so spooky  is this my own ...      0          0   \n",
       "\n",
       "               pred  \n",
       "492         primary  \n",
       "1165      secondary  \n",
       "1372  non-reporting  \n",
       "779         primary  \n",
       "887   non-reporting  \n",
       "...             ...  \n",
       "469   non-reporting  \n",
       "1335  non-reporting  \n",
       "1256  non-reporting  \n",
       "732       secondary  \n",
       "704   non-reporting  \n",
       "\n",
       "[158 rows x 8 columns]"
      ]
     },
     "execution_count": 128,
     "metadata": {},
     "output_type": "execute_result"
    }
   ],
   "source": [
    "ypred_val = model.predict(x_val_enc)\n",
    "# ypred_val\n",
    "df_valid['ypred'] = np.argmax(ypred_val, axis=1)\n",
    "df_valid['ypred_cat'] = np.where(df_valid['ypred']>=0.5, 1, 0)\n",
    "df_valid['ypred_cat'] = np.argmax(ypred_val, axis=1)\n",
    "df_valid"
   ]
  },
  {
   "cell_type": "code",
   "execution_count": 129,
   "metadata": {
    "colab": {
     "base_uri": "https://localhost:8080/",
     "height": 1000
    },
    "id": "Un-NnlibzcvF",
    "outputId": "c1badf8f-807d-4ffd-c5a2-1bd558a88d6c"
   },
   "outputs": [
    {
     "name": "stderr",
     "output_type": "stream",
     "text": [
      "<ipython-input-129-5567e7e3fe32>:1: SettingWithCopyWarning: \n",
      "A value is trying to be set on a copy of a slice from a DataFrame.\n",
      "Try using .loc[row_indexer,col_indexer] = value instead\n",
      "\n",
      "See the caveats in the documentation: https://pandas.pydata.org/pandas-docs/stable/user_guide/indexing.html#returning-a-view-versus-a-copy\n",
      "  df_valid['pred'] = np.argmax(ypred_val, axis=1)\n"
     ]
    },
    {
     "data": {
      "text/html": [
       "\n",
       "  <div id=\"df-2857f0d4-4f6e-4251-b77a-579a97156094\">\n",
       "    <div class=\"colab-df-container\">\n",
       "      <div>\n",
       "<style scoped>\n",
       "    .dataframe tbody tr th:only-of-type {\n",
       "        vertical-align: middle;\n",
       "    }\n",
       "\n",
       "    .dataframe tbody tr th {\n",
       "        vertical-align: top;\n",
       "    }\n",
       "\n",
       "    .dataframe thead th {\n",
       "        text-align: right;\n",
       "    }\n",
       "</style>\n",
       "<table border=\"1\" class=\"dataframe\">\n",
       "  <thead>\n",
       "    <tr style=\"text-align: right;\">\n",
       "      <th></th>\n",
       "      <th>id</th>\n",
       "      <th>tweet</th>\n",
       "      <th>labels</th>\n",
       "      <th>Sentiment_Cat</th>\n",
       "      <th>tweet_cleaned</th>\n",
       "      <th>ypred</th>\n",
       "      <th>ypred_cat</th>\n",
       "      <th>pred</th>\n",
       "    </tr>\n",
       "  </thead>\n",
       "  <tbody>\n",
       "    <tr>\n",
       "      <th>492</th>\n",
       "      <td>1305487773168615425</td>\n",
       "      <td>Just came back from my first rapid test for co...</td>\n",
       "      <td>primary</td>\n",
       "      <td>NaN</td>\n",
       "      <td>just came back from my first rapid test for co...</td>\n",
       "      <td>2</td>\n",
       "      <td>2</td>\n",
       "      <td>2</td>\n",
       "    </tr>\n",
       "    <tr>\n",
       "      <th>1165</th>\n",
       "      <td>1241524267839340545</td>\n",
       "      <td>@carolecadwalla Also key is the advice of feve...</td>\n",
       "      <td>secondary</td>\n",
       "      <td>NaN</td>\n",
       "      <td>carolecadwalla also key is the advice of feve...</td>\n",
       "      <td>3</td>\n",
       "      <td>3</td>\n",
       "      <td>3</td>\n",
       "    </tr>\n",
       "    <tr>\n",
       "      <th>1372</th>\n",
       "      <td>1241840199614648320</td>\n",
       "      <td>So...is a sore throat a symptom of COVID-19?</td>\n",
       "      <td>non-reporting</td>\n",
       "      <td>NaN</td>\n",
       "      <td>so   is a sore throat a symptom of covid 19</td>\n",
       "      <td>0</td>\n",
       "      <td>0</td>\n",
       "      <td>0</td>\n",
       "    </tr>\n",
       "    <tr>\n",
       "      <th>779</th>\n",
       "      <td>1319817912945958912</td>\n",
       "      <td>Oh don’t worry about this cough. It’s not covi...</td>\n",
       "      <td>primary</td>\n",
       "      <td>NaN</td>\n",
       "      <td>oh do not worry about this cough  it is not co...</td>\n",
       "      <td>2</td>\n",
       "      <td>2</td>\n",
       "      <td>2</td>\n",
       "    </tr>\n",
       "    <tr>\n",
       "      <th>887</th>\n",
       "      <td>1235747235712741379</td>\n",
       "      <td>Meanwhile Google nowadays *Symptoms - Cough - ...</td>\n",
       "      <td>non-reporting</td>\n",
       "      <td>NaN</td>\n",
       "      <td>meanwhile google nowadays  symptoms   cough   ...</td>\n",
       "      <td>0</td>\n",
       "      <td>0</td>\n",
       "      <td>0</td>\n",
       "    </tr>\n",
       "    <tr>\n",
       "      <th>...</th>\n",
       "      <td>...</td>\n",
       "      <td>...</td>\n",
       "      <td>...</td>\n",
       "      <td>...</td>\n",
       "      <td>...</td>\n",
       "      <td>...</td>\n",
       "      <td>...</td>\n",
       "      <td>...</td>\n",
       "    </tr>\n",
       "    <tr>\n",
       "      <th>469</th>\n",
       "      <td>1241278962216689666</td>\n",
       "      <td>Sis your really going out to a house party wit...</td>\n",
       "      <td>non-reporting</td>\n",
       "      <td>NaN</td>\n",
       "      <td>sis your really going out to a house party wit...</td>\n",
       "      <td>0</td>\n",
       "      <td>0</td>\n",
       "      <td>0</td>\n",
       "    </tr>\n",
       "    <tr>\n",
       "      <th>1335</th>\n",
       "      <td>1240019922404720645</td>\n",
       "      <td>dkdjjd someone said before covid you had to co...</td>\n",
       "      <td>non-reporting</td>\n",
       "      <td>NaN</td>\n",
       "      <td>dkdjjd someone said before covid you had to co...</td>\n",
       "      <td>0</td>\n",
       "      <td>0</td>\n",
       "      <td>0</td>\n",
       "    </tr>\n",
       "    <tr>\n",
       "      <th>1256</th>\n",
       "      <td>1271446598531366918</td>\n",
       "      <td>I know one more story of a friend telling me h...</td>\n",
       "      <td>non-reporting</td>\n",
       "      <td>NaN</td>\n",
       "      <td>i know one more story of a friend telling me h...</td>\n",
       "      <td>0</td>\n",
       "      <td>0</td>\n",
       "      <td>0</td>\n",
       "    </tr>\n",
       "    <tr>\n",
       "      <th>732</th>\n",
       "      <td>1247009410401984513</td>\n",
       "      <td>Welp, the wife's got a horrible cough and cold...</td>\n",
       "      <td>secondary</td>\n",
       "      <td>NaN</td>\n",
       "      <td>welp  the wife s got a horrible cough and cold...</td>\n",
       "      <td>3</td>\n",
       "      <td>3</td>\n",
       "      <td>3</td>\n",
       "    </tr>\n",
       "    <tr>\n",
       "      <th>704</th>\n",
       "      <td>1258166685112111104</td>\n",
       "      <td>Spooks on the lawn? So spooky! Is this my own ...</td>\n",
       "      <td>non-reporting</td>\n",
       "      <td>NaN</td>\n",
       "      <td>spooks on the lawn  so spooky  is this my own ...</td>\n",
       "      <td>0</td>\n",
       "      <td>0</td>\n",
       "      <td>0</td>\n",
       "    </tr>\n",
       "  </tbody>\n",
       "</table>\n",
       "<p>158 rows × 8 columns</p>\n",
       "</div>\n",
       "      <button class=\"colab-df-convert\" onclick=\"convertToInteractive('df-2857f0d4-4f6e-4251-b77a-579a97156094')\"\n",
       "              title=\"Convert this dataframe to an interactive table.\"\n",
       "              style=\"display:none;\">\n",
       "        \n",
       "  <svg xmlns=\"http://www.w3.org/2000/svg\" height=\"24px\"viewBox=\"0 0 24 24\"\n",
       "       width=\"24px\">\n",
       "    <path d=\"M0 0h24v24H0V0z\" fill=\"none\"/>\n",
       "    <path d=\"M18.56 5.44l.94 2.06.94-2.06 2.06-.94-2.06-.94-.94-2.06-.94 2.06-2.06.94zm-11 1L8.5 8.5l.94-2.06 2.06-.94-2.06-.94L8.5 2.5l-.94 2.06-2.06.94zm10 10l.94 2.06.94-2.06 2.06-.94-2.06-.94-.94-2.06-.94 2.06-2.06.94z\"/><path d=\"M17.41 7.96l-1.37-1.37c-.4-.4-.92-.59-1.43-.59-.52 0-1.04.2-1.43.59L10.3 9.45l-7.72 7.72c-.78.78-.78 2.05 0 2.83L4 21.41c.39.39.9.59 1.41.59.51 0 1.02-.2 1.41-.59l7.78-7.78 2.81-2.81c.8-.78.8-2.07 0-2.86zM5.41 20L4 18.59l7.72-7.72 1.47 1.35L5.41 20z\"/>\n",
       "  </svg>\n",
       "      </button>\n",
       "      \n",
       "  <style>\n",
       "    .colab-df-container {\n",
       "      display:flex;\n",
       "      flex-wrap:wrap;\n",
       "      gap: 12px;\n",
       "    }\n",
       "\n",
       "    .colab-df-convert {\n",
       "      background-color: #E8F0FE;\n",
       "      border: none;\n",
       "      border-radius: 50%;\n",
       "      cursor: pointer;\n",
       "      display: none;\n",
       "      fill: #1967D2;\n",
       "      height: 32px;\n",
       "      padding: 0 0 0 0;\n",
       "      width: 32px;\n",
       "    }\n",
       "\n",
       "    .colab-df-convert:hover {\n",
       "      background-color: #E2EBFA;\n",
       "      box-shadow: 0px 1px 2px rgba(60, 64, 67, 0.3), 0px 1px 3px 1px rgba(60, 64, 67, 0.15);\n",
       "      fill: #174EA6;\n",
       "    }\n",
       "\n",
       "    [theme=dark] .colab-df-convert {\n",
       "      background-color: #3B4455;\n",
       "      fill: #D2E3FC;\n",
       "    }\n",
       "\n",
       "    [theme=dark] .colab-df-convert:hover {\n",
       "      background-color: #434B5C;\n",
       "      box-shadow: 0px 1px 3px 1px rgba(0, 0, 0, 0.15);\n",
       "      filter: drop-shadow(0px 1px 2px rgba(0, 0, 0, 0.3));\n",
       "      fill: #FFFFFF;\n",
       "    }\n",
       "  </style>\n",
       "\n",
       "      <script>\n",
       "        const buttonEl =\n",
       "          document.querySelector('#df-2857f0d4-4f6e-4251-b77a-579a97156094 button.colab-df-convert');\n",
       "        buttonEl.style.display =\n",
       "          google.colab.kernel.accessAllowed ? 'block' : 'none';\n",
       "\n",
       "        async function convertToInteractive(key) {\n",
       "          const element = document.querySelector('#df-2857f0d4-4f6e-4251-b77a-579a97156094');\n",
       "          const dataTable =\n",
       "            await google.colab.kernel.invokeFunction('convertToInteractive',\n",
       "                                                     [key], {});\n",
       "          if (!dataTable) return;\n",
       "\n",
       "          const docLinkHtml = 'Like what you see? Visit the ' +\n",
       "            '<a target=\"_blank\" href=https://colab.research.google.com/notebooks/data_table.ipynb>data table notebook</a>'\n",
       "            + ' to learn more about interactive tables.';\n",
       "          element.innerHTML = '';\n",
       "          dataTable['output_type'] = 'display_data';\n",
       "          await google.colab.output.renderOutput(dataTable, element);\n",
       "          const docLink = document.createElement('div');\n",
       "          docLink.innerHTML = docLinkHtml;\n",
       "          element.appendChild(docLink);\n",
       "        }\n",
       "      </script>\n",
       "    </div>\n",
       "  </div>\n",
       "  "
      ],
      "text/plain": [
       "                       id                                              tweet  \\\n",
       "492   1305487773168615425  Just came back from my first rapid test for co...   \n",
       "1165  1241524267839340545  @carolecadwalla Also key is the advice of feve...   \n",
       "1372  1241840199614648320       So...is a sore throat a symptom of COVID-19?   \n",
       "779   1319817912945958912  Oh don’t worry about this cough. It’s not covi...   \n",
       "887   1235747235712741379  Meanwhile Google nowadays *Symptoms - Cough - ...   \n",
       "...                   ...                                                ...   \n",
       "469   1241278962216689666  Sis your really going out to a house party wit...   \n",
       "1335  1240019922404720645  dkdjjd someone said before covid you had to co...   \n",
       "1256  1271446598531366918  I know one more story of a friend telling me h...   \n",
       "732   1247009410401984513  Welp, the wife's got a horrible cough and cold...   \n",
       "704   1258166685112111104  Spooks on the lawn? So spooky! Is this my own ...   \n",
       "\n",
       "             labels  Sentiment_Cat  \\\n",
       "492         primary            NaN   \n",
       "1165      secondary            NaN   \n",
       "1372  non-reporting            NaN   \n",
       "779         primary            NaN   \n",
       "887   non-reporting            NaN   \n",
       "...             ...            ...   \n",
       "469   non-reporting            NaN   \n",
       "1335  non-reporting            NaN   \n",
       "1256  non-reporting            NaN   \n",
       "732       secondary            NaN   \n",
       "704   non-reporting            NaN   \n",
       "\n",
       "                                          tweet_cleaned  ypred  ypred_cat  \\\n",
       "492   just came back from my first rapid test for co...      2          2   \n",
       "1165   carolecadwalla also key is the advice of feve...      3          3   \n",
       "1372       so   is a sore throat a symptom of covid 19       0          0   \n",
       "779   oh do not worry about this cough  it is not co...      2          2   \n",
       "887   meanwhile google nowadays  symptoms   cough   ...      0          0   \n",
       "...                                                 ...    ...        ...   \n",
       "469   sis your really going out to a house party wit...      0          0   \n",
       "1335  dkdjjd someone said before covid you had to co...      0          0   \n",
       "1256  i know one more story of a friend telling me h...      0          0   \n",
       "732   welp  the wife s got a horrible cough and cold...      3          3   \n",
       "704   spooks on the lawn  so spooky  is this my own ...      0          0   \n",
       "\n",
       "      pred  \n",
       "492      2  \n",
       "1165     3  \n",
       "1372     0  \n",
       "779      2  \n",
       "887      0  \n",
       "...    ...  \n",
       "469      0  \n",
       "1335     0  \n",
       "1256     0  \n",
       "732      3  \n",
       "704      0  \n",
       "\n",
       "[158 rows x 8 columns]"
      ]
     },
     "execution_count": 129,
     "metadata": {},
     "output_type": "execute_result"
    }
   ],
   "source": [
    "df_valid['pred'] = np.argmax(ypred_val, axis=1)\n",
    "df_valid"
   ]
  },
  {
   "cell_type": "markdown",
   "metadata": {
    "id": "Zo0lmjbL23Hk"
   },
   "source": [
    "## Converting y_pred from number to String Category"
   ]
  },
  {
   "cell_type": "code",
   "execution_count": 130,
   "metadata": {
    "id": "S2aZo6WC70Up"
   },
   "outputs": [],
   "source": [
    "y_map_inv = {\n",
    "    0: 'non-reporting',\n",
    "    1: 'third-party',\n",
    "    2: 'primary',\n",
    "    3:'secondary'\n",
    "}\n",
    "# df_valid['pred'] = df_valid['pred'].map(y_map_inv)"
   ]
  },
  {
   "cell_type": "code",
   "execution_count": 122,
   "metadata": {
    "colab": {
     "base_uri": "https://localhost:8080/",
     "height": 1000
    },
    "id": "ZeJg31fk07ir",
    "outputId": "0426a791-41df-4fe6-a85a-70290113a353"
   },
   "outputs": [
    {
     "data": {
      "text/html": [
       "\n",
       "  <div id=\"df-dc8905a8-6aec-4f99-b1a2-8cfd17642eb4\">\n",
       "    <div class=\"colab-df-container\">\n",
       "      <div>\n",
       "<style scoped>\n",
       "    .dataframe tbody tr th:only-of-type {\n",
       "        vertical-align: middle;\n",
       "    }\n",
       "\n",
       "    .dataframe tbody tr th {\n",
       "        vertical-align: top;\n",
       "    }\n",
       "\n",
       "    .dataframe thead th {\n",
       "        text-align: right;\n",
       "    }\n",
       "</style>\n",
       "<table border=\"1\" class=\"dataframe\">\n",
       "  <thead>\n",
       "    <tr style=\"text-align: right;\">\n",
       "      <th></th>\n",
       "      <th>id</th>\n",
       "      <th>tweet</th>\n",
       "      <th>labels</th>\n",
       "      <th>Sentiment_Cat</th>\n",
       "      <th>tweet_cleaned</th>\n",
       "      <th>ypred</th>\n",
       "      <th>ypred_cat</th>\n",
       "      <th>pred</th>\n",
       "    </tr>\n",
       "  </thead>\n",
       "  <tbody>\n",
       "    <tr>\n",
       "      <th>492</th>\n",
       "      <td>1305487773168615425</td>\n",
       "      <td>Just came back from my first rapid test for co...</td>\n",
       "      <td>primary</td>\n",
       "      <td>NaN</td>\n",
       "      <td>just came back from my first rapid test for co...</td>\n",
       "      <td>2</td>\n",
       "      <td>2</td>\n",
       "      <td>primary</td>\n",
       "    </tr>\n",
       "    <tr>\n",
       "      <th>1165</th>\n",
       "      <td>1241524267839340545</td>\n",
       "      <td>@carolecadwalla Also key is the advice of feve...</td>\n",
       "      <td>secondary</td>\n",
       "      <td>NaN</td>\n",
       "      <td>carolecadwalla also key is the advice of feve...</td>\n",
       "      <td>3</td>\n",
       "      <td>3</td>\n",
       "      <td>secondary</td>\n",
       "    </tr>\n",
       "    <tr>\n",
       "      <th>1372</th>\n",
       "      <td>1241840199614648320</td>\n",
       "      <td>So...is a sore throat a symptom of COVID-19?</td>\n",
       "      <td>non-reporting</td>\n",
       "      <td>NaN</td>\n",
       "      <td>so   is a sore throat a symptom of covid 19</td>\n",
       "      <td>0</td>\n",
       "      <td>0</td>\n",
       "      <td>non-reporting</td>\n",
       "    </tr>\n",
       "    <tr>\n",
       "      <th>779</th>\n",
       "      <td>1319817912945958912</td>\n",
       "      <td>Oh don’t worry about this cough. It’s not covi...</td>\n",
       "      <td>primary</td>\n",
       "      <td>NaN</td>\n",
       "      <td>oh do not worry about this cough  it is not co...</td>\n",
       "      <td>2</td>\n",
       "      <td>2</td>\n",
       "      <td>primary</td>\n",
       "    </tr>\n",
       "    <tr>\n",
       "      <th>887</th>\n",
       "      <td>1235747235712741379</td>\n",
       "      <td>Meanwhile Google nowadays *Symptoms - Cough - ...</td>\n",
       "      <td>non-reporting</td>\n",
       "      <td>NaN</td>\n",
       "      <td>meanwhile google nowadays  symptoms   cough   ...</td>\n",
       "      <td>0</td>\n",
       "      <td>0</td>\n",
       "      <td>non-reporting</td>\n",
       "    </tr>\n",
       "    <tr>\n",
       "      <th>...</th>\n",
       "      <td>...</td>\n",
       "      <td>...</td>\n",
       "      <td>...</td>\n",
       "      <td>...</td>\n",
       "      <td>...</td>\n",
       "      <td>...</td>\n",
       "      <td>...</td>\n",
       "      <td>...</td>\n",
       "    </tr>\n",
       "    <tr>\n",
       "      <th>469</th>\n",
       "      <td>1241278962216689666</td>\n",
       "      <td>Sis your really going out to a house party wit...</td>\n",
       "      <td>non-reporting</td>\n",
       "      <td>NaN</td>\n",
       "      <td>sis your really going out to a house party wit...</td>\n",
       "      <td>0</td>\n",
       "      <td>0</td>\n",
       "      <td>non-reporting</td>\n",
       "    </tr>\n",
       "    <tr>\n",
       "      <th>1335</th>\n",
       "      <td>1240019922404720645</td>\n",
       "      <td>dkdjjd someone said before covid you had to co...</td>\n",
       "      <td>non-reporting</td>\n",
       "      <td>NaN</td>\n",
       "      <td>dkdjjd someone said before covid you had to co...</td>\n",
       "      <td>0</td>\n",
       "      <td>0</td>\n",
       "      <td>non-reporting</td>\n",
       "    </tr>\n",
       "    <tr>\n",
       "      <th>1256</th>\n",
       "      <td>1271446598531366918</td>\n",
       "      <td>I know one more story of a friend telling me h...</td>\n",
       "      <td>non-reporting</td>\n",
       "      <td>NaN</td>\n",
       "      <td>i know one more story of a friend telling me h...</td>\n",
       "      <td>0</td>\n",
       "      <td>0</td>\n",
       "      <td>non-reporting</td>\n",
       "    </tr>\n",
       "    <tr>\n",
       "      <th>732</th>\n",
       "      <td>1247009410401984513</td>\n",
       "      <td>Welp, the wife's got a horrible cough and cold...</td>\n",
       "      <td>secondary</td>\n",
       "      <td>NaN</td>\n",
       "      <td>welp  the wife s got a horrible cough and cold...</td>\n",
       "      <td>3</td>\n",
       "      <td>3</td>\n",
       "      <td>secondary</td>\n",
       "    </tr>\n",
       "    <tr>\n",
       "      <th>704</th>\n",
       "      <td>1258166685112111104</td>\n",
       "      <td>Spooks on the lawn? So spooky! Is this my own ...</td>\n",
       "      <td>non-reporting</td>\n",
       "      <td>NaN</td>\n",
       "      <td>spooks on the lawn  so spooky  is this my own ...</td>\n",
       "      <td>0</td>\n",
       "      <td>0</td>\n",
       "      <td>non-reporting</td>\n",
       "    </tr>\n",
       "  </tbody>\n",
       "</table>\n",
       "<p>158 rows × 8 columns</p>\n",
       "</div>\n",
       "      <button class=\"colab-df-convert\" onclick=\"convertToInteractive('df-dc8905a8-6aec-4f99-b1a2-8cfd17642eb4')\"\n",
       "              title=\"Convert this dataframe to an interactive table.\"\n",
       "              style=\"display:none;\">\n",
       "        \n",
       "  <svg xmlns=\"http://www.w3.org/2000/svg\" height=\"24px\"viewBox=\"0 0 24 24\"\n",
       "       width=\"24px\">\n",
       "    <path d=\"M0 0h24v24H0V0z\" fill=\"none\"/>\n",
       "    <path d=\"M18.56 5.44l.94 2.06.94-2.06 2.06-.94-2.06-.94-.94-2.06-.94 2.06-2.06.94zm-11 1L8.5 8.5l.94-2.06 2.06-.94-2.06-.94L8.5 2.5l-.94 2.06-2.06.94zm10 10l.94 2.06.94-2.06 2.06-.94-2.06-.94-.94-2.06-.94 2.06-2.06.94z\"/><path d=\"M17.41 7.96l-1.37-1.37c-.4-.4-.92-.59-1.43-.59-.52 0-1.04.2-1.43.59L10.3 9.45l-7.72 7.72c-.78.78-.78 2.05 0 2.83L4 21.41c.39.39.9.59 1.41.59.51 0 1.02-.2 1.41-.59l7.78-7.78 2.81-2.81c.8-.78.8-2.07 0-2.86zM5.41 20L4 18.59l7.72-7.72 1.47 1.35L5.41 20z\"/>\n",
       "  </svg>\n",
       "      </button>\n",
       "      \n",
       "  <style>\n",
       "    .colab-df-container {\n",
       "      display:flex;\n",
       "      flex-wrap:wrap;\n",
       "      gap: 12px;\n",
       "    }\n",
       "\n",
       "    .colab-df-convert {\n",
       "      background-color: #E8F0FE;\n",
       "      border: none;\n",
       "      border-radius: 50%;\n",
       "      cursor: pointer;\n",
       "      display: none;\n",
       "      fill: #1967D2;\n",
       "      height: 32px;\n",
       "      padding: 0 0 0 0;\n",
       "      width: 32px;\n",
       "    }\n",
       "\n",
       "    .colab-df-convert:hover {\n",
       "      background-color: #E2EBFA;\n",
       "      box-shadow: 0px 1px 2px rgba(60, 64, 67, 0.3), 0px 1px 3px 1px rgba(60, 64, 67, 0.15);\n",
       "      fill: #174EA6;\n",
       "    }\n",
       "\n",
       "    [theme=dark] .colab-df-convert {\n",
       "      background-color: #3B4455;\n",
       "      fill: #D2E3FC;\n",
       "    }\n",
       "\n",
       "    [theme=dark] .colab-df-convert:hover {\n",
       "      background-color: #434B5C;\n",
       "      box-shadow: 0px 1px 3px 1px rgba(0, 0, 0, 0.15);\n",
       "      filter: drop-shadow(0px 1px 2px rgba(0, 0, 0, 0.3));\n",
       "      fill: #FFFFFF;\n",
       "    }\n",
       "  </style>\n",
       "\n",
       "      <script>\n",
       "        const buttonEl =\n",
       "          document.querySelector('#df-dc8905a8-6aec-4f99-b1a2-8cfd17642eb4 button.colab-df-convert');\n",
       "        buttonEl.style.display =\n",
       "          google.colab.kernel.accessAllowed ? 'block' : 'none';\n",
       "\n",
       "        async function convertToInteractive(key) {\n",
       "          const element = document.querySelector('#df-dc8905a8-6aec-4f99-b1a2-8cfd17642eb4');\n",
       "          const dataTable =\n",
       "            await google.colab.kernel.invokeFunction('convertToInteractive',\n",
       "                                                     [key], {});\n",
       "          if (!dataTable) return;\n",
       "\n",
       "          const docLinkHtml = 'Like what you see? Visit the ' +\n",
       "            '<a target=\"_blank\" href=https://colab.research.google.com/notebooks/data_table.ipynb>data table notebook</a>'\n",
       "            + ' to learn more about interactive tables.';\n",
       "          element.innerHTML = '';\n",
       "          dataTable['output_type'] = 'display_data';\n",
       "          await google.colab.output.renderOutput(dataTable, element);\n",
       "          const docLink = document.createElement('div');\n",
       "          docLink.innerHTML = docLinkHtml;\n",
       "          element.appendChild(docLink);\n",
       "        }\n",
       "      </script>\n",
       "    </div>\n",
       "  </div>\n",
       "  "
      ],
      "text/plain": [
       "                       id                                              tweet  \\\n",
       "492   1305487773168615425  Just came back from my first rapid test for co...   \n",
       "1165  1241524267839340545  @carolecadwalla Also key is the advice of feve...   \n",
       "1372  1241840199614648320       So...is a sore throat a symptom of COVID-19?   \n",
       "779   1319817912945958912  Oh don’t worry about this cough. It’s not covi...   \n",
       "887   1235747235712741379  Meanwhile Google nowadays *Symptoms - Cough - ...   \n",
       "...                   ...                                                ...   \n",
       "469   1241278962216689666  Sis your really going out to a house party wit...   \n",
       "1335  1240019922404720645  dkdjjd someone said before covid you had to co...   \n",
       "1256  1271446598531366918  I know one more story of a friend telling me h...   \n",
       "732   1247009410401984513  Welp, the wife's got a horrible cough and cold...   \n",
       "704   1258166685112111104  Spooks on the lawn? So spooky! Is this my own ...   \n",
       "\n",
       "             labels  Sentiment_Cat  \\\n",
       "492         primary            NaN   \n",
       "1165      secondary            NaN   \n",
       "1372  non-reporting            NaN   \n",
       "779         primary            NaN   \n",
       "887   non-reporting            NaN   \n",
       "...             ...            ...   \n",
       "469   non-reporting            NaN   \n",
       "1335  non-reporting            NaN   \n",
       "1256  non-reporting            NaN   \n",
       "732       secondary            NaN   \n",
       "704   non-reporting            NaN   \n",
       "\n",
       "                                          tweet_cleaned  ypred  ypred_cat  \\\n",
       "492   just came back from my first rapid test for co...      2          2   \n",
       "1165   carolecadwalla also key is the advice of feve...      3          3   \n",
       "1372       so   is a sore throat a symptom of covid 19       0          0   \n",
       "779   oh do not worry about this cough  it is not co...      2          2   \n",
       "887   meanwhile google nowadays  symptoms   cough   ...      0          0   \n",
       "...                                                 ...    ...        ...   \n",
       "469   sis your really going out to a house party wit...      0          0   \n",
       "1335  dkdjjd someone said before covid you had to co...      0          0   \n",
       "1256  i know one more story of a friend telling me h...      0          0   \n",
       "732   welp  the wife s got a horrible cough and cold...      3          3   \n",
       "704   spooks on the lawn  so spooky  is this my own ...      0          0   \n",
       "\n",
       "               pred  \n",
       "492         primary  \n",
       "1165      secondary  \n",
       "1372  non-reporting  \n",
       "779         primary  \n",
       "887   non-reporting  \n",
       "...             ...  \n",
       "469   non-reporting  \n",
       "1335  non-reporting  \n",
       "1256  non-reporting  \n",
       "732       secondary  \n",
       "704   non-reporting  \n",
       "\n",
       "[158 rows x 8 columns]"
      ]
     },
     "execution_count": 122,
     "metadata": {},
     "output_type": "execute_result"
    }
   ],
   "source": [
    "df_valid"
   ]
  },
  {
   "cell_type": "code",
   "execution_count": 119,
   "metadata": {
    "id": "HtS-ENK070Up"
   },
   "outputs": [],
   "source": [
    "# df_test1[\"id\"]= df_test[\"id\"]\n",
    "df_valid.to_csv(\"DATA@IITD_task2_run1.csv\")"
   ]
  },
  {
   "cell_type": "code",
   "execution_count": 131,
   "metadata": {
    "colab": {
     "base_uri": "https://localhost:8080/"
    },
    "id": "lz1wGfKQ70Up",
    "outputId": "ef6f6082-fc91-466e-9cb2-0dbc5115ced9"
   },
   "outputs": [
    {
     "data": {
      "text/plain": [
       "0    76\n",
       "2    48\n",
       "1    21\n",
       "3    13\n",
       "Name: pred, dtype: int64"
      ]
     },
     "execution_count": 131,
     "metadata": {},
     "output_type": "execute_result"
    }
   ],
   "source": [
    "df_valid.pred.value_counts()"
   ]
  },
  {
   "cell_type": "markdown",
   "metadata": {
    "id": "jGZ8al9Q3MeV"
   },
   "source": [
    "## Confusion Matrix of Validation Set"
   ]
  },
  {
   "cell_type": "code",
   "execution_count": 132,
   "metadata": {
    "colab": {
     "base_uri": "https://localhost:8080/",
     "height": 472
    },
    "id": "3XLO099856Xm",
    "outputId": "5a490bf3-6633-428c-839e-1613172a790e"
   },
   "outputs": [
    {
     "data": {
      "image/png": "[encoded data removed]",
      "text/plain": [
       "<Figure size 640x480 with 1 Axes>"
      ]
     },
     "metadata": {},
     "output_type": "display_data"
    }
   ],
   "source": [
    "y_map_inv = {\n",
    "    0: 'non-reporting',\n",
    "    1: 'third-party',\n",
    "    2: 'primary',\n",
    "    3:'secondary'\n",
    "}\n",
    "\n",
    "#     'non-reporting': 0, \n",
    "#     'third-party': 1, \n",
    "#     'primary': 2,\n",
    "#     'secondary':3\n",
    "\n",
    "# y_map = {\n",
    "#     'ProVax': 0, \n",
    "#     'AntiVax': 1, \n",
    "#     'Neutral': 2\n",
    "# }\n",
    "\n",
    "sns.heatmap(\n",
    "    pd.crosstab(df_valid['pred'].map(y_map_inv), df_valid['ypred_cat'].map(y_map_inv)),\n",
    "    annot=True,\n",
    "    fmt='0.0f',\n",
    "    cbar=False,\n",
    "    linewidth=2,\n",
    "    cmap='coolwarm'     \n",
    ")\n",
    "\n",
    "plt.xlabel('True')\n",
    "plt.ylabel('Predicted')\n",
    "plt.title('Confusion Matrix');"
   ]
  },
  {
   "cell_type": "markdown",
   "metadata": {
    "id": "PjowvxcQ3QfR"
   },
   "source": [
    "### Importing accuracy_score, precision_score, recall_score, f1_score"
   ]
  },
  {
   "cell_type": "code",
   "execution_count": 133,
   "metadata": {
    "colab": {
     "base_uri": "https://localhost:8080/"
    },
    "id": "emwFinxTloyj",
    "outputId": "8aec68f5-f925-4c34-ff0c-fdda427f42f6"
   },
   "outputs": [
    {
     "name": "stdout",
     "output_type": "stream",
     "text": [
      "Confusion Matrix\n",
      "\n",
      "[[76  0  0  0]\n",
      " [ 0 48  0  0]\n",
      " [ 0  0 13  0]\n",
      " [ 0  0  0 21]]\n",
      "\n",
      "Accuracy: 1.00\n",
      "\n",
      "Micro Precision: 1.00\n",
      "Micro Recall: 1.00\n",
      "Micro F1-score: 1.00\n",
      "\n",
      "Macro Precision: 1.00\n",
      "Macro Recall: 1.00\n",
      "Macro F1-score: 1.00\n",
      "\n",
      "Weighted Precision: 1.00\n",
      "Weighted Recall: 1.00\n",
      "Weighted F1-score: 1.00\n",
      "\n",
      "Classification Report\n",
      "\n",
      "              precision    recall  f1-score   support\n",
      "\n",
      "     Class 1       1.00      1.00      1.00        76\n",
      "     Class 2       1.00      1.00      1.00        48\n",
      "     Class 3       1.00      1.00      1.00        13\n",
      "     Class 4       1.00      1.00      1.00        21\n",
      "\n",
      "    accuracy                           1.00       158\n",
      "   macro avg       1.00      1.00      1.00       158\n",
      "weighted avg       1.00      1.00      1.00       158\n",
      "\n"
     ]
    }
   ],
   "source": [
    "y_test = df_valid['pred'].map(y_map_inv)\n",
    "y_pred = df_valid['ypred'].map(y_map_inv)\n",
    "#importing confusion matrix\n",
    "from sklearn.metrics import confusion_matrix\n",
    "confusion = confusion_matrix(y_test, y_pred)\n",
    "print('Confusion Matrix\\n')\n",
    "print(confusion)\n",
    "\n",
    "#importing accuracy_score, precision_score, recall_score, f1_score\n",
    "from sklearn.metrics import accuracy_score, precision_score, recall_score, f1_score\n",
    "print('\\nAccuracy: {:.2f}\\n'.format(accuracy_score(y_test, y_pred)))\n",
    "\n",
    "print('Micro Precision: {:.2f}'.format(precision_score(y_test, y_pred, average='micro')))\n",
    "print('Micro Recall: {:.2f}'.format(recall_score(y_test, y_pred, average='micro')))\n",
    "print('Micro F1-score: {:.2f}\\n'.format(f1_score(y_test, y_pred, average='micro')))\n",
    "\n",
    "print('Macro Precision: {:.2f}'.format(precision_score(y_test, y_pred, average='macro')))\n",
    "print('Macro Recall: {:.2f}'.format(recall_score(y_test, y_pred, average='macro')))\n",
    "print('Macro F1-score: {:.2f}\\n'.format(f1_score(y_test, y_pred, average='macro')))\n",
    "\n",
    "print('Weighted Precision: {:.2f}'.format(precision_score(y_test, y_pred, average='weighted')))\n",
    "print('Weighted Recall: {:.2f}'.format(recall_score(y_test, y_pred, average='weighted')))\n",
    "print('Weighted F1-score: {:.2f}'.format(f1_score(y_test, y_pred, average='weighted')))\n",
    "\n",
    "from sklearn.metrics import classification_report\n",
    "print('\\nClassification Report\\n')\n",
    "print(classification_report(y_test, y_pred, target_names=['Class 1', 'Class 2', 'Class 3', 'Class 4']))\n"
   ]
  }
 ],
 "metadata": {
  "accelerator": "GPU",
  "colab": {
   "provenance": []
  },
  "kernelspec": {
   "display_name": "Python 3 (ipykernel)",
   "language": "python",
   "name": "python3"
  },
  "language_info": {
   "codemirror_mode": {
    "name": "ipython",
    "version": 3
   },
   "file_extension": ".py",
   "mimetype": "text/x-python",
   "name": "python",
   "nbconvert_exporter": "python",
   "pygments_lexer": "ipython3",
   "version": "3.10.8"
  }
 },
 "nbformat": 4,
 "nbformat_minor": 1
}
