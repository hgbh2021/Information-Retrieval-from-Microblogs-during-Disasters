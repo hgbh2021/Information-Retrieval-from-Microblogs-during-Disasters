{
  "cells": [
    {
      "cell_type": "code",
      "source": [
        "# cd /content/sample_data"
      ],
      "metadata": {
        "id": "F0JeWr1fEm8E"
      },
      "execution_count": 74,
      "outputs": []
    },
    {
      "cell_type": "markdown",
      "source": [
        "Importing useful libraries"
      ],
      "metadata": {
        "id": "gePaP23xvWQH"
      }
    },
    {
      "cell_type": "code",
      "execution_count": 75,
      "metadata": {
        "id": "h78UkLjkaBbM"
      },
      "outputs": [],
      "source": [
        "import os\n",
        "import random\n",
        "import numpy as np\n",
        "import pandas as pd\n",
        "import matplotlib.pyplot as plt\n",
        "import cv2\n",
        "import os\n",
        "import math\n",
        "import tensorflow as tf\n",
        "import seaborn as sns\n",
        "from bs4 import BeautifulSoup\n",
        "from sklearn import metrics as sk_metrics\n",
        "import nltk\n",
        "import re\n",
        "from sklearn.utils import shuffle\n",
        "import tqdm as notebook_tqdm "
      ]
    },
    {
      "cell_type": "markdown",
      "metadata": {
        "id": "4gQPIXoSfsSU"
      },
      "source": [
        "# Data read and split...for some accuracy numbers"
      ]
    },
    {
      "cell_type": "code",
      "execution_count": 76,
      "metadata": {
        "id": "yYQB6za1Wup4"
      },
      "outputs": [],
      "source": [
        "col = [\"id\", \"tweet\", \"label\"]\n",
        "our_data = pd.read_csv(\"vax_train.csv\",usecols=col)\n",
        "df_test = pd.read_csv(\"vax_test.csv\")\n",
        "y_map = {\n",
        "    'ProVax': 0, \n",
        "    'AntiVax': 1, \n",
        "    'Neutral': 2\n",
        "}\n",
        "\n",
        "our_data['Sentiment_Cat'] = our_data['label'].map(y_map)"
      ]
    },
    {
      "cell_type": "markdown",
      "source": [
        "## showing train data"
      ],
      "metadata": {
        "id": "8g48yNH6fgJ_"
      }
    },
    {
      "cell_type": "code",
      "execution_count": 77,
      "metadata": {
        "colab": {
          "base_uri": "https://localhost:8080/",
          "height": 423
        },
        "id": "WDZCx7D5i7b1",
        "outputId": "e4a25000-5ca8-4d7d-97fc-d2e08eee414d"
      },
      "outputs": [
        {
          "output_type": "execute_result",
          "data": {
            "text/plain": [
              "                       id                                              tweet  \\\n",
              "0     1329771561671417856  Today Pfizer said it's asking U.S. regulators ...   \n",
              "1     1266030447919804420  Good news on development of new #covid19 #vacc...   \n",
              "2     1238769307456172034  Once they get a corona vaccine I don’t want to...   \n",
              "3     1328814394822705152  Free flu vaccines and COVID-19 tests! https://...   \n",
              "4     1254610119876280320  Bollywood Gupshup,Russian Researchers Will Tes...   \n",
              "...                   ...                                                ...   \n",
              "4387  1326106718519128064  👇👇Not a good practice, not good for public tru...   \n",
              "4388  1326136835916095493  Something about this vaccine scares me! Anyone...   \n",
              "4389  1326186592847982593  @TinkerChip @matthaig1 They have been working ...   \n",
              "4390  1325792316716625920  Fingers crossed this is positive data.. \\n\\nPf...   \n",
              "4391  1340817352758353920  @David_Leavitt @donwinslow I'm fucking pissed....   \n",
              "\n",
              "        label  Sentiment_Cat  \n",
              "0     Neutral              2  \n",
              "1      ProVax              0  \n",
              "2      ProVax              0  \n",
              "3     Neutral              2  \n",
              "4      ProVax              0  \n",
              "...       ...            ...  \n",
              "4387  Neutral              2  \n",
              "4388  AntiVax              1  \n",
              "4389   ProVax              0  \n",
              "4390   ProVax              0  \n",
              "4391   ProVax              0  \n",
              "\n",
              "[4392 rows x 4 columns]"
            ],
            "text/html": [
              "\n",
              "  <div id=\"df-0361594d-c65a-46d1-8205-53a87bb2f2fe\">\n",
              "    <div class=\"colab-df-container\">\n",
              "      <div>\n",
              "<style scoped>\n",
              "    .dataframe tbody tr th:only-of-type {\n",
              "        vertical-align: middle;\n",
              "    }\n",
              "\n",
              "    .dataframe tbody tr th {\n",
              "        vertical-align: top;\n",
              "    }\n",
              "\n",
              "    .dataframe thead th {\n",
              "        text-align: right;\n",
              "    }\n",
              "</style>\n",
              "<table border=\"1\" class=\"dataframe\">\n",
              "  <thead>\n",
              "    <tr style=\"text-align: right;\">\n",
              "      <th></th>\n",
              "      <th>id</th>\n",
              "      <th>tweet</th>\n",
              "      <th>label</th>\n",
              "      <th>Sentiment_Cat</th>\n",
              "    </tr>\n",
              "  </thead>\n",
              "  <tbody>\n",
              "    <tr>\n",
              "      <th>0</th>\n",
              "      <td>1329771561671417856</td>\n",
              "      <td>Today Pfizer said it's asking U.S. regulators ...</td>\n",
              "      <td>Neutral</td>\n",
              "      <td>2</td>\n",
              "    </tr>\n",
              "    <tr>\n",
              "      <th>1</th>\n",
              "      <td>1266030447919804420</td>\n",
              "      <td>Good news on development of new #covid19 #vacc...</td>\n",
              "      <td>ProVax</td>\n",
              "      <td>0</td>\n",
              "    </tr>\n",
              "    <tr>\n",
              "      <th>2</th>\n",
              "      <td>1238769307456172034</td>\n",
              "      <td>Once they get a corona vaccine I don’t want to...</td>\n",
              "      <td>ProVax</td>\n",
              "      <td>0</td>\n",
              "    </tr>\n",
              "    <tr>\n",
              "      <th>3</th>\n",
              "      <td>1328814394822705152</td>\n",
              "      <td>Free flu vaccines and COVID-19 tests! https://...</td>\n",
              "      <td>Neutral</td>\n",
              "      <td>2</td>\n",
              "    </tr>\n",
              "    <tr>\n",
              "      <th>4</th>\n",
              "      <td>1254610119876280320</td>\n",
              "      <td>Bollywood Gupshup,Russian Researchers Will Tes...</td>\n",
              "      <td>ProVax</td>\n",
              "      <td>0</td>\n",
              "    </tr>\n",
              "    <tr>\n",
              "      <th>...</th>\n",
              "      <td>...</td>\n",
              "      <td>...</td>\n",
              "      <td>...</td>\n",
              "      <td>...</td>\n",
              "    </tr>\n",
              "    <tr>\n",
              "      <th>4387</th>\n",
              "      <td>1326106718519128064</td>\n",
              "      <td>👇👇Not a good practice, not good for public tru...</td>\n",
              "      <td>Neutral</td>\n",
              "      <td>2</td>\n",
              "    </tr>\n",
              "    <tr>\n",
              "      <th>4388</th>\n",
              "      <td>1326136835916095493</td>\n",
              "      <td>Something about this vaccine scares me! Anyone...</td>\n",
              "      <td>AntiVax</td>\n",
              "      <td>1</td>\n",
              "    </tr>\n",
              "    <tr>\n",
              "      <th>4389</th>\n",
              "      <td>1326186592847982593</td>\n",
              "      <td>@TinkerChip @matthaig1 They have been working ...</td>\n",
              "      <td>ProVax</td>\n",
              "      <td>0</td>\n",
              "    </tr>\n",
              "    <tr>\n",
              "      <th>4390</th>\n",
              "      <td>1325792316716625920</td>\n",
              "      <td>Fingers crossed this is positive data.. \\n\\nPf...</td>\n",
              "      <td>ProVax</td>\n",
              "      <td>0</td>\n",
              "    </tr>\n",
              "    <tr>\n",
              "      <th>4391</th>\n",
              "      <td>1340817352758353920</td>\n",
              "      <td>@David_Leavitt @donwinslow I'm fucking pissed....</td>\n",
              "      <td>ProVax</td>\n",
              "      <td>0</td>\n",
              "    </tr>\n",
              "  </tbody>\n",
              "</table>\n",
              "<p>4392 rows × 4 columns</p>\n",
              "</div>\n",
              "      <button class=\"colab-df-convert\" onclick=\"convertToInteractive('df-0361594d-c65a-46d1-8205-53a87bb2f2fe')\"\n",
              "              title=\"Convert this dataframe to an interactive table.\"\n",
              "              style=\"display:none;\">\n",
              "        \n",
              "  <svg xmlns=\"http://www.w3.org/2000/svg\" height=\"24px\"viewBox=\"0 0 24 24\"\n",
              "       width=\"24px\">\n",
              "    <path d=\"M0 0h24v24H0V0z\" fill=\"none\"/>\n",
              "    <path d=\"M18.56 5.44l.94 2.06.94-2.06 2.06-.94-2.06-.94-.94-2.06-.94 2.06-2.06.94zm-11 1L8.5 8.5l.94-2.06 2.06-.94-2.06-.94L8.5 2.5l-.94 2.06-2.06.94zm10 10l.94 2.06.94-2.06 2.06-.94-2.06-.94-.94-2.06-.94 2.06-2.06.94z\"/><path d=\"M17.41 7.96l-1.37-1.37c-.4-.4-.92-.59-1.43-.59-.52 0-1.04.2-1.43.59L10.3 9.45l-7.72 7.72c-.78.78-.78 2.05 0 2.83L4 21.41c.39.39.9.59 1.41.59.51 0 1.02-.2 1.41-.59l7.78-7.78 2.81-2.81c.8-.78.8-2.07 0-2.86zM5.41 20L4 18.59l7.72-7.72 1.47 1.35L5.41 20z\"/>\n",
              "  </svg>\n",
              "      </button>\n",
              "      \n",
              "  <style>\n",
              "    .colab-df-container {\n",
              "      display:flex;\n",
              "      flex-wrap:wrap;\n",
              "      gap: 12px;\n",
              "    }\n",
              "\n",
              "    .colab-df-convert {\n",
              "      background-color: #E8F0FE;\n",
              "      border: none;\n",
              "      border-radius: 50%;\n",
              "      cursor: pointer;\n",
              "      display: none;\n",
              "      fill: #1967D2;\n",
              "      height: 32px;\n",
              "      padding: 0 0 0 0;\n",
              "      width: 32px;\n",
              "    }\n",
              "\n",
              "    .colab-df-convert:hover {\n",
              "      background-color: #E2EBFA;\n",
              "      box-shadow: 0px 1px 2px rgba(60, 64, 67, 0.3), 0px 1px 3px 1px rgba(60, 64, 67, 0.15);\n",
              "      fill: #174EA6;\n",
              "    }\n",
              "\n",
              "    [theme=dark] .colab-df-convert {\n",
              "      background-color: #3B4455;\n",
              "      fill: #D2E3FC;\n",
              "    }\n",
              "\n",
              "    [theme=dark] .colab-df-convert:hover {\n",
              "      background-color: #434B5C;\n",
              "      box-shadow: 0px 1px 3px 1px rgba(0, 0, 0, 0.15);\n",
              "      filter: drop-shadow(0px 1px 2px rgba(0, 0, 0, 0.3));\n",
              "      fill: #FFFFFF;\n",
              "    }\n",
              "  </style>\n",
              "\n",
              "      <script>\n",
              "        const buttonEl =\n",
              "          document.querySelector('#df-0361594d-c65a-46d1-8205-53a87bb2f2fe button.colab-df-convert');\n",
              "        buttonEl.style.display =\n",
              "          google.colab.kernel.accessAllowed ? 'block' : 'none';\n",
              "\n",
              "        async function convertToInteractive(key) {\n",
              "          const element = document.querySelector('#df-0361594d-c65a-46d1-8205-53a87bb2f2fe');\n",
              "          const dataTable =\n",
              "            await google.colab.kernel.invokeFunction('convertToInteractive',\n",
              "                                                     [key], {});\n",
              "          if (!dataTable) return;\n",
              "\n",
              "          const docLinkHtml = 'Like what you see? Visit the ' +\n",
              "            '<a target=\"_blank\" href=https://colab.research.google.com/notebooks/data_table.ipynb>data table notebook</a>'\n",
              "            + ' to learn more about interactive tables.';\n",
              "          element.innerHTML = '';\n",
              "          dataTable['output_type'] = 'display_data';\n",
              "          await google.colab.output.renderOutput(dataTable, element);\n",
              "          const docLink = document.createElement('div');\n",
              "          docLink.innerHTML = docLinkHtml;\n",
              "          element.appendChild(docLink);\n",
              "        }\n",
              "      </script>\n",
              "    </div>\n",
              "  </div>\n",
              "  "
            ]
          },
          "metadata": {},
          "execution_count": 77
        }
      ],
      "source": [
        "our_data"
      ]
    },
    {
      "cell_type": "markdown",
      "source": [
        "## showing test data"
      ],
      "metadata": {
        "id": "ybES-Q2Zfd8O"
      }
    },
    {
      "cell_type": "code",
      "execution_count": 78,
      "metadata": {
        "colab": {
          "base_uri": "https://localhost:8080/",
          "height": 423
        },
        "id": "2XQVp8-Z-3Bn",
        "outputId": "82376a60-0eed-4006-a35d-5ff4b23acfc2"
      },
      "outputs": [
        {
          "output_type": "execute_result",
          "data": {
            "text/plain": [
              "                       id                                              tweet\n",
              "0    1472958183882719233t  So true.  Take control of what you can…get vac...\n",
              "1    1449995880904470529t  The vaccinated still spread it and are factori...\n",
              "2    1480413964265660416t  NT records 403 new cases of COVID-19, as it ex...\n",
              "3    1408119497962057742t  @ochealth You are experimenting with people. B...\n",
              "4    1439361704320806915t  @LPCPressBox So I guess we’re supposed to just...\n",
              "..                    ...                                                ...\n",
              "712  1426222975108407296t  @DrunkenDucksFan @maryloupatey @CP24 https://t...\n",
              "713  1471836133613084672t  @JustinTrudeau @fordnation Justin, how can you...\n",
              "714  1472586840301617153t  @ThatAmish1 Have they seen all of the sporting...\n",
              "715  1423061697556668420t  @mimij1992 @SClarified @OregonGovBrown @OHAOre...\n",
              "716  1493703003400019976t  @KevinPIvey @Tracinski Because the difference ...\n",
              "\n",
              "[717 rows x 2 columns]"
            ],
            "text/html": [
              "\n",
              "  <div id=\"df-a9751937-d555-45da-b3eb-e506556364a0\">\n",
              "    <div class=\"colab-df-container\">\n",
              "      <div>\n",
              "<style scoped>\n",
              "    .dataframe tbody tr th:only-of-type {\n",
              "        vertical-align: middle;\n",
              "    }\n",
              "\n",
              "    .dataframe tbody tr th {\n",
              "        vertical-align: top;\n",
              "    }\n",
              "\n",
              "    .dataframe thead th {\n",
              "        text-align: right;\n",
              "    }\n",
              "</style>\n",
              "<table border=\"1\" class=\"dataframe\">\n",
              "  <thead>\n",
              "    <tr style=\"text-align: right;\">\n",
              "      <th></th>\n",
              "      <th>id</th>\n",
              "      <th>tweet</th>\n",
              "    </tr>\n",
              "  </thead>\n",
              "  <tbody>\n",
              "    <tr>\n",
              "      <th>0</th>\n",
              "      <td>1472958183882719233t</td>\n",
              "      <td>So true.  Take control of what you can…get vac...</td>\n",
              "    </tr>\n",
              "    <tr>\n",
              "      <th>1</th>\n",
              "      <td>1449995880904470529t</td>\n",
              "      <td>The vaccinated still spread it and are factori...</td>\n",
              "    </tr>\n",
              "    <tr>\n",
              "      <th>2</th>\n",
              "      <td>1480413964265660416t</td>\n",
              "      <td>NT records 403 new cases of COVID-19, as it ex...</td>\n",
              "    </tr>\n",
              "    <tr>\n",
              "      <th>3</th>\n",
              "      <td>1408119497962057742t</td>\n",
              "      <td>@ochealth You are experimenting with people. B...</td>\n",
              "    </tr>\n",
              "    <tr>\n",
              "      <th>4</th>\n",
              "      <td>1439361704320806915t</td>\n",
              "      <td>@LPCPressBox So I guess we’re supposed to just...</td>\n",
              "    </tr>\n",
              "    <tr>\n",
              "      <th>...</th>\n",
              "      <td>...</td>\n",
              "      <td>...</td>\n",
              "    </tr>\n",
              "    <tr>\n",
              "      <th>712</th>\n",
              "      <td>1426222975108407296t</td>\n",
              "      <td>@DrunkenDucksFan @maryloupatey @CP24 https://t...</td>\n",
              "    </tr>\n",
              "    <tr>\n",
              "      <th>713</th>\n",
              "      <td>1471836133613084672t</td>\n",
              "      <td>@JustinTrudeau @fordnation Justin, how can you...</td>\n",
              "    </tr>\n",
              "    <tr>\n",
              "      <th>714</th>\n",
              "      <td>1472586840301617153t</td>\n",
              "      <td>@ThatAmish1 Have they seen all of the sporting...</td>\n",
              "    </tr>\n",
              "    <tr>\n",
              "      <th>715</th>\n",
              "      <td>1423061697556668420t</td>\n",
              "      <td>@mimij1992 @SClarified @OregonGovBrown @OHAOre...</td>\n",
              "    </tr>\n",
              "    <tr>\n",
              "      <th>716</th>\n",
              "      <td>1493703003400019976t</td>\n",
              "      <td>@KevinPIvey @Tracinski Because the difference ...</td>\n",
              "    </tr>\n",
              "  </tbody>\n",
              "</table>\n",
              "<p>717 rows × 2 columns</p>\n",
              "</div>\n",
              "      <button class=\"colab-df-convert\" onclick=\"convertToInteractive('df-a9751937-d555-45da-b3eb-e506556364a0')\"\n",
              "              title=\"Convert this dataframe to an interactive table.\"\n",
              "              style=\"display:none;\">\n",
              "        \n",
              "  <svg xmlns=\"http://www.w3.org/2000/svg\" height=\"24px\"viewBox=\"0 0 24 24\"\n",
              "       width=\"24px\">\n",
              "    <path d=\"M0 0h24v24H0V0z\" fill=\"none\"/>\n",
              "    <path d=\"M18.56 5.44l.94 2.06.94-2.06 2.06-.94-2.06-.94-.94-2.06-.94 2.06-2.06.94zm-11 1L8.5 8.5l.94-2.06 2.06-.94-2.06-.94L8.5 2.5l-.94 2.06-2.06.94zm10 10l.94 2.06.94-2.06 2.06-.94-2.06-.94-.94-2.06-.94 2.06-2.06.94z\"/><path d=\"M17.41 7.96l-1.37-1.37c-.4-.4-.92-.59-1.43-.59-.52 0-1.04.2-1.43.59L10.3 9.45l-7.72 7.72c-.78.78-.78 2.05 0 2.83L4 21.41c.39.39.9.59 1.41.59.51 0 1.02-.2 1.41-.59l7.78-7.78 2.81-2.81c.8-.78.8-2.07 0-2.86zM5.41 20L4 18.59l7.72-7.72 1.47 1.35L5.41 20z\"/>\n",
              "  </svg>\n",
              "      </button>\n",
              "      \n",
              "  <style>\n",
              "    .colab-df-container {\n",
              "      display:flex;\n",
              "      flex-wrap:wrap;\n",
              "      gap: 12px;\n",
              "    }\n",
              "\n",
              "    .colab-df-convert {\n",
              "      background-color: #E8F0FE;\n",
              "      border: none;\n",
              "      border-radius: 50%;\n",
              "      cursor: pointer;\n",
              "      display: none;\n",
              "      fill: #1967D2;\n",
              "      height: 32px;\n",
              "      padding: 0 0 0 0;\n",
              "      width: 32px;\n",
              "    }\n",
              "\n",
              "    .colab-df-convert:hover {\n",
              "      background-color: #E2EBFA;\n",
              "      box-shadow: 0px 1px 2px rgba(60, 64, 67, 0.3), 0px 1px 3px 1px rgba(60, 64, 67, 0.15);\n",
              "      fill: #174EA6;\n",
              "    }\n",
              "\n",
              "    [theme=dark] .colab-df-convert {\n",
              "      background-color: #3B4455;\n",
              "      fill: #D2E3FC;\n",
              "    }\n",
              "\n",
              "    [theme=dark] .colab-df-convert:hover {\n",
              "      background-color: #434B5C;\n",
              "      box-shadow: 0px 1px 3px 1px rgba(0, 0, 0, 0.15);\n",
              "      filter: drop-shadow(0px 1px 2px rgba(0, 0, 0, 0.3));\n",
              "      fill: #FFFFFF;\n",
              "    }\n",
              "  </style>\n",
              "\n",
              "      <script>\n",
              "        const buttonEl =\n",
              "          document.querySelector('#df-a9751937-d555-45da-b3eb-e506556364a0 button.colab-df-convert');\n",
              "        buttonEl.style.display =\n",
              "          google.colab.kernel.accessAllowed ? 'block' : 'none';\n",
              "\n",
              "        async function convertToInteractive(key) {\n",
              "          const element = document.querySelector('#df-a9751937-d555-45da-b3eb-e506556364a0');\n",
              "          const dataTable =\n",
              "            await google.colab.kernel.invokeFunction('convertToInteractive',\n",
              "                                                     [key], {});\n",
              "          if (!dataTable) return;\n",
              "\n",
              "          const docLinkHtml = 'Like what you see? Visit the ' +\n",
              "            '<a target=\"_blank\" href=https://colab.research.google.com/notebooks/data_table.ipynb>data table notebook</a>'\n",
              "            + ' to learn more about interactive tables.';\n",
              "          element.innerHTML = '';\n",
              "          dataTable['output_type'] = 'display_data';\n",
              "          await google.colab.output.renderOutput(dataTable, element);\n",
              "          const docLink = document.createElement('div');\n",
              "          docLink.innerHTML = docLinkHtml;\n",
              "          element.appendChild(docLink);\n",
              "        }\n",
              "      </script>\n",
              "    </div>\n",
              "  </div>\n",
              "  "
            ]
          },
          "metadata": {},
          "execution_count": 78
        }
      ],
      "source": [
        "df_test"
      ]
    },
    {
      "cell_type": "markdown",
      "source": [
        "## Splitting the training dataset into training and validation sets with the help of StratifiedShuffleSplit"
      ],
      "metadata": {
        "id": "Z-YOuG0JfiTO"
      }
    },
    {
      "cell_type": "code",
      "execution_count": 79,
      "metadata": {
        "colab": {
          "base_uri": "https://localhost:8080/"
        },
        "id": "xcT7GhhQkAib",
        "outputId": "57e99629-8c41-4257-f6c7-e5ac4f301fad"
      },
      "outputs": [
        {
          "output_type": "stream",
          "name": "stdout",
          "text": [
            "(3952, 4)\n",
            "(440, 4)\n",
            "(220, 4)\n",
            "(220, 4)\n"
          ]
        }
      ],
      "source": [
        "from sklearn.model_selection import StratifiedShuffleSplit\n",
        "df = our_data\n",
        "split = StratifiedShuffleSplit(n_splits=1, test_size=0.1, random_state=42)\n",
        "for train_index, test_valid_index in split.split(df, df.Sentiment_Cat):\n",
        "    train_set = df.iloc[train_index]\n",
        "    test_valid_set = df.iloc[test_valid_index]\n",
        "\n",
        "split2 = StratifiedShuffleSplit(n_splits=1, test_size=0.5, random_state=42)\n",
        "for test_index, valid_index in split2.split(test_valid_set, test_valid_set.Sentiment_Cat):\n",
        "    test_set = test_valid_set.iloc[test_index]\n",
        "    valid_set = test_valid_set.iloc[valid_index]\n",
        "\n",
        "print(train_set.shape)\n",
        "print(test_valid_set.shape)\n",
        "print(test_set.shape)\n",
        "print(valid_set.shape)\n",
        "\n",
        "df_train = train_set\n",
        "# df_test = test_set\n",
        "df_valid = test_valid_set"
      ]
    },
    {
      "cell_type": "code",
      "execution_count": 80,
      "metadata": {
        "id": "xhF9mMVKbnBN",
        "colab": {
          "base_uri": "https://localhost:8080/",
          "height": 206
        },
        "outputId": "a4e44306-2bdd-48ee-fc17-323843c60313"
      },
      "outputs": [
        {
          "output_type": "execute_result",
          "data": {
            "text/plain": [
              "                       id                                              tweet  \\\n",
              "876   1327030820037681152  Powell says economy will still need more suppo...   \n",
              "3696  1325689685943996416  The Philippine government is in talks with Ang...   \n",
              "473   1292440252628566016  Happy birthday to Upright Vol. IV! This one fe...   \n",
              "1981  1246258423014010880  @mitchellvii I was H1N1 positive once but noth...   \n",
              "3560  1325830486518882304  @DanCrenshawTX You lie. Pfizer refused governm...   \n",
              "\n",
              "        label  Sentiment_Cat  \n",
              "876   Neutral              2  \n",
              "3696  Neutral              2  \n",
              "473   Neutral              2  \n",
              "1981  AntiVax              1  \n",
              "3560   ProVax              0  "
            ],
            "text/html": [
              "\n",
              "  <div id=\"df-f8a2a3c0-04d7-43a4-a602-23649039a861\">\n",
              "    <div class=\"colab-df-container\">\n",
              "      <div>\n",
              "<style scoped>\n",
              "    .dataframe tbody tr th:only-of-type {\n",
              "        vertical-align: middle;\n",
              "    }\n",
              "\n",
              "    .dataframe tbody tr th {\n",
              "        vertical-align: top;\n",
              "    }\n",
              "\n",
              "    .dataframe thead th {\n",
              "        text-align: right;\n",
              "    }\n",
              "</style>\n",
              "<table border=\"1\" class=\"dataframe\">\n",
              "  <thead>\n",
              "    <tr style=\"text-align: right;\">\n",
              "      <th></th>\n",
              "      <th>id</th>\n",
              "      <th>tweet</th>\n",
              "      <th>label</th>\n",
              "      <th>Sentiment_Cat</th>\n",
              "    </tr>\n",
              "  </thead>\n",
              "  <tbody>\n",
              "    <tr>\n",
              "      <th>876</th>\n",
              "      <td>1327030820037681152</td>\n",
              "      <td>Powell says economy will still need more suppo...</td>\n",
              "      <td>Neutral</td>\n",
              "      <td>2</td>\n",
              "    </tr>\n",
              "    <tr>\n",
              "      <th>3696</th>\n",
              "      <td>1325689685943996416</td>\n",
              "      <td>The Philippine government is in talks with Ang...</td>\n",
              "      <td>Neutral</td>\n",
              "      <td>2</td>\n",
              "    </tr>\n",
              "    <tr>\n",
              "      <th>473</th>\n",
              "      <td>1292440252628566016</td>\n",
              "      <td>Happy birthday to Upright Vol. IV! This one fe...</td>\n",
              "      <td>Neutral</td>\n",
              "      <td>2</td>\n",
              "    </tr>\n",
              "    <tr>\n",
              "      <th>1981</th>\n",
              "      <td>1246258423014010880</td>\n",
              "      <td>@mitchellvii I was H1N1 positive once but noth...</td>\n",
              "      <td>AntiVax</td>\n",
              "      <td>1</td>\n",
              "    </tr>\n",
              "    <tr>\n",
              "      <th>3560</th>\n",
              "      <td>1325830486518882304</td>\n",
              "      <td>@DanCrenshawTX You lie. Pfizer refused governm...</td>\n",
              "      <td>ProVax</td>\n",
              "      <td>0</td>\n",
              "    </tr>\n",
              "  </tbody>\n",
              "</table>\n",
              "</div>\n",
              "      <button class=\"colab-df-convert\" onclick=\"convertToInteractive('df-f8a2a3c0-04d7-43a4-a602-23649039a861')\"\n",
              "              title=\"Convert this dataframe to an interactive table.\"\n",
              "              style=\"display:none;\">\n",
              "        \n",
              "  <svg xmlns=\"http://www.w3.org/2000/svg\" height=\"24px\"viewBox=\"0 0 24 24\"\n",
              "       width=\"24px\">\n",
              "    <path d=\"M0 0h24v24H0V0z\" fill=\"none\"/>\n",
              "    <path d=\"M18.56 5.44l.94 2.06.94-2.06 2.06-.94-2.06-.94-.94-2.06-.94 2.06-2.06.94zm-11 1L8.5 8.5l.94-2.06 2.06-.94-2.06-.94L8.5 2.5l-.94 2.06-2.06.94zm10 10l.94 2.06.94-2.06 2.06-.94-2.06-.94-.94-2.06-.94 2.06-2.06.94z\"/><path d=\"M17.41 7.96l-1.37-1.37c-.4-.4-.92-.59-1.43-.59-.52 0-1.04.2-1.43.59L10.3 9.45l-7.72 7.72c-.78.78-.78 2.05 0 2.83L4 21.41c.39.39.9.59 1.41.59.51 0 1.02-.2 1.41-.59l7.78-7.78 2.81-2.81c.8-.78.8-2.07 0-2.86zM5.41 20L4 18.59l7.72-7.72 1.47 1.35L5.41 20z\"/>\n",
              "  </svg>\n",
              "      </button>\n",
              "      \n",
              "  <style>\n",
              "    .colab-df-container {\n",
              "      display:flex;\n",
              "      flex-wrap:wrap;\n",
              "      gap: 12px;\n",
              "    }\n",
              "\n",
              "    .colab-df-convert {\n",
              "      background-color: #E8F0FE;\n",
              "      border: none;\n",
              "      border-radius: 50%;\n",
              "      cursor: pointer;\n",
              "      display: none;\n",
              "      fill: #1967D2;\n",
              "      height: 32px;\n",
              "      padding: 0 0 0 0;\n",
              "      width: 32px;\n",
              "    }\n",
              "\n",
              "    .colab-df-convert:hover {\n",
              "      background-color: #E2EBFA;\n",
              "      box-shadow: 0px 1px 2px rgba(60, 64, 67, 0.3), 0px 1px 3px 1px rgba(60, 64, 67, 0.15);\n",
              "      fill: #174EA6;\n",
              "    }\n",
              "\n",
              "    [theme=dark] .colab-df-convert {\n",
              "      background-color: #3B4455;\n",
              "      fill: #D2E3FC;\n",
              "    }\n",
              "\n",
              "    [theme=dark] .colab-df-convert:hover {\n",
              "      background-color: #434B5C;\n",
              "      box-shadow: 0px 1px 3px 1px rgba(0, 0, 0, 0.15);\n",
              "      filter: drop-shadow(0px 1px 2px rgba(0, 0, 0, 0.3));\n",
              "      fill: #FFFFFF;\n",
              "    }\n",
              "  </style>\n",
              "\n",
              "      <script>\n",
              "        const buttonEl =\n",
              "          document.querySelector('#df-f8a2a3c0-04d7-43a4-a602-23649039a861 button.colab-df-convert');\n",
              "        buttonEl.style.display =\n",
              "          google.colab.kernel.accessAllowed ? 'block' : 'none';\n",
              "\n",
              "        async function convertToInteractive(key) {\n",
              "          const element = document.querySelector('#df-f8a2a3c0-04d7-43a4-a602-23649039a861');\n",
              "          const dataTable =\n",
              "            await google.colab.kernel.invokeFunction('convertToInteractive',\n",
              "                                                     [key], {});\n",
              "          if (!dataTable) return;\n",
              "\n",
              "          const docLinkHtml = 'Like what you see? Visit the ' +\n",
              "            '<a target=\"_blank\" href=https://colab.research.google.com/notebooks/data_table.ipynb>data table notebook</a>'\n",
              "            + ' to learn more about interactive tables.';\n",
              "          element.innerHTML = '';\n",
              "          dataTable['output_type'] = 'display_data';\n",
              "          await google.colab.output.renderOutput(dataTable, element);\n",
              "          const docLink = document.createElement('div');\n",
              "          docLink.innerHTML = docLinkHtml;\n",
              "          element.appendChild(docLink);\n",
              "        }\n",
              "      </script>\n",
              "    </div>\n",
              "  </div>\n",
              "  "
            ]
          },
          "metadata": {},
          "execution_count": 80
        }
      ],
      "source": [
        "df_train.head()"
      ]
    },
    {
      "cell_type": "markdown",
      "source": [
        "## Just showing first tweet in our training set."
      ],
      "metadata": {
        "id": "BhklVlsif1rg"
      }
    },
    {
      "cell_type": "code",
      "execution_count": 81,
      "metadata": {
        "colab": {
          "base_uri": "https://localhost:8080/",
          "height": 36
        },
        "id": "1UXvi9kQve9y",
        "outputId": "c04a657b-c133-463a-8db3-0e47f7313851"
      },
      "outputs": [
        {
          "output_type": "execute_result",
          "data": {
            "text/plain": [
              "'Powell says economy will still need more support despite progress toward COVID-19 vaccine https://t.co/Iv3V1mah0G'"
            ],
            "application/vnd.google.colaboratory.intrinsic+json": {
              "type": "string"
            }
          },
          "metadata": {},
          "execution_count": 81
        }
      ],
      "source": [
        "df_train['tweet'].iloc[0]"
      ]
    },
    {
      "cell_type": "code",
      "source": [
        "df_test"
      ],
      "metadata": {
        "colab": {
          "base_uri": "https://localhost:8080/",
          "height": 423
        },
        "id": "QPTzHlTTmDvS",
        "outputId": "09953bda-8760-484e-e916-50ed048c17fc"
      },
      "execution_count": 82,
      "outputs": [
        {
          "output_type": "execute_result",
          "data": {
            "text/plain": [
              "                       id                                              tweet\n",
              "0    1472958183882719233t  So true.  Take control of what you can…get vac...\n",
              "1    1449995880904470529t  The vaccinated still spread it and are factori...\n",
              "2    1480413964265660416t  NT records 403 new cases of COVID-19, as it ex...\n",
              "3    1408119497962057742t  @ochealth You are experimenting with people. B...\n",
              "4    1439361704320806915t  @LPCPressBox So I guess we’re supposed to just...\n",
              "..                    ...                                                ...\n",
              "712  1426222975108407296t  @DrunkenDucksFan @maryloupatey @CP24 https://t...\n",
              "713  1471836133613084672t  @JustinTrudeau @fordnation Justin, how can you...\n",
              "714  1472586840301617153t  @ThatAmish1 Have they seen all of the sporting...\n",
              "715  1423061697556668420t  @mimij1992 @SClarified @OregonGovBrown @OHAOre...\n",
              "716  1493703003400019976t  @KevinPIvey @Tracinski Because the difference ...\n",
              "\n",
              "[717 rows x 2 columns]"
            ],
            "text/html": [
              "\n",
              "  <div id=\"df-34f3d26e-4804-48ca-b401-22faa49a92c4\">\n",
              "    <div class=\"colab-df-container\">\n",
              "      <div>\n",
              "<style scoped>\n",
              "    .dataframe tbody tr th:only-of-type {\n",
              "        vertical-align: middle;\n",
              "    }\n",
              "\n",
              "    .dataframe tbody tr th {\n",
              "        vertical-align: top;\n",
              "    }\n",
              "\n",
              "    .dataframe thead th {\n",
              "        text-align: right;\n",
              "    }\n",
              "</style>\n",
              "<table border=\"1\" class=\"dataframe\">\n",
              "  <thead>\n",
              "    <tr style=\"text-align: right;\">\n",
              "      <th></th>\n",
              "      <th>id</th>\n",
              "      <th>tweet</th>\n",
              "    </tr>\n",
              "  </thead>\n",
              "  <tbody>\n",
              "    <tr>\n",
              "      <th>0</th>\n",
              "      <td>1472958183882719233t</td>\n",
              "      <td>So true.  Take control of what you can…get vac...</td>\n",
              "    </tr>\n",
              "    <tr>\n",
              "      <th>1</th>\n",
              "      <td>1449995880904470529t</td>\n",
              "      <td>The vaccinated still spread it and are factori...</td>\n",
              "    </tr>\n",
              "    <tr>\n",
              "      <th>2</th>\n",
              "      <td>1480413964265660416t</td>\n",
              "      <td>NT records 403 new cases of COVID-19, as it ex...</td>\n",
              "    </tr>\n",
              "    <tr>\n",
              "      <th>3</th>\n",
              "      <td>1408119497962057742t</td>\n",
              "      <td>@ochealth You are experimenting with people. B...</td>\n",
              "    </tr>\n",
              "    <tr>\n",
              "      <th>4</th>\n",
              "      <td>1439361704320806915t</td>\n",
              "      <td>@LPCPressBox So I guess we’re supposed to just...</td>\n",
              "    </tr>\n",
              "    <tr>\n",
              "      <th>...</th>\n",
              "      <td>...</td>\n",
              "      <td>...</td>\n",
              "    </tr>\n",
              "    <tr>\n",
              "      <th>712</th>\n",
              "      <td>1426222975108407296t</td>\n",
              "      <td>@DrunkenDucksFan @maryloupatey @CP24 https://t...</td>\n",
              "    </tr>\n",
              "    <tr>\n",
              "      <th>713</th>\n",
              "      <td>1471836133613084672t</td>\n",
              "      <td>@JustinTrudeau @fordnation Justin, how can you...</td>\n",
              "    </tr>\n",
              "    <tr>\n",
              "      <th>714</th>\n",
              "      <td>1472586840301617153t</td>\n",
              "      <td>@ThatAmish1 Have they seen all of the sporting...</td>\n",
              "    </tr>\n",
              "    <tr>\n",
              "      <th>715</th>\n",
              "      <td>1423061697556668420t</td>\n",
              "      <td>@mimij1992 @SClarified @OregonGovBrown @OHAOre...</td>\n",
              "    </tr>\n",
              "    <tr>\n",
              "      <th>716</th>\n",
              "      <td>1493703003400019976t</td>\n",
              "      <td>@KevinPIvey @Tracinski Because the difference ...</td>\n",
              "    </tr>\n",
              "  </tbody>\n",
              "</table>\n",
              "<p>717 rows × 2 columns</p>\n",
              "</div>\n",
              "      <button class=\"colab-df-convert\" onclick=\"convertToInteractive('df-34f3d26e-4804-48ca-b401-22faa49a92c4')\"\n",
              "              title=\"Convert this dataframe to an interactive table.\"\n",
              "              style=\"display:none;\">\n",
              "        \n",
              "  <svg xmlns=\"http://www.w3.org/2000/svg\" height=\"24px\"viewBox=\"0 0 24 24\"\n",
              "       width=\"24px\">\n",
              "    <path d=\"M0 0h24v24H0V0z\" fill=\"none\"/>\n",
              "    <path d=\"M18.56 5.44l.94 2.06.94-2.06 2.06-.94-2.06-.94-.94-2.06-.94 2.06-2.06.94zm-11 1L8.5 8.5l.94-2.06 2.06-.94-2.06-.94L8.5 2.5l-.94 2.06-2.06.94zm10 10l.94 2.06.94-2.06 2.06-.94-2.06-.94-.94-2.06-.94 2.06-2.06.94z\"/><path d=\"M17.41 7.96l-1.37-1.37c-.4-.4-.92-.59-1.43-.59-.52 0-1.04.2-1.43.59L10.3 9.45l-7.72 7.72c-.78.78-.78 2.05 0 2.83L4 21.41c.39.39.9.59 1.41.59.51 0 1.02-.2 1.41-.59l7.78-7.78 2.81-2.81c.8-.78.8-2.07 0-2.86zM5.41 20L4 18.59l7.72-7.72 1.47 1.35L5.41 20z\"/>\n",
              "  </svg>\n",
              "      </button>\n",
              "      \n",
              "  <style>\n",
              "    .colab-df-container {\n",
              "      display:flex;\n",
              "      flex-wrap:wrap;\n",
              "      gap: 12px;\n",
              "    }\n",
              "\n",
              "    .colab-df-convert {\n",
              "      background-color: #E8F0FE;\n",
              "      border: none;\n",
              "      border-radius: 50%;\n",
              "      cursor: pointer;\n",
              "      display: none;\n",
              "      fill: #1967D2;\n",
              "      height: 32px;\n",
              "      padding: 0 0 0 0;\n",
              "      width: 32px;\n",
              "    }\n",
              "\n",
              "    .colab-df-convert:hover {\n",
              "      background-color: #E2EBFA;\n",
              "      box-shadow: 0px 1px 2px rgba(60, 64, 67, 0.3), 0px 1px 3px 1px rgba(60, 64, 67, 0.15);\n",
              "      fill: #174EA6;\n",
              "    }\n",
              "\n",
              "    [theme=dark] .colab-df-convert {\n",
              "      background-color: #3B4455;\n",
              "      fill: #D2E3FC;\n",
              "    }\n",
              "\n",
              "    [theme=dark] .colab-df-convert:hover {\n",
              "      background-color: #434B5C;\n",
              "      box-shadow: 0px 1px 3px 1px rgba(0, 0, 0, 0.15);\n",
              "      filter: drop-shadow(0px 1px 2px rgba(0, 0, 0, 0.3));\n",
              "      fill: #FFFFFF;\n",
              "    }\n",
              "  </style>\n",
              "\n",
              "      <script>\n",
              "        const buttonEl =\n",
              "          document.querySelector('#df-34f3d26e-4804-48ca-b401-22faa49a92c4 button.colab-df-convert');\n",
              "        buttonEl.style.display =\n",
              "          google.colab.kernel.accessAllowed ? 'block' : 'none';\n",
              "\n",
              "        async function convertToInteractive(key) {\n",
              "          const element = document.querySelector('#df-34f3d26e-4804-48ca-b401-22faa49a92c4');\n",
              "          const dataTable =\n",
              "            await google.colab.kernel.invokeFunction('convertToInteractive',\n",
              "                                                     [key], {});\n",
              "          if (!dataTable) return;\n",
              "\n",
              "          const docLinkHtml = 'Like what you see? Visit the ' +\n",
              "            '<a target=\"_blank\" href=https://colab.research.google.com/notebooks/data_table.ipynb>data table notebook</a>'\n",
              "            + ' to learn more about interactive tables.';\n",
              "          element.innerHTML = '';\n",
              "          dataTable['output_type'] = 'display_data';\n",
              "          await google.colab.output.renderOutput(dataTable, element);\n",
              "          const docLink = document.createElement('div');\n",
              "          docLink.innerHTML = docLinkHtml;\n",
              "          element.appendChild(docLink);\n",
              "        }\n",
              "      </script>\n",
              "    </div>\n",
              "  </div>\n",
              "  "
            ]
          },
          "metadata": {},
          "execution_count": 82
        }
      ]
    },
    {
      "cell_type": "markdown",
      "source": [
        "## Converting \"sentiment_cat\" column into integer for training purpose."
      ],
      "metadata": {
        "id": "iZFiqiTTgJxP"
      }
    },
    {
      "cell_type": "code",
      "execution_count": 83,
      "metadata": {
        "id": "LbVsoiYsbuYF",
        "colab": {
          "base_uri": "https://localhost:8080/"
        },
        "outputId": "4bb45784-b495-4823-e7a9-b0d63f5c0727"
      },
      "outputs": [
        {
          "output_type": "stream",
          "name": "stderr",
          "text": [
            "<ipython-input-83-f03b6fd7352b>:7: SettingWithCopyWarning: \n",
            "A value is trying to be set on a copy of a slice from a DataFrame.\n",
            "Try using .loc[row_indexer,col_indexer] = value instead\n",
            "\n",
            "See the caveats in the documentation: https://pandas.pydata.org/pandas-docs/stable/user_guide/indexing.html#returning-a-view-versus-a-copy\n",
            "  df_train['Sentiment_Cat'] = df_train['label'].map(M)\n",
            "<ipython-input-83-f03b6fd7352b>:8: SettingWithCopyWarning: \n",
            "A value is trying to be set on a copy of a slice from a DataFrame.\n",
            "Try using .loc[row_indexer,col_indexer] = value instead\n",
            "\n",
            "See the caveats in the documentation: https://pandas.pydata.org/pandas-docs/stable/user_guide/indexing.html#returning-a-view-versus-a-copy\n",
            "  df_valid['Sentiment_Cat'] = df_valid['label'].map(M)\n"
          ]
        }
      ],
      "source": [
        "M = {\n",
        "    'AntiVax': 1, \n",
        "    'ProVax': 0, \n",
        "    'Neutral': 2\n",
        "}\n",
        "\n",
        "df_train['Sentiment_Cat'] = df_train['label'].map(M)\n",
        "df_valid['Sentiment_Cat'] = df_valid['label'].map(M)"
      ]
    },
    {
      "cell_type": "markdown",
      "metadata": {
        "id": "2DzTRCQFf21N"
      },
      "source": [
        "# Pre-processing"
      ]
    },
    {
      "cell_type": "code",
      "source": [
        "!pip install emoji contractions"
      ],
      "metadata": {
        "colab": {
          "base_uri": "https://localhost:8080/"
        },
        "id": "tNc0bFHeE-gj",
        "outputId": "dd95e21b-4dbc-4287-a529-b05e292446b4"
      },
      "execution_count": 84,
      "outputs": [
        {
          "output_type": "stream",
          "name": "stdout",
          "text": [
            "Looking in indexes: https://pypi.org/simple, https://us-python.pkg.dev/colab-wheels/public/simple/\n",
            "Requirement already satisfied: emoji in /usr/local/lib/python3.9/dist-packages (2.2.0)\n",
            "Requirement already satisfied: contractions in /usr/local/lib/python3.9/dist-packages (0.1.73)\n",
            "Requirement already satisfied: textsearch>=0.0.21 in /usr/local/lib/python3.9/dist-packages (from contractions) (0.0.24)\n",
            "Requirement already satisfied: pyahocorasick in /usr/local/lib/python3.9/dist-packages (from textsearch>=0.0.21->contractions) (2.0.0)\n",
            "Requirement already satisfied: anyascii in /usr/local/lib/python3.9/dist-packages (from textsearch>=0.0.21->contractions) (0.3.2)\n"
          ]
        }
      ]
    },
    {
      "cell_type": "code",
      "execution_count": 85,
      "metadata": {
        "id": "Vwhr9am41KrZ"
      },
      "outputs": [],
      "source": [
        "import sys\n",
        "import re\n",
        "# !pip install emoji --quiet\n",
        "import emoji\n",
        "# !pip install contractions --quiet\n",
        "import contractions\n",
        "import nltk\n",
        "from nltk.corpus import stopwords\n",
        "# nltk.download('stopwords')\n",
        "import unicodedata"
      ]
    },
    {
      "cell_type": "markdown",
      "source": [
        "## Given below is the function for Stemmizing and cleaning the tweets from training Dataset."
      ],
      "metadata": {
        "id": "dPfBfKGTgZo8"
      }
    },
    {
      "cell_type": "code",
      "execution_count": 86,
      "metadata": {
        "id": "n9qKs19_0pZ9"
      },
      "outputs": [],
      "source": [
        "def cleaning(text):\n",
        "  text= text.lower()\n",
        "  text= emoji.demojize(text)\n",
        "  text=contractions.fix(text)\n",
        "  text=text.strip()\n",
        "  text=text.replace('[^\\w\\s]','')\n",
        "  text=re.sub(r'http\\S+', '', text)\n",
        "  REPLACE_BY_SPACE_RE = re.compile('[/(){}\\[\\]\\|@,;]')\n",
        "  BAD_SYMBOLS_RE = re.compile('[^0-9a-z +]')\n",
        "  text = REPLACE_BY_SPACE_RE.sub(' ' , text)\n",
        "  text = BAD_SYMBOLS_RE.sub(' ',text)\n",
        "  return text\n"
      ]
    },
    {
      "cell_type": "markdown",
      "source": [
        "## Cleaning the tweets of Training Data"
      ],
      "metadata": {
        "id": "MpCqenZ8go7D"
      }
    },
    {
      "cell_type": "code",
      "source": [
        "df_train['tweet_cleaned'] = df_train['tweet'].apply(cleaning)\n",
        "\n",
        "df_train['tweet_cleaned'].iloc[0]"
      ],
      "metadata": {
        "colab": {
          "base_uri": "https://localhost:8080/",
          "height": 140
        },
        "id": "lnyadVCyglhp",
        "outputId": "70a81888-121e-4e2c-9860-e84cdb0d3f7f"
      },
      "execution_count": 87,
      "outputs": [
        {
          "output_type": "stream",
          "name": "stderr",
          "text": [
            "<ipython-input-87-9021be7e2ec7>:1: SettingWithCopyWarning: \n",
            "A value is trying to be set on a copy of a slice from a DataFrame.\n",
            "Try using .loc[row_indexer,col_indexer] = value instead\n",
            "\n",
            "See the caveats in the documentation: https://pandas.pydata.org/pandas-docs/stable/user_guide/indexing.html#returning-a-view-versus-a-copy\n",
            "  df_train['tweet_cleaned'] = df_train['tweet'].apply(cleaning)\n"
          ]
        },
        {
          "output_type": "execute_result",
          "data": {
            "text/plain": [
              "'powell says economy will still need more support despite progress toward covid 19 vaccine '"
            ],
            "application/vnd.google.colaboratory.intrinsic+json": {
              "type": "string"
            }
          },
          "metadata": {},
          "execution_count": 87
        }
      ]
    },
    {
      "cell_type": "markdown",
      "source": [
        "## Cleaning the tweets of Test Data\n"
      ],
      "metadata": {
        "id": "RL0U8oGtg1vd"
      }
    },
    {
      "cell_type": "code",
      "source": [
        "df_test['tweet_cleaned'] = df_test['tweet'].apply(cleaning)\n"
      ],
      "metadata": {
        "id": "iaKNqeIng1HR"
      },
      "execution_count": 88,
      "outputs": []
    },
    {
      "cell_type": "markdown",
      "source": [
        "## Cleaning the tweets of Validation Data\n"
      ],
      "metadata": {
        "id": "Y0nHreY5g_mN"
      }
    },
    {
      "cell_type": "code",
      "source": [
        "df_valid['tweet_cleaned'] = df_valid['tweet'].apply(cleaning)"
      ],
      "metadata": {
        "colab": {
          "base_uri": "https://localhost:8080/"
        },
        "id": "gHkuhgYWhHDc",
        "outputId": "703ebed1-9024-4fec-a421-c7a02bfaf3c3"
      },
      "execution_count": 89,
      "outputs": [
        {
          "output_type": "stream",
          "name": "stderr",
          "text": [
            "<ipython-input-89-61f3d6dc8e04>:1: SettingWithCopyWarning: \n",
            "A value is trying to be set on a copy of a slice from a DataFrame.\n",
            "Try using .loc[row_indexer,col_indexer] = value instead\n",
            "\n",
            "See the caveats in the documentation: https://pandas.pydata.org/pandas-docs/stable/user_guide/indexing.html#returning-a-view-versus-a-copy\n",
            "  df_valid['tweet_cleaned'] = df_valid['tweet'].apply(cleaning)\n"
          ]
        }
      ]
    },
    {
      "cell_type": "markdown",
      "source": [
        "## Model Training Starts"
      ],
      "metadata": {
        "id": "mbGFYnBIhMkQ"
      }
    },
    {
      "cell_type": "code",
      "execution_count": 90,
      "metadata": {
        "id": "UzhyEzc2dIsv"
      },
      "outputs": [],
      "source": [
        "x_train, y_train = df_train['tweet_cleaned'].values, np.array(df_train['Sentiment_Cat'], dtype=np.int64)\n",
        "x_valid, y_valid = df_valid['tweet_cleaned'].values, np.array(df_valid['Sentiment_Cat'], dtype=np.int64)"
      ]
    },
    {
      "cell_type": "code",
      "source": [
        "x_test = df_test['tweet_cleaned'].values"
      ],
      "metadata": {
        "id": "5PWvGkgYhTql"
      },
      "execution_count": 91,
      "outputs": []
    },
    {
      "cell_type": "markdown",
      "metadata": {
        "id": "PT_1dcod_bHJ"
      },
      "source": [
        "# Data Analysis"
      ]
    },
    {
      "cell_type": "code",
      "execution_count": 92,
      "metadata": {
        "id": "BtfsgOX5YoAg"
      },
      "outputs": [],
      "source": [
        "data = df_train\n",
        "Neutral_data = data[data['Sentiment_Cat'] == 2]\n",
        "Antivax_data = data[data['Sentiment_Cat'] == 1]\n",
        "Provax_data = data[data['Sentiment_Cat'] == 0]"
      ]
    },
    {
      "cell_type": "markdown",
      "source": [
        "## How much Antivax_data ?"
      ],
      "metadata": {
        "id": "fFY-yT_UjhmG"
      }
    },
    {
      "cell_type": "code",
      "source": [
        "a=[]\n",
        "for i in range(len(Antivax_data)):\n",
        "  a.append(len(Antivax_data['tweet_cleaned'].iloc[i].split()))"
      ],
      "metadata": {
        "id": "3IhwfEz4jmrv"
      },
      "execution_count": 93,
      "outputs": []
    },
    {
      "cell_type": "markdown",
      "source": [
        "## How much Provax data ?"
      ],
      "metadata": {
        "id": "YGrkarZ1jpgH"
      }
    },
    {
      "cell_type": "code",
      "source": [
        "p=[]\n",
        "for i in range(len(Provax_data)):\n",
        "  p.append(len(Provax_data['tweet_cleaned'].iloc[i].split()))"
      ],
      "metadata": {
        "id": "qaxORF1HjuNR"
      },
      "execution_count": 94,
      "outputs": []
    },
    {
      "cell_type": "markdown",
      "source": [
        "##How much Neutral data ?**"
      ],
      "metadata": {
        "id": "00Hev-29jyVt"
      }
    },
    {
      "cell_type": "code",
      "execution_count": 95,
      "metadata": {
        "id": "auW5p-QfYaQc"
      },
      "outputs": [],
      "source": [
        "n=[]\n",
        "for i in range(len(Neutral_data)):\n",
        "  n.append(len(Neutral_data['tweet_cleaned'].iloc[i].split()))"
      ]
    },
    {
      "cell_type": "code",
      "source": [
        "print(len(Neutral_data), len(Antivax_data), len(Provax_data))"
      ],
      "metadata": {
        "colab": {
          "base_uri": "https://localhost:8080/"
        },
        "id": "DOBVHapQkGUS",
        "outputId": "49efcc98-1924-4a26-ebef-7591e2df5f27"
      },
      "execution_count": 96,
      "outputs": [
        {
          "output_type": "stream",
          "name": "stdout",
          "text": [
            "1471 973 1508\n"
          ]
        }
      ]
    },
    {
      "cell_type": "code",
      "source": [
        "Antivax_data.head()"
      ],
      "metadata": {
        "colab": {
          "base_uri": "https://localhost:8080/",
          "height": 206
        },
        "id": "GLE7uAMvqc21",
        "outputId": "18444c6d-b2af-415d-d9b3-b42197a2be11"
      },
      "execution_count": 97,
      "outputs": [
        {
          "output_type": "execute_result",
          "data": {
            "text/plain": [
              "                       id                                              tweet  \\\n",
              "1981  1246258423014010880  @mitchellvii I was H1N1 positive once but noth...   \n",
              "2412  1338223969913118721  @bennyjohnson Meanwhile he isn't affected by t...   \n",
              "3438  1329050409420419072  I won't be the first!\\n\\nPfizer coronavirus va...   \n",
              "1410  1261409476218765312  @lordofchickenz @akins_lin @ABC7 @Cgriffin3323...   \n",
              "4004  1325825579329990660  Great news for the vaccine manufacturers 🤦🏼‍♂️...   \n",
              "\n",
              "        label  Sentiment_Cat  \\\n",
              "1981  AntiVax              1   \n",
              "2412  AntiVax              1   \n",
              "3438  AntiVax              1   \n",
              "1410  AntiVax              1   \n",
              "4004  AntiVax              1   \n",
              "\n",
              "                                          tweet_cleaned  \n",
              "1981   mitchellvii i was h1n1 positive once but noth...  \n",
              "2412   bennyjohnson meanwhile he is not affected by ...  \n",
              "3438  i will not be the first   pfizer coronavirus v...  \n",
              "1410   lordofchickenz  akins lin  abc7  cgriffin3323...  \n",
              "4004  great news for the vaccine manufacturers  man ...  "
            ],
            "text/html": [
              "\n",
              "  <div id=\"df-f6173db9-71e5-40a5-8fba-e52b81576b6e\">\n",
              "    <div class=\"colab-df-container\">\n",
              "      <div>\n",
              "<style scoped>\n",
              "    .dataframe tbody tr th:only-of-type {\n",
              "        vertical-align: middle;\n",
              "    }\n",
              "\n",
              "    .dataframe tbody tr th {\n",
              "        vertical-align: top;\n",
              "    }\n",
              "\n",
              "    .dataframe thead th {\n",
              "        text-align: right;\n",
              "    }\n",
              "</style>\n",
              "<table border=\"1\" class=\"dataframe\">\n",
              "  <thead>\n",
              "    <tr style=\"text-align: right;\">\n",
              "      <th></th>\n",
              "      <th>id</th>\n",
              "      <th>tweet</th>\n",
              "      <th>label</th>\n",
              "      <th>Sentiment_Cat</th>\n",
              "      <th>tweet_cleaned</th>\n",
              "    </tr>\n",
              "  </thead>\n",
              "  <tbody>\n",
              "    <tr>\n",
              "      <th>1981</th>\n",
              "      <td>1246258423014010880</td>\n",
              "      <td>@mitchellvii I was H1N1 positive once but noth...</td>\n",
              "      <td>AntiVax</td>\n",
              "      <td>1</td>\n",
              "      <td>mitchellvii i was h1n1 positive once but noth...</td>\n",
              "    </tr>\n",
              "    <tr>\n",
              "      <th>2412</th>\n",
              "      <td>1338223969913118721</td>\n",
              "      <td>@bennyjohnson Meanwhile he isn't affected by t...</td>\n",
              "      <td>AntiVax</td>\n",
              "      <td>1</td>\n",
              "      <td>bennyjohnson meanwhile he is not affected by ...</td>\n",
              "    </tr>\n",
              "    <tr>\n",
              "      <th>3438</th>\n",
              "      <td>1329050409420419072</td>\n",
              "      <td>I won't be the first!\\n\\nPfizer coronavirus va...</td>\n",
              "      <td>AntiVax</td>\n",
              "      <td>1</td>\n",
              "      <td>i will not be the first   pfizer coronavirus v...</td>\n",
              "    </tr>\n",
              "    <tr>\n",
              "      <th>1410</th>\n",
              "      <td>1261409476218765312</td>\n",
              "      <td>@lordofchickenz @akins_lin @ABC7 @Cgriffin3323...</td>\n",
              "      <td>AntiVax</td>\n",
              "      <td>1</td>\n",
              "      <td>lordofchickenz  akins lin  abc7  cgriffin3323...</td>\n",
              "    </tr>\n",
              "    <tr>\n",
              "      <th>4004</th>\n",
              "      <td>1325825579329990660</td>\n",
              "      <td>Great news for the vaccine manufacturers 🤦🏼‍♂️...</td>\n",
              "      <td>AntiVax</td>\n",
              "      <td>1</td>\n",
              "      <td>great news for the vaccine manufacturers  man ...</td>\n",
              "    </tr>\n",
              "  </tbody>\n",
              "</table>\n",
              "</div>\n",
              "      <button class=\"colab-df-convert\" onclick=\"convertToInteractive('df-f6173db9-71e5-40a5-8fba-e52b81576b6e')\"\n",
              "              title=\"Convert this dataframe to an interactive table.\"\n",
              "              style=\"display:none;\">\n",
              "        \n",
              "  <svg xmlns=\"http://www.w3.org/2000/svg\" height=\"24px\"viewBox=\"0 0 24 24\"\n",
              "       width=\"24px\">\n",
              "    <path d=\"M0 0h24v24H0V0z\" fill=\"none\"/>\n",
              "    <path d=\"M18.56 5.44l.94 2.06.94-2.06 2.06-.94-2.06-.94-.94-2.06-.94 2.06-2.06.94zm-11 1L8.5 8.5l.94-2.06 2.06-.94-2.06-.94L8.5 2.5l-.94 2.06-2.06.94zm10 10l.94 2.06.94-2.06 2.06-.94-2.06-.94-.94-2.06-.94 2.06-2.06.94z\"/><path d=\"M17.41 7.96l-1.37-1.37c-.4-.4-.92-.59-1.43-.59-.52 0-1.04.2-1.43.59L10.3 9.45l-7.72 7.72c-.78.78-.78 2.05 0 2.83L4 21.41c.39.39.9.59 1.41.59.51 0 1.02-.2 1.41-.59l7.78-7.78 2.81-2.81c.8-.78.8-2.07 0-2.86zM5.41 20L4 18.59l7.72-7.72 1.47 1.35L5.41 20z\"/>\n",
              "  </svg>\n",
              "      </button>\n",
              "      \n",
              "  <style>\n",
              "    .colab-df-container {\n",
              "      display:flex;\n",
              "      flex-wrap:wrap;\n",
              "      gap: 12px;\n",
              "    }\n",
              "\n",
              "    .colab-df-convert {\n",
              "      background-color: #E8F0FE;\n",
              "      border: none;\n",
              "      border-radius: 50%;\n",
              "      cursor: pointer;\n",
              "      display: none;\n",
              "      fill: #1967D2;\n",
              "      height: 32px;\n",
              "      padding: 0 0 0 0;\n",
              "      width: 32px;\n",
              "    }\n",
              "\n",
              "    .colab-df-convert:hover {\n",
              "      background-color: #E2EBFA;\n",
              "      box-shadow: 0px 1px 2px rgba(60, 64, 67, 0.3), 0px 1px 3px 1px rgba(60, 64, 67, 0.15);\n",
              "      fill: #174EA6;\n",
              "    }\n",
              "\n",
              "    [theme=dark] .colab-df-convert {\n",
              "      background-color: #3B4455;\n",
              "      fill: #D2E3FC;\n",
              "    }\n",
              "\n",
              "    [theme=dark] .colab-df-convert:hover {\n",
              "      background-color: #434B5C;\n",
              "      box-shadow: 0px 1px 3px 1px rgba(0, 0, 0, 0.15);\n",
              "      filter: drop-shadow(0px 1px 2px rgba(0, 0, 0, 0.3));\n",
              "      fill: #FFFFFF;\n",
              "    }\n",
              "  </style>\n",
              "\n",
              "      <script>\n",
              "        const buttonEl =\n",
              "          document.querySelector('#df-f6173db9-71e5-40a5-8fba-e52b81576b6e button.colab-df-convert');\n",
              "        buttonEl.style.display =\n",
              "          google.colab.kernel.accessAllowed ? 'block' : 'none';\n",
              "\n",
              "        async function convertToInteractive(key) {\n",
              "          const element = document.querySelector('#df-f6173db9-71e5-40a5-8fba-e52b81576b6e');\n",
              "          const dataTable =\n",
              "            await google.colab.kernel.invokeFunction('convertToInteractive',\n",
              "                                                     [key], {});\n",
              "          if (!dataTable) return;\n",
              "\n",
              "          const docLinkHtml = 'Like what you see? Visit the ' +\n",
              "            '<a target=\"_blank\" href=https://colab.research.google.com/notebooks/data_table.ipynb>data table notebook</a>'\n",
              "            + ' to learn more about interactive tables.';\n",
              "          element.innerHTML = '';\n",
              "          dataTable['output_type'] = 'display_data';\n",
              "          await google.colab.output.renderOutput(dataTable, element);\n",
              "          const docLink = document.createElement('div');\n",
              "          docLink.innerHTML = docLinkHtml;\n",
              "          element.appendChild(docLink);\n",
              "        }\n",
              "      </script>\n",
              "    </div>\n",
              "  </div>\n",
              "  "
            ]
          },
          "metadata": {},
          "execution_count": 97
        }
      ]
    },
    {
      "cell_type": "code",
      "source": [
        "Provax_data.head()"
      ],
      "metadata": {
        "colab": {
          "base_uri": "https://localhost:8080/",
          "height": 206
        },
        "id": "N9ST92iCkV4J",
        "outputId": "ddcb5370-2dc8-47c9-ccd9-a0b37a510486"
      },
      "execution_count": 98,
      "outputs": [
        {
          "output_type": "execute_result",
          "data": {
            "text/plain": [
              "                       id                                              tweet  \\\n",
              "3560  1325830486518882304  @DanCrenshawTX You lie. Pfizer refused governm...   \n",
              "961   1325806879671508993  The anti maskers won’t take this vaccine cos t...   \n",
              "1004  1325874804445093896  It will be the fastest vaccine development and...   \n",
              "2716  1326150499222122497  @sliceandserve The speed drug companies have b...   \n",
              "1423  1325818485721747456  YESSSSS!!! Per aspera ad astra!!!  Fantastic n...   \n",
              "\n",
              "       label  Sentiment_Cat                                      tweet_cleaned  \n",
              "3560  ProVax              0   dancrenshawtx you lie  pfizer refused governm...  \n",
              "961   ProVax              0  the anti maskers will not take this vaccine co...  \n",
              "1004  ProVax              0  it will be the fastest vaccine development and...  \n",
              "2716  ProVax              0   sliceandserve the speed drug companies have b...  \n",
              "1423  ProVax              0  yesssss    per aspera ad astra     fantastic n...  "
            ],
            "text/html": [
              "\n",
              "  <div id=\"df-00dea4a2-bdfd-449f-a9ed-2d8b30de0489\">\n",
              "    <div class=\"colab-df-container\">\n",
              "      <div>\n",
              "<style scoped>\n",
              "    .dataframe tbody tr th:only-of-type {\n",
              "        vertical-align: middle;\n",
              "    }\n",
              "\n",
              "    .dataframe tbody tr th {\n",
              "        vertical-align: top;\n",
              "    }\n",
              "\n",
              "    .dataframe thead th {\n",
              "        text-align: right;\n",
              "    }\n",
              "</style>\n",
              "<table border=\"1\" class=\"dataframe\">\n",
              "  <thead>\n",
              "    <tr style=\"text-align: right;\">\n",
              "      <th></th>\n",
              "      <th>id</th>\n",
              "      <th>tweet</th>\n",
              "      <th>label</th>\n",
              "      <th>Sentiment_Cat</th>\n",
              "      <th>tweet_cleaned</th>\n",
              "    </tr>\n",
              "  </thead>\n",
              "  <tbody>\n",
              "    <tr>\n",
              "      <th>3560</th>\n",
              "      <td>1325830486518882304</td>\n",
              "      <td>@DanCrenshawTX You lie. Pfizer refused governm...</td>\n",
              "      <td>ProVax</td>\n",
              "      <td>0</td>\n",
              "      <td>dancrenshawtx you lie  pfizer refused governm...</td>\n",
              "    </tr>\n",
              "    <tr>\n",
              "      <th>961</th>\n",
              "      <td>1325806879671508993</td>\n",
              "      <td>The anti maskers won’t take this vaccine cos t...</td>\n",
              "      <td>ProVax</td>\n",
              "      <td>0</td>\n",
              "      <td>the anti maskers will not take this vaccine co...</td>\n",
              "    </tr>\n",
              "    <tr>\n",
              "      <th>1004</th>\n",
              "      <td>1325874804445093896</td>\n",
              "      <td>It will be the fastest vaccine development and...</td>\n",
              "      <td>ProVax</td>\n",
              "      <td>0</td>\n",
              "      <td>it will be the fastest vaccine development and...</td>\n",
              "    </tr>\n",
              "    <tr>\n",
              "      <th>2716</th>\n",
              "      <td>1326150499222122497</td>\n",
              "      <td>@sliceandserve The speed drug companies have b...</td>\n",
              "      <td>ProVax</td>\n",
              "      <td>0</td>\n",
              "      <td>sliceandserve the speed drug companies have b...</td>\n",
              "    </tr>\n",
              "    <tr>\n",
              "      <th>1423</th>\n",
              "      <td>1325818485721747456</td>\n",
              "      <td>YESSSSS!!! Per aspera ad astra!!!  Fantastic n...</td>\n",
              "      <td>ProVax</td>\n",
              "      <td>0</td>\n",
              "      <td>yesssss    per aspera ad astra     fantastic n...</td>\n",
              "    </tr>\n",
              "  </tbody>\n",
              "</table>\n",
              "</div>\n",
              "      <button class=\"colab-df-convert\" onclick=\"convertToInteractive('df-00dea4a2-bdfd-449f-a9ed-2d8b30de0489')\"\n",
              "              title=\"Convert this dataframe to an interactive table.\"\n",
              "              style=\"display:none;\">\n",
              "        \n",
              "  <svg xmlns=\"http://www.w3.org/2000/svg\" height=\"24px\"viewBox=\"0 0 24 24\"\n",
              "       width=\"24px\">\n",
              "    <path d=\"M0 0h24v24H0V0z\" fill=\"none\"/>\n",
              "    <path d=\"M18.56 5.44l.94 2.06.94-2.06 2.06-.94-2.06-.94-.94-2.06-.94 2.06-2.06.94zm-11 1L8.5 8.5l.94-2.06 2.06-.94-2.06-.94L8.5 2.5l-.94 2.06-2.06.94zm10 10l.94 2.06.94-2.06 2.06-.94-2.06-.94-.94-2.06-.94 2.06-2.06.94z\"/><path d=\"M17.41 7.96l-1.37-1.37c-.4-.4-.92-.59-1.43-.59-.52 0-1.04.2-1.43.59L10.3 9.45l-7.72 7.72c-.78.78-.78 2.05 0 2.83L4 21.41c.39.39.9.59 1.41.59.51 0 1.02-.2 1.41-.59l7.78-7.78 2.81-2.81c.8-.78.8-2.07 0-2.86zM5.41 20L4 18.59l7.72-7.72 1.47 1.35L5.41 20z\"/>\n",
              "  </svg>\n",
              "      </button>\n",
              "      \n",
              "  <style>\n",
              "    .colab-df-container {\n",
              "      display:flex;\n",
              "      flex-wrap:wrap;\n",
              "      gap: 12px;\n",
              "    }\n",
              "\n",
              "    .colab-df-convert {\n",
              "      background-color: #E8F0FE;\n",
              "      border: none;\n",
              "      border-radius: 50%;\n",
              "      cursor: pointer;\n",
              "      display: none;\n",
              "      fill: #1967D2;\n",
              "      height: 32px;\n",
              "      padding: 0 0 0 0;\n",
              "      width: 32px;\n",
              "    }\n",
              "\n",
              "    .colab-df-convert:hover {\n",
              "      background-color: #E2EBFA;\n",
              "      box-shadow: 0px 1px 2px rgba(60, 64, 67, 0.3), 0px 1px 3px 1px rgba(60, 64, 67, 0.15);\n",
              "      fill: #174EA6;\n",
              "    }\n",
              "\n",
              "    [theme=dark] .colab-df-convert {\n",
              "      background-color: #3B4455;\n",
              "      fill: #D2E3FC;\n",
              "    }\n",
              "\n",
              "    [theme=dark] .colab-df-convert:hover {\n",
              "      background-color: #434B5C;\n",
              "      box-shadow: 0px 1px 3px 1px rgba(0, 0, 0, 0.15);\n",
              "      filter: drop-shadow(0px 1px 2px rgba(0, 0, 0, 0.3));\n",
              "      fill: #FFFFFF;\n",
              "    }\n",
              "  </style>\n",
              "\n",
              "      <script>\n",
              "        const buttonEl =\n",
              "          document.querySelector('#df-00dea4a2-bdfd-449f-a9ed-2d8b30de0489 button.colab-df-convert');\n",
              "        buttonEl.style.display =\n",
              "          google.colab.kernel.accessAllowed ? 'block' : 'none';\n",
              "\n",
              "        async function convertToInteractive(key) {\n",
              "          const element = document.querySelector('#df-00dea4a2-bdfd-449f-a9ed-2d8b30de0489');\n",
              "          const dataTable =\n",
              "            await google.colab.kernel.invokeFunction('convertToInteractive',\n",
              "                                                     [key], {});\n",
              "          if (!dataTable) return;\n",
              "\n",
              "          const docLinkHtml = 'Like what you see? Visit the ' +\n",
              "            '<a target=\"_blank\" href=https://colab.research.google.com/notebooks/data_table.ipynb>data table notebook</a>'\n",
              "            + ' to learn more about interactive tables.';\n",
              "          element.innerHTML = '';\n",
              "          dataTable['output_type'] = 'display_data';\n",
              "          await google.colab.output.renderOutput(dataTable, element);\n",
              "          const docLink = document.createElement('div');\n",
              "          docLink.innerHTML = docLinkHtml;\n",
              "          element.appendChild(docLink);\n",
              "        }\n",
              "      </script>\n",
              "    </div>\n",
              "  </div>\n",
              "  "
            ]
          },
          "metadata": {},
          "execution_count": 98
        }
      ]
    },
    {
      "cell_type": "code",
      "source": [
        "Neutral_data.head()"
      ],
      "metadata": {
        "colab": {
          "base_uri": "https://localhost:8080/",
          "height": 206
        },
        "id": "8RoFPMcwkaHy",
        "outputId": "29dbe526-6a60-45f8-93de-60ab5ff79013"
      },
      "execution_count": 99,
      "outputs": [
        {
          "output_type": "execute_result",
          "data": {
            "text/plain": [
              "                       id                                              tweet  \\\n",
              "876   1327030820037681152  Powell says economy will still need more suppo...   \n",
              "3696  1325689685943996416  The Philippine government is in talks with Ang...   \n",
              "473   1292440252628566016  Happy birthday to Upright Vol. IV! This one fe...   \n",
              "2294  1247357106132582400  @kenvogel @sanofi OH GOOD GRIEF.   Leftwingers...   \n",
              "3971  1330902684224798720  How a handful of scientists developed Oxford v...   \n",
              "\n",
              "        label  Sentiment_Cat  \\\n",
              "876   Neutral              2   \n",
              "3696  Neutral              2   \n",
              "473   Neutral              2   \n",
              "2294  Neutral              2   \n",
              "3971  Neutral              2   \n",
              "\n",
              "                                          tweet_cleaned  \n",
              "876   powell says economy will still need more suppo...  \n",
              "3696  the philippine government is in talks with ang...  \n",
              "473   happy birthday to upright vol  iv  this one fe...  \n",
              "2294   kenvogel  sanofi oh good grief    leftwingers...  \n",
              "3971  how a handful of scientists developed oxford v...  "
            ],
            "text/html": [
              "\n",
              "  <div id=\"df-cdec0490-2465-45b6-889a-1af849302736\">\n",
              "    <div class=\"colab-df-container\">\n",
              "      <div>\n",
              "<style scoped>\n",
              "    .dataframe tbody tr th:only-of-type {\n",
              "        vertical-align: middle;\n",
              "    }\n",
              "\n",
              "    .dataframe tbody tr th {\n",
              "        vertical-align: top;\n",
              "    }\n",
              "\n",
              "    .dataframe thead th {\n",
              "        text-align: right;\n",
              "    }\n",
              "</style>\n",
              "<table border=\"1\" class=\"dataframe\">\n",
              "  <thead>\n",
              "    <tr style=\"text-align: right;\">\n",
              "      <th></th>\n",
              "      <th>id</th>\n",
              "      <th>tweet</th>\n",
              "      <th>label</th>\n",
              "      <th>Sentiment_Cat</th>\n",
              "      <th>tweet_cleaned</th>\n",
              "    </tr>\n",
              "  </thead>\n",
              "  <tbody>\n",
              "    <tr>\n",
              "      <th>876</th>\n",
              "      <td>1327030820037681152</td>\n",
              "      <td>Powell says economy will still need more suppo...</td>\n",
              "      <td>Neutral</td>\n",
              "      <td>2</td>\n",
              "      <td>powell says economy will still need more suppo...</td>\n",
              "    </tr>\n",
              "    <tr>\n",
              "      <th>3696</th>\n",
              "      <td>1325689685943996416</td>\n",
              "      <td>The Philippine government is in talks with Ang...</td>\n",
              "      <td>Neutral</td>\n",
              "      <td>2</td>\n",
              "      <td>the philippine government is in talks with ang...</td>\n",
              "    </tr>\n",
              "    <tr>\n",
              "      <th>473</th>\n",
              "      <td>1292440252628566016</td>\n",
              "      <td>Happy birthday to Upright Vol. IV! This one fe...</td>\n",
              "      <td>Neutral</td>\n",
              "      <td>2</td>\n",
              "      <td>happy birthday to upright vol  iv  this one fe...</td>\n",
              "    </tr>\n",
              "    <tr>\n",
              "      <th>2294</th>\n",
              "      <td>1247357106132582400</td>\n",
              "      <td>@kenvogel @sanofi OH GOOD GRIEF.   Leftwingers...</td>\n",
              "      <td>Neutral</td>\n",
              "      <td>2</td>\n",
              "      <td>kenvogel  sanofi oh good grief    leftwingers...</td>\n",
              "    </tr>\n",
              "    <tr>\n",
              "      <th>3971</th>\n",
              "      <td>1330902684224798720</td>\n",
              "      <td>How a handful of scientists developed Oxford v...</td>\n",
              "      <td>Neutral</td>\n",
              "      <td>2</td>\n",
              "      <td>how a handful of scientists developed oxford v...</td>\n",
              "    </tr>\n",
              "  </tbody>\n",
              "</table>\n",
              "</div>\n",
              "      <button class=\"colab-df-convert\" onclick=\"convertToInteractive('df-cdec0490-2465-45b6-889a-1af849302736')\"\n",
              "              title=\"Convert this dataframe to an interactive table.\"\n",
              "              style=\"display:none;\">\n",
              "        \n",
              "  <svg xmlns=\"http://www.w3.org/2000/svg\" height=\"24px\"viewBox=\"0 0 24 24\"\n",
              "       width=\"24px\">\n",
              "    <path d=\"M0 0h24v24H0V0z\" fill=\"none\"/>\n",
              "    <path d=\"M18.56 5.44l.94 2.06.94-2.06 2.06-.94-2.06-.94-.94-2.06-.94 2.06-2.06.94zm-11 1L8.5 8.5l.94-2.06 2.06-.94-2.06-.94L8.5 2.5l-.94 2.06-2.06.94zm10 10l.94 2.06.94-2.06 2.06-.94-2.06-.94-.94-2.06-.94 2.06-2.06.94z\"/><path d=\"M17.41 7.96l-1.37-1.37c-.4-.4-.92-.59-1.43-.59-.52 0-1.04.2-1.43.59L10.3 9.45l-7.72 7.72c-.78.78-.78 2.05 0 2.83L4 21.41c.39.39.9.59 1.41.59.51 0 1.02-.2 1.41-.59l7.78-7.78 2.81-2.81c.8-.78.8-2.07 0-2.86zM5.41 20L4 18.59l7.72-7.72 1.47 1.35L5.41 20z\"/>\n",
              "  </svg>\n",
              "      </button>\n",
              "      \n",
              "  <style>\n",
              "    .colab-df-container {\n",
              "      display:flex;\n",
              "      flex-wrap:wrap;\n",
              "      gap: 12px;\n",
              "    }\n",
              "\n",
              "    .colab-df-convert {\n",
              "      background-color: #E8F0FE;\n",
              "      border: none;\n",
              "      border-radius: 50%;\n",
              "      cursor: pointer;\n",
              "      display: none;\n",
              "      fill: #1967D2;\n",
              "      height: 32px;\n",
              "      padding: 0 0 0 0;\n",
              "      width: 32px;\n",
              "    }\n",
              "\n",
              "    .colab-df-convert:hover {\n",
              "      background-color: #E2EBFA;\n",
              "      box-shadow: 0px 1px 2px rgba(60, 64, 67, 0.3), 0px 1px 3px 1px rgba(60, 64, 67, 0.15);\n",
              "      fill: #174EA6;\n",
              "    }\n",
              "\n",
              "    [theme=dark] .colab-df-convert {\n",
              "      background-color: #3B4455;\n",
              "      fill: #D2E3FC;\n",
              "    }\n",
              "\n",
              "    [theme=dark] .colab-df-convert:hover {\n",
              "      background-color: #434B5C;\n",
              "      box-shadow: 0px 1px 3px 1px rgba(0, 0, 0, 0.15);\n",
              "      filter: drop-shadow(0px 1px 2px rgba(0, 0, 0, 0.3));\n",
              "      fill: #FFFFFF;\n",
              "    }\n",
              "  </style>\n",
              "\n",
              "      <script>\n",
              "        const buttonEl =\n",
              "          document.querySelector('#df-cdec0490-2465-45b6-889a-1af849302736 button.colab-df-convert');\n",
              "        buttonEl.style.display =\n",
              "          google.colab.kernel.accessAllowed ? 'block' : 'none';\n",
              "\n",
              "        async function convertToInteractive(key) {\n",
              "          const element = document.querySelector('#df-cdec0490-2465-45b6-889a-1af849302736');\n",
              "          const dataTable =\n",
              "            await google.colab.kernel.invokeFunction('convertToInteractive',\n",
              "                                                     [key], {});\n",
              "          if (!dataTable) return;\n",
              "\n",
              "          const docLinkHtml = 'Like what you see? Visit the ' +\n",
              "            '<a target=\"_blank\" href=https://colab.research.google.com/notebooks/data_table.ipynb>data table notebook</a>'\n",
              "            + ' to learn more about interactive tables.';\n",
              "          element.innerHTML = '';\n",
              "          dataTable['output_type'] = 'display_data';\n",
              "          await google.colab.output.renderOutput(dataTable, element);\n",
              "          const docLink = document.createElement('div');\n",
              "          docLink.innerHTML = docLinkHtml;\n",
              "          element.appendChild(docLink);\n",
              "        }\n",
              "      </script>\n",
              "    </div>\n",
              "  </div>\n",
              "  "
            ]
          },
          "metadata": {},
          "execution_count": 99
        }
      ]
    },
    {
      "cell_type": "markdown",
      "source": [
        "## Representing Frequency of words in each tweet corresponding to Antivax, Provax and neutral Data"
      ],
      "metadata": {
        "id": "I1ob7V-dkgRO"
      }
    },
    {
      "cell_type": "code",
      "execution_count": 100,
      "metadata": {
        "colab": {
          "base_uri": "https://localhost:8080/",
          "height": 1000
        },
        "id": "EjmubgzJYTWN",
        "outputId": "47aebf37-b462-4708-dc20-1e1c49c0745b"
      },
      "outputs": [
        {
          "output_type": "display_data",
          "data": {
            "text/plain": [
              "<Figure size 640x480 with 1 Axes>"
            ],
            "image/png": "[encoded data removed]"
          },
          "metadata": {}
        },
        {
          "output_type": "display_data",
          "data": {
            "text/plain": [
              "<Figure size 640x480 with 1 Axes>"
            ],
            "image/png": "[encoded data removed]"
          },
          "metadata": {}
        },
        {
          "output_type": "display_data",
          "data": {
            "text/plain": [
              "<Figure size 640x480 with 1 Axes>"
            ],
            "image/png": "[encoded data removed]"
          },
          "metadata": {}
        }
      ],
      "source": [
        "import numpy as np\n",
        "import matplotlib.pyplot as plt\n",
        "from numpy import *\n",
        "plt.hist(a,bins= 80, label = \"AntiVax\")\n",
        "plt.legend()\n",
        "plt.xlabel('Length')\n",
        "plt.ylabel('Frequecy')\n",
        "plt.title('Length Histogram')\n",
        "plt.show()\n",
        "plt.hist(b,bins= 60, label = \"ProVax\")\n",
        "plt.legend()\n",
        "plt.xlabel('Length')\n",
        "plt.ylabel('Frequecy')\n",
        "plt.title('Length Histogram')\n",
        "plt.show()\n",
        "plt.hist(c, bins= 60, label = \"Neutral\")\n",
        "plt.legend()\n",
        "plt.xlabel('Length')\n",
        "plt.ylabel('Frequecy')\n",
        "plt.title('Length Histogram')\n",
        "plt.show()"
      ]
    },
    {
      "cell_type": "markdown",
      "metadata": {
        "id": "WBm7fSLdjNsK"
      },
      "source": [
        "# BERT"
      ]
    },
    {
      "cell_type": "code",
      "source": [
        "!pip install tokenizers transformers"
      ],
      "metadata": {
        "colab": {
          "base_uri": "https://localhost:8080/"
        },
        "id": "uEg4mpBdFNUc",
        "outputId": "16fed8ef-7b10-47b8-b305-9a6bd50a3272"
      },
      "execution_count": 101,
      "outputs": [
        {
          "output_type": "stream",
          "name": "stdout",
          "text": [
            "Looking in indexes: https://pypi.org/simple, https://us-python.pkg.dev/colab-wheels/public/simple/\n",
            "Requirement already satisfied: tokenizers in /usr/local/lib/python3.9/dist-packages (0.13.3)\n",
            "Requirement already satisfied: transformers in /usr/local/lib/python3.9/dist-packages (4.28.1)\n",
            "Requirement already satisfied: numpy>=1.17 in /usr/local/lib/python3.9/dist-packages (from transformers) (1.22.4)\n",
            "Requirement already satisfied: tqdm>=4.27 in /usr/local/lib/python3.9/dist-packages (from transformers) (4.65.0)\n",
            "Requirement already satisfied: requests in /usr/local/lib/python3.9/dist-packages (from transformers) (2.27.1)\n",
            "Requirement already satisfied: filelock in /usr/local/lib/python3.9/dist-packages (from transformers) (3.11.0)\n",
            "Requirement already satisfied: huggingface-hub<1.0,>=0.11.0 in /usr/local/lib/python3.9/dist-packages (from transformers) (0.14.0)\n",
            "Requirement already satisfied: regex!=2019.12.17 in /usr/local/lib/python3.9/dist-packages (from transformers) (2022.10.31)\n",
            "Requirement already satisfied: packaging>=20.0 in /usr/local/lib/python3.9/dist-packages (from transformers) (23.1)\n",
            "Requirement already satisfied: pyyaml>=5.1 in /usr/local/lib/python3.9/dist-packages (from transformers) (6.0)\n",
            "Requirement already satisfied: fsspec in /usr/local/lib/python3.9/dist-packages (from huggingface-hub<1.0,>=0.11.0->transformers) (2023.4.0)\n",
            "Requirement already satisfied: typing-extensions>=3.7.4.3 in /usr/local/lib/python3.9/dist-packages (from huggingface-hub<1.0,>=0.11.0->transformers) (4.5.0)\n",
            "Requirement already satisfied: urllib3<1.27,>=1.21.1 in /usr/local/lib/python3.9/dist-packages (from requests->transformers) (1.26.15)\n",
            "Requirement already satisfied: certifi>=2017.4.17 in /usr/local/lib/python3.9/dist-packages (from requests->transformers) (2022.12.7)\n",
            "Requirement already satisfied: charset-normalizer~=2.0.0 in /usr/local/lib/python3.9/dist-packages (from requests->transformers) (2.0.12)\n",
            "Requirement already satisfied: idna<4,>=2.5 in /usr/local/lib/python3.9/dist-packages (from requests->transformers) (3.4)\n"
          ]
        }
      ]
    },
    {
      "cell_type": "code",
      "execution_count": 102,
      "metadata": {
        "id": "UfVEmb5Idiv5"
      },
      "outputs": [],
      "source": [
        "from tokenizers import BertWordPieceTokenizer\n",
        "import transformers"
      ]
    },
    {
      "cell_type": "markdown",
      "source": [
        "### Tokenization is cutting input data into parts (symbols) that can be mapped (embedded) into a vector space. "
      ],
      "metadata": {
        "id": "QQAfadIRleAN"
      }
    },
    {
      "cell_type": "code",
      "execution_count": 103,
      "metadata": {
        "colab": {
          "base_uri": "https://localhost:8080/"
        },
        "id": "8o7uh0Gbdlmf",
        "outputId": "106c6d8a-3a77-4484-ca14-54b8f0a7d46d"
      },
      "outputs": [
        {
          "output_type": "execute_result",
          "data": {
            "text/plain": [
              "Tokenizer(vocabulary_size=30522, model=BertWordPiece, unk_token=[UNK], sep_token=[SEP], cls_token=[CLS], pad_token=[PAD], mask_token=[MASK], clean_text=True, handle_chinese_chars=True, strip_accents=None, lowercase=True, wordpieces_prefix=##)"
            ]
          },
          "metadata": {},
          "execution_count": 103
        }
      ],
      "source": [
        "# First load the real tokenizer\n",
        "tokenizer = transformers.BertTokenizerFast.from_pretrained('bert-base-uncased', lower=True)\n",
        "\n",
        "# Save the loaded tokenizer locally\n",
        "tokenizer.save_pretrained('.')\n",
        "\n",
        "tokenizer = transformers.BertTokenizerFast.from_pretrained('.')\n",
        "\n",
        "# Reload it with the huggingface tokenizers library\n",
        "fast_tokenizer = BertWordPieceTokenizer('vocab.txt', lowercase=True)\n",
        "fast_tokenizer"
      ]
    },
    {
      "cell_type": "markdown",
      "source": [
        "## function for transforming and encoding into vector space"
      ],
      "metadata": {
        "id": "rwSzqRE_ly1O"
      }
    },
    {
      "cell_type": "code",
      "execution_count": 104,
      "metadata": {
        "id": "Vvy3OyJddodD"
      },
      "outputs": [],
      "source": [
        "def fast_encode(texts, tokenizer, chunk_size=256, maxlen=200):\n",
        "    tokenizer.enable_truncation(max_length=maxlen)\n",
        "    tokenizer.enable_padding(length=maxlen)\n",
        "    all_ids = []\n",
        "    \n",
        "    for i in range(0, len(texts), chunk_size):\n",
        "        text_chunk = texts[i:i+chunk_size].tolist()\n",
        "        encs = tokenizer.encode_batch(text_chunk)\n",
        "        all_ids.extend([enc.ids for enc in encs])\n",
        "    \n",
        "    return np.array(all_ids)"
      ]
    },
    {
      "cell_type": "markdown",
      "source": [
        "## Converting train, validation and test data into vector spaces"
      ],
      "metadata": {
        "id": "9vCfOrGumGRz"
      }
    },
    {
      "cell_type": "code",
      "execution_count": 105,
      "metadata": {
        "id": "Q9LJvgi0d5i-"
      },
      "outputs": [],
      "source": [
        "max_len=80\n",
        "x_train_enc = fast_encode(x_train, fast_tokenizer, maxlen=max_len)\n",
        "x_valid_enc = fast_encode(x_valid, fast_tokenizer, maxlen=max_len)\n",
        "x_test_enc = fast_encode(x_test, fast_tokenizer, maxlen=max_len)\n"
      ]
    },
    {
      "cell_type": "markdown",
      "source": [
        "## Compiling the bert *model*"
      ],
      "metadata": {
        "id": "Sb4AVytdmp8k"
      }
    },
    {
      "cell_type": "code",
      "execution_count": 106,
      "metadata": {
        "id": "pcBnfPChd9PO",
        "colab": {
          "base_uri": "https://localhost:8080/"
        },
        "outputId": "4f5c3b0e-547a-44ad-bf9d-ace6b556695d"
      },
      "outputs": [
        {
          "output_type": "stream",
          "name": "stderr",
          "text": [
            "All model checkpoint layers were used when initializing TFBertForSequenceClassification.\n",
            "\n",
            "Some layers of TFBertForSequenceClassification were not initialized from the model checkpoint at digitalepidemiologylab/covid-twitter-bert-v2 and are newly initialized: ['classifier']\n",
            "You should probably TRAIN this model on a down-stream task to be able to use it for predictions and inference.\n"
          ]
        }
      ],
      "source": [
        "NUM_CLASSES = df_train['Sentiment_Cat'].nunique()\n",
        "\n",
        "bert_transformer = transformers.TFBertForSequenceClassification.from_pretrained('digitalepidemiologylab/covid-twitter-bert-v2', num_labels=NUM_CLASSES)\n",
        "\n",
        "input = tf.keras.layers.Input(shape=(max_len,), dtype=tf.int32)\n",
        "sequence_output = bert_transformer(input)[0]\n",
        "\n",
        "model = tf.keras.Model(inputs=input, outputs=sequence_output)\n",
        "model.compile(optimizer=tf.keras.optimizers.Adam(1e-5), loss=tf.keras.losses.SparseCategoricalCrossentropy(from_logits=True), metrics=['accuracy'])"
      ]
    },
    {
      "cell_type": "markdown",
      "source": [
        "### summary of the model"
      ],
      "metadata": {
        "id": "bqpu0fsAmuom"
      }
    },
    {
      "cell_type": "code",
      "execution_count": 107,
      "metadata": {
        "colab": {
          "base_uri": "https://localhost:8080/"
        },
        "id": "0bliWbCjeRLV",
        "outputId": "d75041fc-f766-4e4d-a202-5350d36aee0c"
      },
      "outputs": [
        {
          "output_type": "stream",
          "name": "stdout",
          "text": [
            "Model: \"model_1\"\n",
            "_________________________________________________________________\n",
            " Layer (type)                Output Shape              Param #   \n",
            "=================================================================\n",
            " input_2 (InputLayer)        [(None, 80)]              0         \n",
            "                                                                 \n",
            " tf_bert_for_sequence_classi  TFSequenceClassifierOutp  335144963\n",
            " fication_1 (TFBertForSequen  ut(loss=None, logits=(No           \n",
            " ceClassification)           ne, 3),                             \n",
            "                              hidden_states=None, att            \n",
            "                             entions=None)                       \n",
            "                                                                 \n",
            "=================================================================\n",
            "Total params: 335,144,963\n",
            "Trainable params: 335,144,963\n",
            "Non-trainable params: 0\n",
            "_________________________________________________________________\n"
          ]
        }
      ],
      "source": [
        "model.summary()"
      ]
    },
    {
      "cell_type": "markdown",
      "source": [
        "## "
      ],
      "metadata": {
        "id": "hS1wbzHEm76_"
      }
    },
    {
      "cell_type": "markdown",
      "source": [
        "## Fitting the model"
      ],
      "metadata": {
        "id": "li1dYhaknUST"
      }
    },
    {
      "cell_type": "code",
      "execution_count": 108,
      "metadata": {
        "colab": {
          "base_uri": "https://localhost:8080/"
        },
        "id": "WRLoFJv0lTip",
        "outputId": "5f5349e0-5dba-41f8-dea2-aef73e40c53d"
      },
      "outputs": [
        {
          "output_type": "stream",
          "name": "stdout",
          "text": [
            "Epoch 1/15\n",
            "247/247 [==============================] - 319s 889ms/step - loss: 1.0681 - accuracy: 0.4188 - val_loss: 1.0788 - val_accuracy: 0.3909\n",
            "Epoch 2/15\n",
            "247/247 [==============================] - 212s 857ms/step - loss: 1.0591 - accuracy: 0.4081 - val_loss: 1.0667 - val_accuracy: 0.4000\n",
            "Epoch 3/15\n",
            "247/247 [==============================] - 210s 850ms/step - loss: 0.8973 - accuracy: 0.5787 - val_loss: 0.6855 - val_accuracy: 0.7000\n",
            "Epoch 4/15\n",
            "247/247 [==============================] - 210s 851ms/step - loss: 0.5634 - accuracy: 0.7837 - val_loss: 0.5577 - val_accuracy: 0.7795\n",
            "Epoch 5/15\n",
            "247/247 [==============================] - 207s 840ms/step - loss: 0.4100 - accuracy: 0.8494 - val_loss: 0.5342 - val_accuracy: 0.7773\n",
            "Epoch 6/15\n",
            "247/247 [==============================] - 210s 850ms/step - loss: 0.3024 - accuracy: 0.8925 - val_loss: 0.5306 - val_accuracy: 0.7795\n",
            "Epoch 7/15\n",
            "247/247 [==============================] - 210s 850ms/step - loss: 0.1828 - accuracy: 0.9400 - val_loss: 0.5457 - val_accuracy: 0.7886\n",
            "Epoch 8/15\n",
            "247/247 [==============================] - 210s 851ms/step - loss: 0.1239 - accuracy: 0.9641 - val_loss: 0.6900 - val_accuracy: 0.7659\n",
            "Epoch 9/15\n",
            "247/247 [==============================] - 211s 853ms/step - loss: 0.0823 - accuracy: 0.9775 - val_loss: 0.7170 - val_accuracy: 0.7795\n",
            "Epoch 10/15\n",
            "247/247 [==============================] - 210s 850ms/step - loss: 0.0750 - accuracy: 0.9785 - val_loss: 0.7607 - val_accuracy: 0.7727\n",
            "Epoch 11/15\n",
            "247/247 [==============================] - 210s 850ms/step - loss: 0.0481 - accuracy: 0.9879 - val_loss: 0.7962 - val_accuracy: 0.7864\n",
            "Epoch 12/15\n",
            "247/247 [==============================] - 207s 839ms/step - loss: 0.0418 - accuracy: 0.9868 - val_loss: 0.8487 - val_accuracy: 0.7977\n",
            "Epoch 13/15\n",
            "247/247 [==============================] - 210s 849ms/step - loss: 0.0475 - accuracy: 0.9843 - val_loss: 0.8789 - val_accuracy: 0.7886\n",
            "Epoch 14/15\n",
            "247/247 [==============================] - 210s 850ms/step - loss: 0.0471 - accuracy: 0.9848 - val_loss: 0.8219 - val_accuracy: 0.7705\n",
            "Epoch 15/15\n",
            "247/247 [==============================] - 210s 849ms/step - loss: 0.0365 - accuracy: 0.9884 - val_loss: 0.8496 - val_accuracy: 0.7864\n"
          ]
        }
      ],
      "source": [
        "history = model.fit(\n",
        "    x_train_enc,\n",
        "    y_train,\n",
        "    batch_size=16,\n",
        "    validation_data=(x_valid_enc, y_valid),\n",
        "    epochs=15)"
      ]
    },
    {
      "cell_type": "markdown",
      "metadata": {
        "id": "sPB9-wqXjSRo"
      },
      "source": [
        "# USing the model for making prediction on Test Data"
      ]
    },
    {
      "cell_type": "code",
      "execution_count": 109,
      "metadata": {
        "colab": {
          "base_uri": "https://localhost:8080/"
        },
        "id": "zY9uNgVAe0MP",
        "outputId": "7be90981-f2e8-42cf-d8df-b54713f53e7c"
      },
      "outputs": [
        {
          "output_type": "stream",
          "name": "stdout",
          "text": [
            "23/23 [==============================] - 19s 535ms/step\n"
          ]
        },
        {
          "output_type": "execute_result",
          "data": {
            "text/plain": [
              "array([[ 1.2126119 , -3.9775724 ,  1.5869763 ],\n",
              "       [-1.9894403 ,  5.5352564 , -1.6815636 ],\n",
              "       [-0.26700097, -3.6828067 ,  2.828733  ],\n",
              "       ...,\n",
              "       [-0.9373422 ,  1.2270724 , -0.3168971 ],\n",
              "       [ 5.2240043 , -2.7014272 , -3.2684827 ],\n",
              "       [ 0.98601747, -3.6980367 ,  0.8204336 ]], dtype=float32)"
            ]
          },
          "metadata": {},
          "execution_count": 109
        }
      ],
      "source": [
        "ypred = model.predict(x_test_enc)\n",
        "ypred\n"
      ]
    },
    {
      "cell_type": "markdown",
      "source": [
        "## converting real number into numbers 0,1 and 2 reprsenting three classes"
      ],
      "metadata": {
        "id": "NSxXtv_wo-mN"
      }
    },
    {
      "cell_type": "code",
      "execution_count": 110,
      "metadata": {
        "colab": {
          "base_uri": "https://localhost:8080/"
        },
        "id": "-sXmWuvrEUAl",
        "outputId": "1395c9a3-9d97-45b8-d6c1-bd1257e3929d"
      },
      "outputs": [
        {
          "output_type": "stream",
          "name": "stdout",
          "text": [
            "[2 1 2 0 2 2 0 0 2 2 1 1 0 0 2 0 2 1 2 0 1 0 1 1 1 2 1 1 1 1 1 1 0 2 1 2 2\n",
            " 2 0 0 2 0 0 2 1 0 2 0 2 0 2 1 1 0 1 1 0 0 2 0 2 1 2 1 1 0 0 1 1 2 0 0 0 0\n",
            " 2 0 0 2 0 0 2 2 2 1 0 1 1 2 1 0 0 0 0 1 2 0 2 0 1 0 0 1 0 1 0 1 0 2 2 0 1\n",
            " 2 0 1 0 0 0 2 0 1 2 1 0 0 2 2 0 1 1 1 2 0 1 0 0 1 1 2 0 0 0 0 0 0 1 2 1 2\n",
            " 0 0 0 2 1 2 1 0 2 2 0 2 1 2 2 1 0 2 1 0 0 2 1 1 2 0 0 0 2 1 0 0 0 2 2 0 1\n",
            " 0 2 0 0 0 2 2 1 0 1 0 0 0 1 0 1 2 2 2 0 2 2 2 2 1 0 2 0 1 2 2 1 1 0 2 0 2\n",
            " 2 0 1 0 2 0 0 0 0 0 1 1 2 0 0 2 0 2 0 0 1 2 0 2 1 2 0 1 2 2 1 0 0 0 0 0 1\n",
            " 0 2 0 1 2 2 2 0 2 2 2 1 0 1 2 0 0 2 1 2 0 2 0 2 2 2 0 0 0 1 1 1 1 2 1 1 0\n",
            " 2 1 0 0 0 0 2 2 1 0 0 0 0 2 0 2 1 2 1 0 2 0 1 1 2 0 0 2 0 1 2 0 2 0 0 0 1\n",
            " 1 1 0 0 2 1 2 1 2 0 0 0 0 1 0 2 0 2 2 2 0 2 2 0 2 2 1 2 1 2 1 2 2 2 1 2 1\n",
            " 2 2 0 0 2 0 0 0 0 2 2 1 0 0 2 2 0 2 0 2 2 2 1 1 2 0 1 2 0 0 1 2 2 0 2 1 1\n",
            " 2 0 2 1 0 0 2 1 1 1 2 0 0 0 2 2 0 1 0 1 0 0 0 2 1 0 2 0 2 0 0 2 1 0 2 0 1\n",
            " 1 0 1 0 2 2 2 0 0 0 2 2 1 0 1 2 2 2 2 2 1 2 1 2 0 1 0 0 2 2 0 0 0 0 0 0 2\n",
            " 2 2 0 2 0 0 1 2 2 0 2 1 2 0 2 1 2 0 1 1 0 1 1 2 0 0 1 1 2 0 0 2 0 2 2 2 0\n",
            " 2 0 2 0 2 2 0 1 0 0 0 1 1 1 1 2 2 1 0 2 0 2 2 0 2 2 1 0 0 1 1 1 1 0 2 2 1\n",
            " 2 2 2 2 0 0 0 1 1 2 2 0 0 0 2 0 0 2 0 2 1 1 1 0 2 0 1 0 2 0 0 0 2 2 2 2 1\n",
            " 1 0 0 1 2 1 0 0 2 0 2 0 2 0 2 2 0 0 0 2 1 2 1 2 1 0 2 1 2 1 2 0 0 0 2 2 0\n",
            " 1 0 1 1 0 2 1 2 1 0 0 1 1 2 1 2 2 2 1 1 1 1 1 0 0 2 2 0 0 1 0 0 1 2 2 2 0\n",
            " 1 0 0 0 1 1 0 1 1 0 2 2 1 0 2 2 2 2 0 2 0 1 0 2 1 2 1 1 2 0 0 2 2 1 1 2 2\n",
            " 2 2 0 1 1 0 2 0 0 0 1 1 0 0]\n"
          ]
        }
      ],
      "source": [
        "print(np.argmax(ypred, axis=1))"
      ]
    },
    {
      "cell_type": "code",
      "execution_count": 111,
      "metadata": {
        "colab": {
          "base_uri": "https://localhost:8080/",
          "height": 423
        },
        "id": "nXW9PMzVGmSF",
        "outputId": "3e67d0f3-1442-4e3b-9ce8-c65f30a2cc43"
      },
      "outputs": [
        {
          "output_type": "execute_result",
          "data": {
            "text/plain": [
              "                       id                                              tweet  \\\n",
              "0    1472958183882719233t  So true.  Take control of what you can…get vac...   \n",
              "1    1449995880904470529t  The vaccinated still spread it and are factori...   \n",
              "2    1480413964265660416t  NT records 403 new cases of COVID-19, as it ex...   \n",
              "3    1408119497962057742t  @ochealth You are experimenting with people. B...   \n",
              "4    1439361704320806915t  @LPCPressBox So I guess we’re supposed to just...   \n",
              "..                    ...                                                ...   \n",
              "712  1426222975108407296t  @DrunkenDucksFan @maryloupatey @CP24 https://t...   \n",
              "713  1471836133613084672t  @JustinTrudeau @fordnation Justin, how can you...   \n",
              "714  1472586840301617153t  @ThatAmish1 Have they seen all of the sporting...   \n",
              "715  1423061697556668420t  @mimij1992 @SClarified @OregonGovBrown @OHAOre...   \n",
              "716  1493703003400019976t  @KevinPIvey @Tracinski Because the difference ...   \n",
              "\n",
              "                                         tweet_cleaned  ypred  \n",
              "0    so true   take control of what you can get vac...      2  \n",
              "1    the vaccinated still spread it and are factori...      1  \n",
              "2    nt records 403 new cases of covid 19  as it ex...      2  \n",
              "3     ochealth you are experimenting with people  b...      0  \n",
              "4     lpcpressbox so i guess we are supposed to jus...      2  \n",
              "..                                                 ...    ...  \n",
              "712   drunkenducksfan  maryloupatey  cp24   guess w...      0  \n",
              "713   justintrudeau  fordnation justin  how can you...      1  \n",
              "714   thatamish1 have they seen all of the sporting...      1  \n",
              "715   mimij1992  sclarified  oregongovbrown  ohaore...      0  \n",
              "716   kevinpivey  tracinski because the difference ...      0  \n",
              "\n",
              "[717 rows x 4 columns]"
            ],
            "text/html": [
              "\n",
              "  <div id=\"df-3a244ed2-622e-4041-aa3e-a60506dec9e9\">\n",
              "    <div class=\"colab-df-container\">\n",
              "      <div>\n",
              "<style scoped>\n",
              "    .dataframe tbody tr th:only-of-type {\n",
              "        vertical-align: middle;\n",
              "    }\n",
              "\n",
              "    .dataframe tbody tr th {\n",
              "        vertical-align: top;\n",
              "    }\n",
              "\n",
              "    .dataframe thead th {\n",
              "        text-align: right;\n",
              "    }\n",
              "</style>\n",
              "<table border=\"1\" class=\"dataframe\">\n",
              "  <thead>\n",
              "    <tr style=\"text-align: right;\">\n",
              "      <th></th>\n",
              "      <th>id</th>\n",
              "      <th>tweet</th>\n",
              "      <th>tweet_cleaned</th>\n",
              "      <th>ypred</th>\n",
              "    </tr>\n",
              "  </thead>\n",
              "  <tbody>\n",
              "    <tr>\n",
              "      <th>0</th>\n",
              "      <td>1472958183882719233t</td>\n",
              "      <td>So true.  Take control of what you can…get vac...</td>\n",
              "      <td>so true   take control of what you can get vac...</td>\n",
              "      <td>2</td>\n",
              "    </tr>\n",
              "    <tr>\n",
              "      <th>1</th>\n",
              "      <td>1449995880904470529t</td>\n",
              "      <td>The vaccinated still spread it and are factori...</td>\n",
              "      <td>the vaccinated still spread it and are factori...</td>\n",
              "      <td>1</td>\n",
              "    </tr>\n",
              "    <tr>\n",
              "      <th>2</th>\n",
              "      <td>1480413964265660416t</td>\n",
              "      <td>NT records 403 new cases of COVID-19, as it ex...</td>\n",
              "      <td>nt records 403 new cases of covid 19  as it ex...</td>\n",
              "      <td>2</td>\n",
              "    </tr>\n",
              "    <tr>\n",
              "      <th>3</th>\n",
              "      <td>1408119497962057742t</td>\n",
              "      <td>@ochealth You are experimenting with people. B...</td>\n",
              "      <td>ochealth you are experimenting with people  b...</td>\n",
              "      <td>0</td>\n",
              "    </tr>\n",
              "    <tr>\n",
              "      <th>4</th>\n",
              "      <td>1439361704320806915t</td>\n",
              "      <td>@LPCPressBox So I guess we’re supposed to just...</td>\n",
              "      <td>lpcpressbox so i guess we are supposed to jus...</td>\n",
              "      <td>2</td>\n",
              "    </tr>\n",
              "    <tr>\n",
              "      <th>...</th>\n",
              "      <td>...</td>\n",
              "      <td>...</td>\n",
              "      <td>...</td>\n",
              "      <td>...</td>\n",
              "    </tr>\n",
              "    <tr>\n",
              "      <th>712</th>\n",
              "      <td>1426222975108407296t</td>\n",
              "      <td>@DrunkenDucksFan @maryloupatey @CP24 https://t...</td>\n",
              "      <td>drunkenducksfan  maryloupatey  cp24   guess w...</td>\n",
              "      <td>0</td>\n",
              "    </tr>\n",
              "    <tr>\n",
              "      <th>713</th>\n",
              "      <td>1471836133613084672t</td>\n",
              "      <td>@JustinTrudeau @fordnation Justin, how can you...</td>\n",
              "      <td>justintrudeau  fordnation justin  how can you...</td>\n",
              "      <td>1</td>\n",
              "    </tr>\n",
              "    <tr>\n",
              "      <th>714</th>\n",
              "      <td>1472586840301617153t</td>\n",
              "      <td>@ThatAmish1 Have they seen all of the sporting...</td>\n",
              "      <td>thatamish1 have they seen all of the sporting...</td>\n",
              "      <td>1</td>\n",
              "    </tr>\n",
              "    <tr>\n",
              "      <th>715</th>\n",
              "      <td>1423061697556668420t</td>\n",
              "      <td>@mimij1992 @SClarified @OregonGovBrown @OHAOre...</td>\n",
              "      <td>mimij1992  sclarified  oregongovbrown  ohaore...</td>\n",
              "      <td>0</td>\n",
              "    </tr>\n",
              "    <tr>\n",
              "      <th>716</th>\n",
              "      <td>1493703003400019976t</td>\n",
              "      <td>@KevinPIvey @Tracinski Because the difference ...</td>\n",
              "      <td>kevinpivey  tracinski because the difference ...</td>\n",
              "      <td>0</td>\n",
              "    </tr>\n",
              "  </tbody>\n",
              "</table>\n",
              "<p>717 rows × 4 columns</p>\n",
              "</div>\n",
              "      <button class=\"colab-df-convert\" onclick=\"convertToInteractive('df-3a244ed2-622e-4041-aa3e-a60506dec9e9')\"\n",
              "              title=\"Convert this dataframe to an interactive table.\"\n",
              "              style=\"display:none;\">\n",
              "        \n",
              "  <svg xmlns=\"http://www.w3.org/2000/svg\" height=\"24px\"viewBox=\"0 0 24 24\"\n",
              "       width=\"24px\">\n",
              "    <path d=\"M0 0h24v24H0V0z\" fill=\"none\"/>\n",
              "    <path d=\"M18.56 5.44l.94 2.06.94-2.06 2.06-.94-2.06-.94-.94-2.06-.94 2.06-2.06.94zm-11 1L8.5 8.5l.94-2.06 2.06-.94-2.06-.94L8.5 2.5l-.94 2.06-2.06.94zm10 10l.94 2.06.94-2.06 2.06-.94-2.06-.94-.94-2.06-.94 2.06-2.06.94z\"/><path d=\"M17.41 7.96l-1.37-1.37c-.4-.4-.92-.59-1.43-.59-.52 0-1.04.2-1.43.59L10.3 9.45l-7.72 7.72c-.78.78-.78 2.05 0 2.83L4 21.41c.39.39.9.59 1.41.59.51 0 1.02-.2 1.41-.59l7.78-7.78 2.81-2.81c.8-.78.8-2.07 0-2.86zM5.41 20L4 18.59l7.72-7.72 1.47 1.35L5.41 20z\"/>\n",
              "  </svg>\n",
              "      </button>\n",
              "      \n",
              "  <style>\n",
              "    .colab-df-container {\n",
              "      display:flex;\n",
              "      flex-wrap:wrap;\n",
              "      gap: 12px;\n",
              "    }\n",
              "\n",
              "    .colab-df-convert {\n",
              "      background-color: #E8F0FE;\n",
              "      border: none;\n",
              "      border-radius: 50%;\n",
              "      cursor: pointer;\n",
              "      display: none;\n",
              "      fill: #1967D2;\n",
              "      height: 32px;\n",
              "      padding: 0 0 0 0;\n",
              "      width: 32px;\n",
              "    }\n",
              "\n",
              "    .colab-df-convert:hover {\n",
              "      background-color: #E2EBFA;\n",
              "      box-shadow: 0px 1px 2px rgba(60, 64, 67, 0.3), 0px 1px 3px 1px rgba(60, 64, 67, 0.15);\n",
              "      fill: #174EA6;\n",
              "    }\n",
              "\n",
              "    [theme=dark] .colab-df-convert {\n",
              "      background-color: #3B4455;\n",
              "      fill: #D2E3FC;\n",
              "    }\n",
              "\n",
              "    [theme=dark] .colab-df-convert:hover {\n",
              "      background-color: #434B5C;\n",
              "      box-shadow: 0px 1px 3px 1px rgba(0, 0, 0, 0.15);\n",
              "      filter: drop-shadow(0px 1px 2px rgba(0, 0, 0, 0.3));\n",
              "      fill: #FFFFFF;\n",
              "    }\n",
              "  </style>\n",
              "\n",
              "      <script>\n",
              "        const buttonEl =\n",
              "          document.querySelector('#df-3a244ed2-622e-4041-aa3e-a60506dec9e9 button.colab-df-convert');\n",
              "        buttonEl.style.display =\n",
              "          google.colab.kernel.accessAllowed ? 'block' : 'none';\n",
              "\n",
              "        async function convertToInteractive(key) {\n",
              "          const element = document.querySelector('#df-3a244ed2-622e-4041-aa3e-a60506dec9e9');\n",
              "          const dataTable =\n",
              "            await google.colab.kernel.invokeFunction('convertToInteractive',\n",
              "                                                     [key], {});\n",
              "          if (!dataTable) return;\n",
              "\n",
              "          const docLinkHtml = 'Like what you see? Visit the ' +\n",
              "            '<a target=\"_blank\" href=https://colab.research.google.com/notebooks/data_table.ipynb>data table notebook</a>'\n",
              "            + ' to learn more about interactive tables.';\n",
              "          element.innerHTML = '';\n",
              "          dataTable['output_type'] = 'display_data';\n",
              "          await google.colab.output.renderOutput(dataTable, element);\n",
              "          const docLink = document.createElement('div');\n",
              "          docLink.innerHTML = docLinkHtml;\n",
              "          element.appendChild(docLink);\n",
              "        }\n",
              "      </script>\n",
              "    </div>\n",
              "  </div>\n",
              "  "
            ]
          },
          "metadata": {},
          "execution_count": 111
        }
      ],
      "source": [
        "df_test['ypred'] = np.argmax(ypred, axis=1)\n",
        "df_test"
      ]
    },
    {
      "cell_type": "markdown",
      "source": [
        "## Converting y_pred from number to String Category"
      ],
      "metadata": {
        "id": "mZwHnU4rpKei"
      }
    },
    {
      "cell_type": "code",
      "source": [
        "M1 = {\n",
        "    0: 'Provax',\n",
        "    1: 'Antivax',\n",
        "    2: 'Neutral'\n",
        "}\n",
        "df_test['ypred'] = df_test['ypred'].map(M1)"
      ],
      "metadata": {
        "id": "IxLduH9n5qfZ"
      },
      "execution_count": 112,
      "outputs": []
    },
    {
      "cell_type": "markdown",
      "source": [
        "## Finally Creating Task1_answer.csv file which contains output prediction for each row/ data."
      ],
      "metadata": {
        "id": "nsGOC6mCpYAf"
      }
    },
    {
      "cell_type": "code",
      "source": [
        "df_test.to_csv(\"task1_answer.csv\")"
      ],
      "metadata": {
        "id": "DRPkW3zz50R1"
      },
      "execution_count": 113,
      "outputs": []
    },
    {
      "cell_type": "markdown",
      "source": [
        "# Now calcultaing Precision, Recall, F1 score for Validation set"
      ],
      "metadata": {
        "id": "sI2B55MqpwBF"
      }
    },
    {
      "cell_type": "markdown",
      "source": [
        "#### Converting validation data into vector spaces"
      ],
      "metadata": {
        "id": "auuBoA_7q1LZ"
      }
    },
    {
      "cell_type": "code",
      "source": [
        "x_val_enc  = fast_encode(x_valid, fast_tokenizer, maxlen=max_len) "
      ],
      "metadata": {
        "id": "BZnVIVgLtutK"
      },
      "execution_count": 114,
      "outputs": []
    },
    {
      "cell_type": "markdown",
      "source": [
        "#### Running model for x_val_enc (validation set)"
      ],
      "metadata": {
        "id": "4-O6bpp3rH-G"
      }
    },
    {
      "cell_type": "markdown",
      "source": [
        "#### Converting real number into numbers 0,1 and 2 reprsenting three classes for Validation data"
      ],
      "metadata": {
        "id": "-u4nlcbwrSld"
      }
    },
    {
      "cell_type": "code",
      "source": [
        "y_pred_val = model.predict(x_val_enc)\n",
        "y_pred_val"
      ],
      "metadata": {
        "colab": {
          "base_uri": "https://localhost:8080/"
        },
        "id": "nh5aDv3DuPyf",
        "outputId": "b5f0a1e9-cdc1-40e5-98bc-7031e701bed0"
      },
      "execution_count": 115,
      "outputs": [
        {
          "output_type": "stream",
          "name": "stdout",
          "text": [
            "14/14 [==============================] - 8s 545ms/step\n"
          ]
        },
        {
          "output_type": "execute_result",
          "data": {
            "text/plain": [
              "array([[-1.3440373 , -1.0769017 ,  2.3314114 ],\n",
              "       [ 2.6978436 , -3.889159  ,  0.423849  ],\n",
              "       [-3.3523328 ,  3.0127406 ,  1.603378  ],\n",
              "       ...,\n",
              "       [ 6.2591825 , -3.2070162 , -3.304051  ],\n",
              "       [ 2.9504476 , -4.2791963 , -0.19849436],\n",
              "       [ 1.3614838 , -2.3011959 ,  0.44885072]], dtype=float32)"
            ]
          },
          "metadata": {},
          "execution_count": 115
        }
      ]
    },
    {
      "cell_type": "code",
      "source": [
        "print(np.argmax(y_pred_val, axis=1)) "
      ],
      "metadata": {
        "colab": {
          "base_uri": "https://localhost:8080/"
        },
        "id": "e8x20SHHufPD",
        "outputId": "96d95004-911e-4d7f-a10e-35dc27675653"
      },
      "execution_count": 116,
      "outputs": [
        {
          "output_type": "stream",
          "name": "stdout",
          "text": [
            "[2 0 1 1 2 1 0 1 1 1 2 2 0 2 0 0 0 2 0 2 0 0 0 0 0 2 0 2 0 1 2 0 0 0 0 0 1\n",
            " 2 2 0 2 0 0 2 0 2 0 2 1 0 2 0 2 1 0 1 1 2 0 0 0 2 2 0 0 1 2 1 0 0 1 2 2 1\n",
            " 0 0 0 1 0 0 1 1 2 0 1 2 2 1 0 2 1 0 0 2 0 0 2 2 1 2 2 1 0 2 1 0 1 2 2 0 2\n",
            " 0 0 0 0 0 0 2 0 2 2 2 2 0 2 0 0 2 0 1 1 2 0 1 0 1 0 2 0 2 2 2 0 0 0 1 1 0\n",
            " 0 2 2 2 1 0 0 0 0 0 1 0 0 0 1 1 0 0 2 2 0 0 2 0 1 1 0 2 2 0 0 1 0 1 0 2 0\n",
            " 2 2 0 2 1 2 1 0 2 2 0 0 0 0 2 0 2 0 2 2 2 0 2 2 0 0 0 1 0 0 0 2 0 2 2 0 1\n",
            " 1 2 1 2 0 0 2 1 0 1 0 2 2 0 1 0 0 0 1 2 2 0 1 0 2 0 0 2 0 1 1 1 2 2 2 2 2\n",
            " 1 1 1 2 1 2 0 0 1 2 1 1 2 2 0 0 0 2 0 1 0 0 0 0 1 0 0 0 0 2 1 0 0 2 2 2 0\n",
            " 2 2 1 0 0 0 2 0 2 2 1 1 0 1 2 1 0 0 2 1 2 1 0 0 2 2 0 2 1 1 2 0 0 2 2 2 0\n",
            " 0 1 1 0 0 0 2 2 2 0 1 0 2 2 2 1 0 0 1 1 2 2 2 2 2 2 0 2 0 0 0 2 2 2 2 0 2\n",
            " 0 1 2 2 2 0 0 0 1 2 0 0 2 1 1 0 0 2 1 1 1 2 0 0 0 0 0 2 2 0 0 0 1 1 0 0 1\n",
            " 1 1 2 2 2 0 1 0 0 0 0 0 2 2 0 1 0 0 2 0 1 0 1 2 0 1 0 1 2 2 0 0 0]\n"
          ]
        }
      ]
    },
    {
      "cell_type": "code",
      "source": [
        "df_valid['ypred'] = np.argmax(y_pred_val, axis=1)\n",
        "df_valid"
      ],
      "metadata": {
        "colab": {
          "base_uri": "https://localhost:8080/",
          "height": 624
        },
        "id": "WBQesGUVu0sW",
        "outputId": "2b666b7f-46cf-4e44-fc3c-767870e29c7f"
      },
      "execution_count": 117,
      "outputs": [
        {
          "output_type": "stream",
          "name": "stderr",
          "text": [
            "<ipython-input-117-2b5af62e3e3b>:1: SettingWithCopyWarning: \n",
            "A value is trying to be set on a copy of a slice from a DataFrame.\n",
            "Try using .loc[row_indexer,col_indexer] = value instead\n",
            "\n",
            "See the caveats in the documentation: https://pandas.pydata.org/pandas-docs/stable/user_guide/indexing.html#returning-a-view-versus-a-copy\n",
            "  df_valid['ypred'] = np.argmax(y_pred_val, axis=1)\n"
          ]
        },
        {
          "output_type": "execute_result",
          "data": {
            "text/plain": [
              "                       id                                              tweet  \\\n",
              "691   1307975350383792128  @udchuck @JoMacpherson6 @marklevinshow Read up...   \n",
              "107   1325860793783554053  We’d never heard of coronavirus when work bega...   \n",
              "75    1249710694125076482  @IngrahamAngle I’m curious about the Pneumonia...   \n",
              "371   1325822304815894531  No way im letting that mass murderer Bill Gate...   \n",
              "1663  1325684180483600384  Moderna on track to report late-stage COVID-19...   \n",
              "...                   ...                                                ...   \n",
              "2696  1333442672871284742  Moderna to ask health regulators to authorize ...   \n",
              "1856  1268940950908424199  @leventkemaI probabalistic Political solution ...   \n",
              "26    1325878299936120838  Good News: Pfizer COVID-19 vaccine 90 percent ...   \n",
              "4295  1271896099570114562  friendly reminder: covid isn’t over. there’s n...   \n",
              "2460  1334064383316664324  BBCBreakfast: “People will trust this more as ...   \n",
              "\n",
              "        label  Sentiment_Cat  \\\n",
              "691   AntiVax              1   \n",
              "107   Neutral              2   \n",
              "75    Neutral              2   \n",
              "371   AntiVax              1   \n",
              "1663  Neutral              2   \n",
              "...       ...            ...   \n",
              "2696  Neutral              2   \n",
              "1856  Neutral              2   \n",
              "26     ProVax              0   \n",
              "4295   ProVax              0   \n",
              "2460  Neutral              2   \n",
              "\n",
              "                                          tweet_cleaned  ypred  \n",
              "691    udchuck  jomacpherson6  marklevinshow read up...      2  \n",
              "107   we would never heard of coronavirus when work ...      0  \n",
              "75     ingrahamangle i am curious about the pneumoni...      1  \n",
              "371   no way i am letting that mass murderer bill ga...      1  \n",
              "1663  moderna on track to report late stage covid 19...      2  \n",
              "...                                                 ...    ...  \n",
              "2696  moderna to ask health regulators to authorize ...      2  \n",
              "1856   leventkemai probabalistic political solution ...      2  \n",
              "26    good news  pfizer covid 19 vaccine 90 percent ...      0  \n",
              "4295  friendly reminder  covid is not over  there is...      0  \n",
              "2460  bbcbreakfast   people will trust this more as ...      0  \n",
              "\n",
              "[440 rows x 6 columns]"
            ],
            "text/html": [
              "\n",
              "  <div id=\"df-633468f6-c3c0-46ca-9ebe-5c865f1aa289\">\n",
              "    <div class=\"colab-df-container\">\n",
              "      <div>\n",
              "<style scoped>\n",
              "    .dataframe tbody tr th:only-of-type {\n",
              "        vertical-align: middle;\n",
              "    }\n",
              "\n",
              "    .dataframe tbody tr th {\n",
              "        vertical-align: top;\n",
              "    }\n",
              "\n",
              "    .dataframe thead th {\n",
              "        text-align: right;\n",
              "    }\n",
              "</style>\n",
              "<table border=\"1\" class=\"dataframe\">\n",
              "  <thead>\n",
              "    <tr style=\"text-align: right;\">\n",
              "      <th></th>\n",
              "      <th>id</th>\n",
              "      <th>tweet</th>\n",
              "      <th>label</th>\n",
              "      <th>Sentiment_Cat</th>\n",
              "      <th>tweet_cleaned</th>\n",
              "      <th>ypred</th>\n",
              "    </tr>\n",
              "  </thead>\n",
              "  <tbody>\n",
              "    <tr>\n",
              "      <th>691</th>\n",
              "      <td>1307975350383792128</td>\n",
              "      <td>@udchuck @JoMacpherson6 @marklevinshow Read up...</td>\n",
              "      <td>AntiVax</td>\n",
              "      <td>1</td>\n",
              "      <td>udchuck  jomacpherson6  marklevinshow read up...</td>\n",
              "      <td>2</td>\n",
              "    </tr>\n",
              "    <tr>\n",
              "      <th>107</th>\n",
              "      <td>1325860793783554053</td>\n",
              "      <td>We’d never heard of coronavirus when work bega...</td>\n",
              "      <td>Neutral</td>\n",
              "      <td>2</td>\n",
              "      <td>we would never heard of coronavirus when work ...</td>\n",
              "      <td>0</td>\n",
              "    </tr>\n",
              "    <tr>\n",
              "      <th>75</th>\n",
              "      <td>1249710694125076482</td>\n",
              "      <td>@IngrahamAngle I’m curious about the Pneumonia...</td>\n",
              "      <td>Neutral</td>\n",
              "      <td>2</td>\n",
              "      <td>ingrahamangle i am curious about the pneumoni...</td>\n",
              "      <td>1</td>\n",
              "    </tr>\n",
              "    <tr>\n",
              "      <th>371</th>\n",
              "      <td>1325822304815894531</td>\n",
              "      <td>No way im letting that mass murderer Bill Gate...</td>\n",
              "      <td>AntiVax</td>\n",
              "      <td>1</td>\n",
              "      <td>no way i am letting that mass murderer bill ga...</td>\n",
              "      <td>1</td>\n",
              "    </tr>\n",
              "    <tr>\n",
              "      <th>1663</th>\n",
              "      <td>1325684180483600384</td>\n",
              "      <td>Moderna on track to report late-stage COVID-19...</td>\n",
              "      <td>Neutral</td>\n",
              "      <td>2</td>\n",
              "      <td>moderna on track to report late stage covid 19...</td>\n",
              "      <td>2</td>\n",
              "    </tr>\n",
              "    <tr>\n",
              "      <th>...</th>\n",
              "      <td>...</td>\n",
              "      <td>...</td>\n",
              "      <td>...</td>\n",
              "      <td>...</td>\n",
              "      <td>...</td>\n",
              "      <td>...</td>\n",
              "    </tr>\n",
              "    <tr>\n",
              "      <th>2696</th>\n",
              "      <td>1333442672871284742</td>\n",
              "      <td>Moderna to ask health regulators to authorize ...</td>\n",
              "      <td>Neutral</td>\n",
              "      <td>2</td>\n",
              "      <td>moderna to ask health regulators to authorize ...</td>\n",
              "      <td>2</td>\n",
              "    </tr>\n",
              "    <tr>\n",
              "      <th>1856</th>\n",
              "      <td>1268940950908424199</td>\n",
              "      <td>@leventkemaI probabalistic Political solution ...</td>\n",
              "      <td>Neutral</td>\n",
              "      <td>2</td>\n",
              "      <td>leventkemai probabalistic political solution ...</td>\n",
              "      <td>2</td>\n",
              "    </tr>\n",
              "    <tr>\n",
              "      <th>26</th>\n",
              "      <td>1325878299936120838</td>\n",
              "      <td>Good News: Pfizer COVID-19 vaccine 90 percent ...</td>\n",
              "      <td>ProVax</td>\n",
              "      <td>0</td>\n",
              "      <td>good news  pfizer covid 19 vaccine 90 percent ...</td>\n",
              "      <td>0</td>\n",
              "    </tr>\n",
              "    <tr>\n",
              "      <th>4295</th>\n",
              "      <td>1271896099570114562</td>\n",
              "      <td>friendly reminder: covid isn’t over. there’s n...</td>\n",
              "      <td>ProVax</td>\n",
              "      <td>0</td>\n",
              "      <td>friendly reminder  covid is not over  there is...</td>\n",
              "      <td>0</td>\n",
              "    </tr>\n",
              "    <tr>\n",
              "      <th>2460</th>\n",
              "      <td>1334064383316664324</td>\n",
              "      <td>BBCBreakfast: “People will trust this more as ...</td>\n",
              "      <td>Neutral</td>\n",
              "      <td>2</td>\n",
              "      <td>bbcbreakfast   people will trust this more as ...</td>\n",
              "      <td>0</td>\n",
              "    </tr>\n",
              "  </tbody>\n",
              "</table>\n",
              "<p>440 rows × 6 columns</p>\n",
              "</div>\n",
              "      <button class=\"colab-df-convert\" onclick=\"convertToInteractive('df-633468f6-c3c0-46ca-9ebe-5c865f1aa289')\"\n",
              "              title=\"Convert this dataframe to an interactive table.\"\n",
              "              style=\"display:none;\">\n",
              "        \n",
              "  <svg xmlns=\"http://www.w3.org/2000/svg\" height=\"24px\"viewBox=\"0 0 24 24\"\n",
              "       width=\"24px\">\n",
              "    <path d=\"M0 0h24v24H0V0z\" fill=\"none\"/>\n",
              "    <path d=\"M18.56 5.44l.94 2.06.94-2.06 2.06-.94-2.06-.94-.94-2.06-.94 2.06-2.06.94zm-11 1L8.5 8.5l.94-2.06 2.06-.94-2.06-.94L8.5 2.5l-.94 2.06-2.06.94zm10 10l.94 2.06.94-2.06 2.06-.94-2.06-.94-.94-2.06-.94 2.06-2.06.94z\"/><path d=\"M17.41 7.96l-1.37-1.37c-.4-.4-.92-.59-1.43-.59-.52 0-1.04.2-1.43.59L10.3 9.45l-7.72 7.72c-.78.78-.78 2.05 0 2.83L4 21.41c.39.39.9.59 1.41.59.51 0 1.02-.2 1.41-.59l7.78-7.78 2.81-2.81c.8-.78.8-2.07 0-2.86zM5.41 20L4 18.59l7.72-7.72 1.47 1.35L5.41 20z\"/>\n",
              "  </svg>\n",
              "      </button>\n",
              "      \n",
              "  <style>\n",
              "    .colab-df-container {\n",
              "      display:flex;\n",
              "      flex-wrap:wrap;\n",
              "      gap: 12px;\n",
              "    }\n",
              "\n",
              "    .colab-df-convert {\n",
              "      background-color: #E8F0FE;\n",
              "      border: none;\n",
              "      border-radius: 50%;\n",
              "      cursor: pointer;\n",
              "      display: none;\n",
              "      fill: #1967D2;\n",
              "      height: 32px;\n",
              "      padding: 0 0 0 0;\n",
              "      width: 32px;\n",
              "    }\n",
              "\n",
              "    .colab-df-convert:hover {\n",
              "      background-color: #E2EBFA;\n",
              "      box-shadow: 0px 1px 2px rgba(60, 64, 67, 0.3), 0px 1px 3px 1px rgba(60, 64, 67, 0.15);\n",
              "      fill: #174EA6;\n",
              "    }\n",
              "\n",
              "    [theme=dark] .colab-df-convert {\n",
              "      background-color: #3B4455;\n",
              "      fill: #D2E3FC;\n",
              "    }\n",
              "\n",
              "    [theme=dark] .colab-df-convert:hover {\n",
              "      background-color: #434B5C;\n",
              "      box-shadow: 0px 1px 3px 1px rgba(0, 0, 0, 0.15);\n",
              "      filter: drop-shadow(0px 1px 2px rgba(0, 0, 0, 0.3));\n",
              "      fill: #FFFFFF;\n",
              "    }\n",
              "  </style>\n",
              "\n",
              "      <script>\n",
              "        const buttonEl =\n",
              "          document.querySelector('#df-633468f6-c3c0-46ca-9ebe-5c865f1aa289 button.colab-df-convert');\n",
              "        buttonEl.style.display =\n",
              "          google.colab.kernel.accessAllowed ? 'block' : 'none';\n",
              "\n",
              "        async function convertToInteractive(key) {\n",
              "          const element = document.querySelector('#df-633468f6-c3c0-46ca-9ebe-5c865f1aa289');\n",
              "          const dataTable =\n",
              "            await google.colab.kernel.invokeFunction('convertToInteractive',\n",
              "                                                     [key], {});\n",
              "          if (!dataTable) return;\n",
              "\n",
              "          const docLinkHtml = 'Like what you see? Visit the ' +\n",
              "            '<a target=\"_blank\" href=https://colab.research.google.com/notebooks/data_table.ipynb>data table notebook</a>'\n",
              "            + ' to learn more about interactive tables.';\n",
              "          element.innerHTML = '';\n",
              "          dataTable['output_type'] = 'display_data';\n",
              "          await google.colab.output.renderOutput(dataTable, element);\n",
              "          const docLink = document.createElement('div');\n",
              "          docLink.innerHTML = docLinkHtml;\n",
              "          element.appendChild(docLink);\n",
              "        }\n",
              "      </script>\n",
              "    </div>\n",
              "  </div>\n",
              "  "
            ]
          },
          "metadata": {},
          "execution_count": 117
        }
      ]
    },
    {
      "cell_type": "markdown",
      "source": [
        "## Confusion Matrix of Validation Set"
      ],
      "metadata": {
        "id": "mNGuRM3csTyT"
      }
    },
    {
      "cell_type": "code",
      "execution_count": 118,
      "metadata": {
        "colab": {
          "base_uri": "https://localhost:8080/",
          "height": 472
        },
        "id": "3XLO099856Xm",
        "outputId": "47464cc4-334a-4b40-ccaf-9e1fc465e7b9"
      },
      "outputs": [
        {
          "output_type": "display_data",
          "data": {
            "text/plain": [
              "<Figure size 640x480 with 1 Axes>"
            ],
            "image/png": "[encoded data removed]"
          },
          "metadata": {}
        }
      ],
      "source": [
        "y_map_inv = {\n",
        "    0: 'ProVax',\n",
        "    1: 'AntiVax',\n",
        "    2: 'Neutral'\n",
        "}\n",
        "\n",
        "sns.heatmap(\n",
        "    pd.crosstab(df_valid['ypred'].map(y_map_inv), df_valid['Sentiment_Cat'].map(y_map_inv)),\n",
        "    annot=True,\n",
        "    fmt='0.0f',\n",
        "    cbar=False,\n",
        "    linewidth=2,\n",
        "    cmap='coolwarm'     \n",
        ")\n",
        "\n",
        "plt.xlabel('True')\n",
        "plt.ylabel('Predicted')\n",
        "plt.title('Confusion Matrix');"
      ]
    },
    {
      "cell_type": "markdown",
      "source": [
        "## confusion matrix"
      ],
      "metadata": {
        "id": "AKUtPQUQskec"
      }
    },
    {
      "cell_type": "code",
      "source": [
        "y_test = df_valid['Sentiment_Cat'].map(y_map_inv)\n",
        "y_pred = df_valid['ypred'].map(y_map_inv)\n",
        "#importing confusion matrix\n",
        "from sklearn.metrics import confusion_matrix\n",
        "confusion = confusion_matrix(y_test, y_pred)\n",
        "print('Confusion Matrix')\n",
        "print(confusion)\n"
      ],
      "metadata": {
        "colab": {
          "base_uri": "https://localhost:8080/"
        },
        "id": "N7KnsURRsoI_",
        "outputId": "aa3ad3b8-326c-4f42-f066-4e01a19491d4"
      },
      "execution_count": 119,
      "outputs": [
        {
          "output_type": "stream",
          "name": "stdout",
          "text": [
            "Confusion Matrix\n",
            "[[ 84  18   6]\n",
            " [ 10 114  40]\n",
            " [  3  17 148]]\n"
          ]
        }
      ]
    },
    {
      "cell_type": "markdown",
      "source": [
        "### Importing accuracy_score, precision_score, recall_score, f1_score"
      ],
      "metadata": {
        "id": "qIklGq1Ks2qG"
      }
    },
    {
      "cell_type": "code",
      "source": [
        "from sklearn.metrics import accuracy_score, precision_score, recall_score, f1_score"
      ],
      "metadata": {
        "id": "b6A4NpHVtSGs"
      },
      "execution_count": 120,
      "outputs": []
    },
    {
      "cell_type": "code",
      "execution_count": 121,
      "metadata": {
        "id": "emwFinxTloyj",
        "colab": {
          "base_uri": "https://localhost:8080/"
        },
        "outputId": "4793a6a0-60fd-4d8f-9c83-8a9d12187e7e"
      },
      "outputs": [
        {
          "output_type": "stream",
          "name": "stdout",
          "text": [
            "Accuracy is:  0.7863636363636364\n",
            "\n",
            "Weighted Precision is:  0.7890164357195423\n",
            "Weighted Recall is:  0.7863636363636364\n",
            "Weighted F1-score is:  0.7848653218294763\n"
          ]
        }
      ],
      "source": [
        "print('Accuracy is: ', (accuracy_score(y_test, y_pred)))\n",
        "print()\n",
        "print('Weighted Precision is: ',(precision_score(y_test, y_pred, average='weighted')))\n",
        "print('Weighted Recall is: ',(recall_score(y_test, y_pred, average='weighted')))\n",
        "print('Weighted F1-score is: ',(f1_score(y_test, y_pred, average='weighted')))\n",
        "\n"
      ]
    }
  ],
  "metadata": {
    "accelerator": "GPU",
    "colab": {
      "provenance": []
    },
    "kernelspec": {
      "display_name": "Python 3 (ipykernel)",
      "language": "python",
      "name": "python3"
    },
    "language_info": {
      "codemirror_mode": {
        "name": "ipython",
        "version": 3
      },
      "file_extension": ".py",
      "mimetype": "text/x-python",
      "name": "python",
      "nbconvert_exporter": "python",
      "pygments_lexer": "ipython3",
      "version": "3.10.8"
    },
    "gpuClass": "standard"
  },
  "nbformat": 4,
  "nbformat_minor": 0
}